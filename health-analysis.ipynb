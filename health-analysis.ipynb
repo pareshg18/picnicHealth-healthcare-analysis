{
 "cells": [
  {
   "cell_type": "code",
   "execution_count": 1,
   "metadata": {},
   "outputs": [],
   "source": [
    "import pandas as pd\n",
    "import numpy as np\n",
    "import os\n",
    "import glob\n",
    "import seaborn as sns\n",
    "import matplotlib.pyplot as plt"
   ]
  },
  {
   "cell_type": "code",
   "execution_count": 2,
   "metadata": {},
   "outputs": [
    {
     "data": {
      "text/plain": [
       "'C:\\\\Users\\\\pares\\\\Downloads\\\\ds_questions\\\\ds_questions\\\\massandopolis'"
      ]
     },
     "execution_count": 2,
     "metadata": {},
     "output_type": "execute_result"
    }
   ],
   "source": [
    "os.chdir('C:\\\\Users\\\\pares\\\\Downloads\\\\ds_questions\\\\ds_questions\\\\massandopolis')\n",
    "os.getcwd()"
   ]
  },
  {
   "cell_type": "code",
   "execution_count": 3,
   "metadata": {},
   "outputs": [
    {
     "data": {
      "text/plain": [
       "['allergies.csv',\n",
       " 'careplans.csv',\n",
       " 'concepts.csv',\n",
       " 'conditions.csv',\n",
       " 'encounters.csv',\n",
       " 'imaging_studies.csv',\n",
       " 'immunizations.csv',\n",
       " 'medications.csv',\n",
       " 'observations.csv',\n",
       " 'organizations.csv',\n",
       " 'patients.csv',\n",
       " 'patients_updated.csv',\n",
       " 'procedures.csv',\n",
       " 'providers.csv']"
      ]
     },
     "execution_count": 3,
     "metadata": {},
     "output_type": "execute_result"
    }
   ],
   "source": [
    "#what's my data?\n",
    "all_files = glob.glob('*.csv')\n",
    "all_files"
   ]
  },
  {
   "cell_type": "markdown",
   "metadata": {},
   "source": [
    "### Summary\n",
    "-  Uptill now, we found people in Massandapolis were suferring from addiction related issues in the 1990s which claimed a lot of lives. I want to understand how fit the people were?\n",
    "- For that, we'll look at immunizations and observations table and analyze the health paramters for different patients and analyze how many individuals were vaccinated and how many weren't.\n",
    "\n",
    "\n"
   ]
  },
  {
   "cell_type": "code",
   "execution_count": 119,
   "metadata": {},
   "outputs": [
    {
     "name": "stdout",
     "output_type": "stream",
     "text": [
      "<class 'pandas.core.frame.DataFrame'>\n",
      "RangeIndex: 3199998 entries, 0 to 3199997\n",
      "Data columns (total 8 columns):\n",
      "date           object\n",
      "patient        object\n",
      "encounter      object\n",
      "code           object\n",
      "description    object\n",
      "value          object\n",
      "units          object\n",
      "type           object\n",
      "dtypes: object(8)\n",
      "memory usage: 195.3+ MB\n"
     ]
    },
    {
     "data": {
      "text/html": [
       "<div>\n",
       "<style scoped>\n",
       "    .dataframe tbody tr th:only-of-type {\n",
       "        vertical-align: middle;\n",
       "    }\n",
       "\n",
       "    .dataframe tbody tr th {\n",
       "        vertical-align: top;\n",
       "    }\n",
       "\n",
       "    .dataframe thead th {\n",
       "        text-align: right;\n",
       "    }\n",
       "</style>\n",
       "<table border=\"1\" class=\"dataframe\">\n",
       "  <thead>\n",
       "    <tr style=\"text-align: right;\">\n",
       "      <th></th>\n",
       "      <th>date</th>\n",
       "      <th>patient</th>\n",
       "      <th>encounter</th>\n",
       "      <th>code</th>\n",
       "      <th>description</th>\n",
       "      <th>value</th>\n",
       "      <th>units</th>\n",
       "      <th>type</th>\n",
       "    </tr>\n",
       "  </thead>\n",
       "  <tbody>\n",
       "    <tr>\n",
       "      <th>0</th>\n",
       "      <td>2013-02-10</td>\n",
       "      <td>c0d528b6-cdae-4d98-8936-a270f8827eb7</td>\n",
       "      <td>1ef67c37-7306-4be4-9668-a93f34972544</td>\n",
       "      <td>8302-2</td>\n",
       "      <td>Body Height</td>\n",
       "      <td>55.2</td>\n",
       "      <td>cm</td>\n",
       "      <td>numeric</td>\n",
       "    </tr>\n",
       "    <tr>\n",
       "      <th>1</th>\n",
       "      <td>2013-02-10</td>\n",
       "      <td>c0d528b6-cdae-4d98-8936-a270f8827eb7</td>\n",
       "      <td>1ef67c37-7306-4be4-9668-a93f34972544</td>\n",
       "      <td>72514-3</td>\n",
       "      <td>Pain severity - 0-10 verbal numeric rating [Sc...</td>\n",
       "      <td>3.4</td>\n",
       "      <td>{score}</td>\n",
       "      <td>numeric</td>\n",
       "    </tr>\n",
       "    <tr>\n",
       "      <th>2</th>\n",
       "      <td>2013-02-10</td>\n",
       "      <td>c0d528b6-cdae-4d98-8936-a270f8827eb7</td>\n",
       "      <td>1ef67c37-7306-4be4-9668-a93f34972544</td>\n",
       "      <td>29463-7</td>\n",
       "      <td>Body Weight</td>\n",
       "      <td>4.3</td>\n",
       "      <td>kg</td>\n",
       "      <td>numeric</td>\n",
       "    </tr>\n",
       "    <tr>\n",
       "      <th>3</th>\n",
       "      <td>2013-02-10</td>\n",
       "      <td>c0d528b6-cdae-4d98-8936-a270f8827eb7</td>\n",
       "      <td>1ef67c37-7306-4be4-9668-a93f34972544</td>\n",
       "      <td>8462-4</td>\n",
       "      <td>Diastolic Blood Pressure</td>\n",
       "      <td>74.6</td>\n",
       "      <td>mm[Hg]</td>\n",
       "      <td>numeric</td>\n",
       "    </tr>\n",
       "    <tr>\n",
       "      <th>4</th>\n",
       "      <td>2013-02-10</td>\n",
       "      <td>c0d528b6-cdae-4d98-8936-a270f8827eb7</td>\n",
       "      <td>1ef67c37-7306-4be4-9668-a93f34972544</td>\n",
       "      <td>8480-6</td>\n",
       "      <td>Systolic Blood Pressure</td>\n",
       "      <td>128.2</td>\n",
       "      <td>mm[Hg]</td>\n",
       "      <td>numeric</td>\n",
       "    </tr>\n",
       "  </tbody>\n",
       "</table>\n",
       "</div>"
      ],
      "text/plain": [
       "         date                               patient  \\\n",
       "0  2013-02-10  c0d528b6-cdae-4d98-8936-a270f8827eb7   \n",
       "1  2013-02-10  c0d528b6-cdae-4d98-8936-a270f8827eb7   \n",
       "2  2013-02-10  c0d528b6-cdae-4d98-8936-a270f8827eb7   \n",
       "3  2013-02-10  c0d528b6-cdae-4d98-8936-a270f8827eb7   \n",
       "4  2013-02-10  c0d528b6-cdae-4d98-8936-a270f8827eb7   \n",
       "\n",
       "                              encounter     code  \\\n",
       "0  1ef67c37-7306-4be4-9668-a93f34972544   8302-2   \n",
       "1  1ef67c37-7306-4be4-9668-a93f34972544  72514-3   \n",
       "2  1ef67c37-7306-4be4-9668-a93f34972544  29463-7   \n",
       "3  1ef67c37-7306-4be4-9668-a93f34972544   8462-4   \n",
       "4  1ef67c37-7306-4be4-9668-a93f34972544   8480-6   \n",
       "\n",
       "                                         description  value    units     type  \n",
       "0                                        Body Height   55.2       cm  numeric  \n",
       "1  Pain severity - 0-10 verbal numeric rating [Sc...    3.4  {score}  numeric  \n",
       "2                                        Body Weight    4.3       kg  numeric  \n",
       "3                           Diastolic Blood Pressure   74.6   mm[Hg]  numeric  \n",
       "4                            Systolic Blood Pressure  128.2   mm[Hg]  numeric  "
      ]
     },
     "execution_count": 119,
     "metadata": {},
     "output_type": "execute_result"
    }
   ],
   "source": [
    "observations = pd.read_csv('observations.csv')\n",
    "observations.columns = [i.lower() for i in observations.columns]\n",
    "observations.info()\n",
    "observations.head()"
   ]
  },
  {
   "cell_type": "code",
   "execution_count": 120,
   "metadata": {},
   "outputs": [],
   "source": [
    "#lets first fix our columns\n",
    "observations.date = observations.date.apply(pd.to_datetime)"
   ]
  },
  {
   "cell_type": "code",
   "execution_count": 121,
   "metadata": {},
   "outputs": [
    {
     "data": {
      "text/plain": [
       "Never smoker     115279\n",
       "Former smoker     47830\n",
       "1.0               18898\n",
       "3.9               16825\n",
       "4.0               15436\n",
       "Name: value, dtype: int64"
      ]
     },
     "execution_count": 121,
     "metadata": {},
     "output_type": "execute_result"
    }
   ],
   "source": [
    "observations.value.value_counts().nlargest(5)"
   ]
  },
  {
   "cell_type": "code",
   "execution_count": 122,
   "metadata": {},
   "outputs": [
    {
     "data": {
      "text/plain": [
       "Tobacco smoking status NHIS    163109\n",
       "Name: description, dtype: int64"
      ]
     },
     "execution_count": 122,
     "metadata": {},
     "output_type": "execute_result"
    }
   ],
   "source": [
    "#we also have textual values in the \"value\" column\n",
    "observations.loc[(observations.value == 'Never smoker') | (observations.value == 'Former smoker'),'description'].value_counts()"
   ]
  },
  {
   "cell_type": "code",
   "execution_count": 123,
   "metadata": {},
   "outputs": [
    {
     "data": {
      "text/plain": [
       "date                0\n",
       "patient             0\n",
       "encounter           0\n",
       "code                0\n",
       "description         0\n",
       "value              29\n",
       "units          169450\n",
       "type                0\n",
       "dtype: int64"
      ]
     },
     "execution_count": 123,
     "metadata": {},
     "output_type": "execute_result"
    }
   ],
   "source": [
    "observations.isna().sum()"
   ]
  },
  {
   "cell_type": "code",
   "execution_count": 124,
   "metadata": {},
   "outputs": [
    {
     "data": {
      "text/plain": [
       "Pain severity - 0-10 verbal numeric rating [Score] - Reported               217754\n",
       "Diastolic Blood Pressure                                                    165138\n",
       "Systolic Blood Pressure                                                     165138\n",
       "Body Height                                                                 163795\n",
       "Tobacco smoking status NHIS                                                 163795\n",
       "Body Weight                                                                 163795\n",
       "Body Mass Index                                                             150086\n",
       "Potassium                                                                    97070\n",
       "Urea Nitrogen                                                                97070\n",
       "Sodium                                                                       97070\n",
       "Calcium                                                                      97070\n",
       "Chloride                                                                     97070\n",
       "Carbon Dioxide                                                               97070\n",
       "Creatinine                                                                   97070\n",
       "Glucose                                                                      97070\n",
       "Low Density Lipoprotein Cholesterol                                          81446\n",
       "Triglycerides                                                                81446\n",
       "Total Cholesterol                                                            81446\n",
       "High Density Lipoprotein Cholesterol                                         81446\n",
       "Hemoglobin A1c/Hemoglobin.total in Blood                                     73641\n",
       "Estimated Glomerular Filtration Rate                                         61518\n",
       "Microalbumin Creatinine Ratio                                                37770\n",
       "MCH [Entitic mass] by Automated count                                        33610\n",
       "MCV [Entitic volume] by Automated count                                      33610\n",
       "Platelet mean volume [Entitic volume] in Blood by Automated count            33610\n",
       "Platelet distribution width [Entitic volume] in Blood by Automated count     33610\n",
       "Erythrocyte distribution width [Entitic volume] by Automated count           32205\n",
       "Hematocrit [Volume Fraction] of Blood by Automated count                     32205\n",
       "Hemoglobin [Mass/volume] in Blood                                            29704\n",
       "Platelets [#/volume] in Blood by Automated count                             29609\n",
       "                                                                             ...  \n",
       "Platelet Count                                                                  40\n",
       "Albumin                                                                         40\n",
       "Alkaline Phosphatase                                                            40\n",
       "Hemoglobin                                                                      40\n",
       "Globulin                                                                        40\n",
       "RBC Distribution Width                                                          40\n",
       "ALT (Elevated)                                                                  40\n",
       "White Blood Cell (Elevated)                                                     40\n",
       "PROMIS-10 Global Physical Health (GPH) score                                     6\n",
       "PROMIS-10 Global Mental Health (GMH) score                                       6\n",
       "Symptoms score [KOOS]                                                            4\n",
       "Activities of daily living score [KOOS]                                          4\n",
       "Pain score [KOOS]                                                                4\n",
       "Sport-recreation score [KOOS]                                                    4\n",
       "Quality of life score [KOOS]                                                     4\n",
       "VR-12 General health (GH) score - oblique method                                 2\n",
       "VR-12 Role emotion (RE) score - oblique method                                   2\n",
       "VR-12 Social functioning (SF) score - oblique method                             2\n",
       "VR-12 Bodily pain (BP) score - oblique method                                    2\n",
       "VR-12 Physical functioning (PF) score - oblique method                           2\n",
       "VR-12 Mental health (MH) score - oblique method                                  2\n",
       "VR-12 Vitality (VT) score - oblique method                                       2\n",
       "VR-12 Role physical (RP) score - oblique method                                  2\n",
       "PROMIS-29 Depression score                                                       1\n",
       "PROMIS-29 Pain interference score                                                1\n",
       "PROMIS-29 Satisfaction with participation in social roles score                  1\n",
       "PROMIS-29 Sleep disturbance score                                                1\n",
       "PROMIS-29 Fatigue score                                                          1\n",
       "PROMIS-29 Anxiety score                                                          1\n",
       "PROMIS-29 Physical function score                                                1\n",
       "Name: description, Length: 159, dtype: int64"
      ]
     },
     "execution_count": 124,
     "metadata": {},
     "output_type": "execute_result"
    }
   ],
   "source": [
    "#lets see how many different metrics do we have in total\n",
    "observations.description.value_counts()"
   ]
  },
  {
   "cell_type": "code",
   "execution_count": 125,
   "metadata": {},
   "outputs": [
    {
     "data": {
      "text/plain": [
       "patient\n",
       "e303fe35-bda1-4112-a74c-a916025b3152    17841\n",
       "2b4079aa-99e2-4228-9d13-9e14f67070e8    16717\n",
       "ee16ecac-29a0-453f-87dc-a1672879febe    15985\n",
       "a9aedadc-8633-4578-8b1b-295af0d7afcd    15791\n",
       "7a947108-2bd6-4245-92e3-e8a5125f8f24    14894\n",
       "9c4713b1-936f-415d-aaee-1b059e015d88    14573\n",
       "58d6ab43-5e3d-4b5c-98f5-473a8b18e1f0    13731\n",
       "569567c5-1c28-4997-8034-340b2ad91e36    11883\n",
       "141a5be4-cf95-43b0-b4e6-76d24b14f936     8941\n",
       "d4c4c658-770c-48d3-9497-61f546f5e620     7852\n",
       "dtype: int64"
      ]
     },
     "execution_count": 125,
     "metadata": {},
     "output_type": "execute_result"
    }
   ],
   "source": [
    "#How many rows are there for every patient?\n",
    "observations.groupby('patient').size().sort_values(ascending = False).nlargest(10)"
   ]
  },
  {
   "cell_type": "markdown",
   "metadata": {},
   "source": [
    "Woah! 17k values for 1 patient. Surely there have to be duplicated values."
   ]
  },
  {
   "cell_type": "code",
   "execution_count": 126,
   "metadata": {},
   "outputs": [
    {
     "data": {
      "text/plain": [
       "195"
      ]
     },
     "execution_count": 126,
     "metadata": {},
     "output_type": "execute_result"
    }
   ],
   "source": [
    "#Lets see how many duplicated rows are we dealing here\n",
    "len(observations.loc[observations.duplicated()])"
   ]
  },
  {
   "cell_type": "code",
   "execution_count": 127,
   "metadata": {},
   "outputs": [],
   "source": [
    "observations.drop_duplicates(inplace = True)"
   ]
  },
  {
   "cell_type": "markdown",
   "metadata": {},
   "source": [
    "To look at individual health, we need to assess a few health parameters. Looking at the distribution of description column, lets look at blood pressure, body weight, height and BMI values."
   ]
  },
  {
   "cell_type": "code",
   "execution_count": 163,
   "metadata": {},
   "outputs": [],
   "source": [
    "#before aggregating lets also include patient's DOB\n",
    "patients = pd.read_csv('patients_updated.csv')\n",
    "patients.birthdate = patients.birthdate.apply(pd.to_datetime) \n",
    "observations1 = pd.merge(observations,patients[['id','birth_year']],left_on = 'patient',right_on = 'id',how = 'left')"
   ]
  },
  {
   "cell_type": "code",
   "execution_count": 164,
   "metadata": {},
   "outputs": [
    {
     "data": {
      "text/html": [
       "<div>\n",
       "<style scoped>\n",
       "    .dataframe tbody tr th:only-of-type {\n",
       "        vertical-align: middle;\n",
       "    }\n",
       "\n",
       "    .dataframe tbody tr th {\n",
       "        vertical-align: top;\n",
       "    }\n",
       "\n",
       "    .dataframe thead th {\n",
       "        text-align: right;\n",
       "    }\n",
       "</style>\n",
       "<table border=\"1\" class=\"dataframe\">\n",
       "  <thead>\n",
       "    <tr style=\"text-align: right;\">\n",
       "      <th></th>\n",
       "      <th>date</th>\n",
       "      <th>patient</th>\n",
       "      <th>encounter</th>\n",
       "      <th>code</th>\n",
       "      <th>description</th>\n",
       "      <th>value</th>\n",
       "      <th>units</th>\n",
       "      <th>type</th>\n",
       "      <th>id</th>\n",
       "      <th>birth_year</th>\n",
       "    </tr>\n",
       "  </thead>\n",
       "  <tbody>\n",
       "    <tr>\n",
       "      <th>0</th>\n",
       "      <td>2013-02-10</td>\n",
       "      <td>c0d528b6-cdae-4d98-8936-a270f8827eb7</td>\n",
       "      <td>1ef67c37-7306-4be4-9668-a93f34972544</td>\n",
       "      <td>8302-2</td>\n",
       "      <td>Body Height</td>\n",
       "      <td>55.2</td>\n",
       "      <td>cm</td>\n",
       "      <td>numeric</td>\n",
       "      <td>c0d528b6-cdae-4d98-8936-a270f8827eb7</td>\n",
       "      <td>2013</td>\n",
       "    </tr>\n",
       "    <tr>\n",
       "      <th>1</th>\n",
       "      <td>2013-02-10</td>\n",
       "      <td>c0d528b6-cdae-4d98-8936-a270f8827eb7</td>\n",
       "      <td>1ef67c37-7306-4be4-9668-a93f34972544</td>\n",
       "      <td>72514-3</td>\n",
       "      <td>Pain severity - 0-10 verbal numeric rating [Sc...</td>\n",
       "      <td>3.4</td>\n",
       "      <td>{score}</td>\n",
       "      <td>numeric</td>\n",
       "      <td>c0d528b6-cdae-4d98-8936-a270f8827eb7</td>\n",
       "      <td>2013</td>\n",
       "    </tr>\n",
       "    <tr>\n",
       "      <th>2</th>\n",
       "      <td>2013-02-10</td>\n",
       "      <td>c0d528b6-cdae-4d98-8936-a270f8827eb7</td>\n",
       "      <td>1ef67c37-7306-4be4-9668-a93f34972544</td>\n",
       "      <td>29463-7</td>\n",
       "      <td>Body Weight</td>\n",
       "      <td>4.3</td>\n",
       "      <td>kg</td>\n",
       "      <td>numeric</td>\n",
       "      <td>c0d528b6-cdae-4d98-8936-a270f8827eb7</td>\n",
       "      <td>2013</td>\n",
       "    </tr>\n",
       "    <tr>\n",
       "      <th>3</th>\n",
       "      <td>2013-02-10</td>\n",
       "      <td>c0d528b6-cdae-4d98-8936-a270f8827eb7</td>\n",
       "      <td>1ef67c37-7306-4be4-9668-a93f34972544</td>\n",
       "      <td>8462-4</td>\n",
       "      <td>Diastolic Blood Pressure</td>\n",
       "      <td>74.6</td>\n",
       "      <td>mm[Hg]</td>\n",
       "      <td>numeric</td>\n",
       "      <td>c0d528b6-cdae-4d98-8936-a270f8827eb7</td>\n",
       "      <td>2013</td>\n",
       "    </tr>\n",
       "    <tr>\n",
       "      <th>4</th>\n",
       "      <td>2013-02-10</td>\n",
       "      <td>c0d528b6-cdae-4d98-8936-a270f8827eb7</td>\n",
       "      <td>1ef67c37-7306-4be4-9668-a93f34972544</td>\n",
       "      <td>8480-6</td>\n",
       "      <td>Systolic Blood Pressure</td>\n",
       "      <td>128.2</td>\n",
       "      <td>mm[Hg]</td>\n",
       "      <td>numeric</td>\n",
       "      <td>c0d528b6-cdae-4d98-8936-a270f8827eb7</td>\n",
       "      <td>2013</td>\n",
       "    </tr>\n",
       "  </tbody>\n",
       "</table>\n",
       "</div>"
      ],
      "text/plain": [
       "        date                               patient  \\\n",
       "0 2013-02-10  c0d528b6-cdae-4d98-8936-a270f8827eb7   \n",
       "1 2013-02-10  c0d528b6-cdae-4d98-8936-a270f8827eb7   \n",
       "2 2013-02-10  c0d528b6-cdae-4d98-8936-a270f8827eb7   \n",
       "3 2013-02-10  c0d528b6-cdae-4d98-8936-a270f8827eb7   \n",
       "4 2013-02-10  c0d528b6-cdae-4d98-8936-a270f8827eb7   \n",
       "\n",
       "                              encounter     code  \\\n",
       "0  1ef67c37-7306-4be4-9668-a93f34972544   8302-2   \n",
       "1  1ef67c37-7306-4be4-9668-a93f34972544  72514-3   \n",
       "2  1ef67c37-7306-4be4-9668-a93f34972544  29463-7   \n",
       "3  1ef67c37-7306-4be4-9668-a93f34972544   8462-4   \n",
       "4  1ef67c37-7306-4be4-9668-a93f34972544   8480-6   \n",
       "\n",
       "                                         description  value    units     type  \\\n",
       "0                                        Body Height   55.2       cm  numeric   \n",
       "1  Pain severity - 0-10 verbal numeric rating [Sc...    3.4  {score}  numeric   \n",
       "2                                        Body Weight    4.3       kg  numeric   \n",
       "3                           Diastolic Blood Pressure   74.6   mm[Hg]  numeric   \n",
       "4                            Systolic Blood Pressure  128.2   mm[Hg]  numeric   \n",
       "\n",
       "                                     id  birth_year  \n",
       "0  c0d528b6-cdae-4d98-8936-a270f8827eb7        2013  \n",
       "1  c0d528b6-cdae-4d98-8936-a270f8827eb7        2013  \n",
       "2  c0d528b6-cdae-4d98-8936-a270f8827eb7        2013  \n",
       "3  c0d528b6-cdae-4d98-8936-a270f8827eb7        2013  \n",
       "4  c0d528b6-cdae-4d98-8936-a270f8827eb7        2013  "
      ]
     },
     "execution_count": 164,
     "metadata": {},
     "output_type": "execute_result"
    }
   ],
   "source": [
    "observations1.head()"
   ]
  },
  {
   "cell_type": "code",
   "execution_count": 183,
   "metadata": {},
   "outputs": [
    {
     "data": {
      "text/html": [
       "<div>\n",
       "<style scoped>\n",
       "    .dataframe tbody tr th:only-of-type {\n",
       "        vertical-align: middle;\n",
       "    }\n",
       "\n",
       "    .dataframe tbody tr th {\n",
       "        vertical-align: top;\n",
       "    }\n",
       "\n",
       "    .dataframe thead th {\n",
       "        text-align: right;\n",
       "    }\n",
       "</style>\n",
       "<table border=\"1\" class=\"dataframe\">\n",
       "  <thead>\n",
       "    <tr style=\"text-align: right;\">\n",
       "      <th></th>\n",
       "      <th>date</th>\n",
       "      <th>patient</th>\n",
       "      <th>description</th>\n",
       "      <th>value</th>\n",
       "      <th>birth_year</th>\n",
       "      <th>checkup_year</th>\n",
       "      <th>current_age</th>\n",
       "    </tr>\n",
       "  </thead>\n",
       "  <tbody>\n",
       "    <tr>\n",
       "      <th>2</th>\n",
       "      <td>2013-02-10</td>\n",
       "      <td>c0d528b6-cdae-4d98-8936-a270f8827eb7</td>\n",
       "      <td>Body Weight</td>\n",
       "      <td>4.3</td>\n",
       "      <td>2013</td>\n",
       "      <td>2013</td>\n",
       "      <td>0</td>\n",
       "    </tr>\n",
       "    <tr>\n",
       "      <th>3</th>\n",
       "      <td>2013-02-10</td>\n",
       "      <td>c0d528b6-cdae-4d98-8936-a270f8827eb7</td>\n",
       "      <td>Diastolic Blood Pressure</td>\n",
       "      <td>74.6</td>\n",
       "      <td>2013</td>\n",
       "      <td>2013</td>\n",
       "      <td>0</td>\n",
       "    </tr>\n",
       "    <tr>\n",
       "      <th>4</th>\n",
       "      <td>2013-02-10</td>\n",
       "      <td>c0d528b6-cdae-4d98-8936-a270f8827eb7</td>\n",
       "      <td>Systolic Blood Pressure</td>\n",
       "      <td>128.2</td>\n",
       "      <td>2013</td>\n",
       "      <td>2013</td>\n",
       "      <td>0</td>\n",
       "    </tr>\n",
       "    <tr>\n",
       "      <th>19</th>\n",
       "      <td>2013-03-17</td>\n",
       "      <td>c0d528b6-cdae-4d98-8936-a270f8827eb7</td>\n",
       "      <td>Body Weight</td>\n",
       "      <td>5.1</td>\n",
       "      <td>2013</td>\n",
       "      <td>2013</td>\n",
       "      <td>0</td>\n",
       "    </tr>\n",
       "    <tr>\n",
       "      <th>20</th>\n",
       "      <td>2013-03-17</td>\n",
       "      <td>c0d528b6-cdae-4d98-8936-a270f8827eb7</td>\n",
       "      <td>Diastolic Blood Pressure</td>\n",
       "      <td>83.6</td>\n",
       "      <td>2013</td>\n",
       "      <td>2013</td>\n",
       "      <td>0</td>\n",
       "    </tr>\n",
       "  </tbody>\n",
       "</table>\n",
       "</div>"
      ],
      "text/plain": [
       "         date                               patient               description  \\\n",
       "2  2013-02-10  c0d528b6-cdae-4d98-8936-a270f8827eb7               Body Weight   \n",
       "3  2013-02-10  c0d528b6-cdae-4d98-8936-a270f8827eb7  Diastolic Blood Pressure   \n",
       "4  2013-02-10  c0d528b6-cdae-4d98-8936-a270f8827eb7   Systolic Blood Pressure   \n",
       "19 2013-03-17  c0d528b6-cdae-4d98-8936-a270f8827eb7               Body Weight   \n",
       "20 2013-03-17  c0d528b6-cdae-4d98-8936-a270f8827eb7  Diastolic Blood Pressure   \n",
       "\n",
       "    value  birth_year  checkup_year  current_age  \n",
       "2     4.3        2013          2013            0  \n",
       "3    74.6        2013          2013            0  \n",
       "4   128.2        2013          2013            0  \n",
       "19    5.1        2013          2013            0  \n",
       "20   83.6        2013          2013            0  "
      ]
     },
     "execution_count": 183,
     "metadata": {},
     "output_type": "execute_result"
    }
   ],
   "source": [
    "health_parameters = observations1.loc[(observations1.description == 'Diastolic Blood Pressure') | (observations1.description == 'Systolic Blood Pressure') | (observations1.description == 'Body Weight') |(observations1.description == 'Body Mass Index'),['date','patient','description','value','birth_year']]\n",
    "health_parameters['checkup_year'] = health_parameters.date.dt.year\n",
    "health_parameters['current_age'] = -(health_parameters.birth_year - health_parameters.checkup_year)\n",
    "health_parameters.value = health_parameters.value.astype('float') \n",
    "health_parameters.head()"
   ]
  },
  {
   "cell_type": "code",
   "execution_count": 184,
   "metadata": {},
   "outputs": [
    {
     "data": {
      "text/html": [
       "<div>\n",
       "<style scoped>\n",
       "    .dataframe tbody tr th:only-of-type {\n",
       "        vertical-align: middle;\n",
       "    }\n",
       "\n",
       "    .dataframe tbody tr th {\n",
       "        vertical-align: top;\n",
       "    }\n",
       "\n",
       "    .dataframe thead th {\n",
       "        text-align: right;\n",
       "    }\n",
       "</style>\n",
       "<table border=\"1\" class=\"dataframe\">\n",
       "  <thead>\n",
       "    <tr style=\"text-align: right;\">\n",
       "      <th></th>\n",
       "      <th>date</th>\n",
       "      <th>patient</th>\n",
       "      <th>description</th>\n",
       "      <th>value</th>\n",
       "      <th>birth_year</th>\n",
       "      <th>checkup_year</th>\n",
       "      <th>current_age</th>\n",
       "    </tr>\n",
       "  </thead>\n",
       "  <tbody>\n",
       "    <tr>\n",
       "      <th>2</th>\n",
       "      <td>2013-02-10</td>\n",
       "      <td>c0d528b6-cdae-4d98-8936-a270f8827eb7</td>\n",
       "      <td>Body Weight</td>\n",
       "      <td>4.3</td>\n",
       "      <td>2013</td>\n",
       "      <td>2013</td>\n",
       "      <td>0</td>\n",
       "    </tr>\n",
       "    <tr>\n",
       "      <th>3</th>\n",
       "      <td>2013-02-10</td>\n",
       "      <td>c0d528b6-cdae-4d98-8936-a270f8827eb7</td>\n",
       "      <td>Diastolic Blood Pressure</td>\n",
       "      <td>74.6</td>\n",
       "      <td>2013</td>\n",
       "      <td>2013</td>\n",
       "      <td>0</td>\n",
       "    </tr>\n",
       "    <tr>\n",
       "      <th>4</th>\n",
       "      <td>2013-02-10</td>\n",
       "      <td>c0d528b6-cdae-4d98-8936-a270f8827eb7</td>\n",
       "      <td>Systolic Blood Pressure</td>\n",
       "      <td>128.2</td>\n",
       "      <td>2013</td>\n",
       "      <td>2013</td>\n",
       "      <td>0</td>\n",
       "    </tr>\n",
       "    <tr>\n",
       "      <th>19</th>\n",
       "      <td>2013-03-17</td>\n",
       "      <td>c0d528b6-cdae-4d98-8936-a270f8827eb7</td>\n",
       "      <td>Body Weight</td>\n",
       "      <td>5.1</td>\n",
       "      <td>2013</td>\n",
       "      <td>2013</td>\n",
       "      <td>0</td>\n",
       "    </tr>\n",
       "    <tr>\n",
       "      <th>20</th>\n",
       "      <td>2013-03-17</td>\n",
       "      <td>c0d528b6-cdae-4d98-8936-a270f8827eb7</td>\n",
       "      <td>Diastolic Blood Pressure</td>\n",
       "      <td>83.6</td>\n",
       "      <td>2013</td>\n",
       "      <td>2013</td>\n",
       "      <td>0</td>\n",
       "    </tr>\n",
       "  </tbody>\n",
       "</table>\n",
       "</div>"
      ],
      "text/plain": [
       "         date                               patient               description  \\\n",
       "2  2013-02-10  c0d528b6-cdae-4d98-8936-a270f8827eb7               Body Weight   \n",
       "3  2013-02-10  c0d528b6-cdae-4d98-8936-a270f8827eb7  Diastolic Blood Pressure   \n",
       "4  2013-02-10  c0d528b6-cdae-4d98-8936-a270f8827eb7   Systolic Blood Pressure   \n",
       "19 2013-03-17  c0d528b6-cdae-4d98-8936-a270f8827eb7               Body Weight   \n",
       "20 2013-03-17  c0d528b6-cdae-4d98-8936-a270f8827eb7  Diastolic Blood Pressure   \n",
       "\n",
       "    value  birth_year  checkup_year  current_age  \n",
       "2     4.3        2013          2013            0  \n",
       "3    74.6        2013          2013            0  \n",
       "4   128.2        2013          2013            0  \n",
       "19    5.1        2013          2013            0  \n",
       "20   83.6        2013          2013            0  "
      ]
     },
     "execution_count": 184,
     "metadata": {},
     "output_type": "execute_result"
    }
   ],
   "source": [
    "df = health_parameters.head()\n",
    "df"
   ]
  },
  {
   "cell_type": "code",
   "execution_count": 193,
   "metadata": {},
   "outputs": [
    {
     "data": {
      "text/html": [
       "<div>\n",
       "<style scoped>\n",
       "    .dataframe tbody tr th:only-of-type {\n",
       "        vertical-align: middle;\n",
       "    }\n",
       "\n",
       "    .dataframe tbody tr th {\n",
       "        vertical-align: top;\n",
       "    }\n",
       "\n",
       "    .dataframe thead th {\n",
       "        text-align: right;\n",
       "    }\n",
       "</style>\n",
       "<table border=\"1\" class=\"dataframe\">\n",
       "  <thead>\n",
       "    <tr style=\"text-align: right;\">\n",
       "      <th></th>\n",
       "      <th></th>\n",
       "      <th>description</th>\n",
       "      <th>Body Mass Index</th>\n",
       "      <th>Body Weight</th>\n",
       "      <th>Diastolic Blood Pressure</th>\n",
       "      <th>Systolic Blood Pressure</th>\n",
       "    </tr>\n",
       "    <tr>\n",
       "      <th>checkup_year</th>\n",
       "      <th>patient</th>\n",
       "      <th>current_age</th>\n",
       "      <th></th>\n",
       "      <th></th>\n",
       "      <th></th>\n",
       "      <th></th>\n",
       "    </tr>\n",
       "  </thead>\n",
       "  <tbody>\n",
       "    <tr>\n",
       "      <th>1908</th>\n",
       "      <th>b87899f5-99f9-428e-9edd-86f61871a5da</th>\n",
       "      <th>0</th>\n",
       "      <td>NaN</td>\n",
       "      <td>4.933333</td>\n",
       "      <td>80.766667</td>\n",
       "      <td>127.433333</td>\n",
       "    </tr>\n",
       "    <tr>\n",
       "      <th rowspan=\"4\" valign=\"top\">1909</th>\n",
       "      <th>68e7899d-2600-4f6e-ae92-ce0b920a94de</th>\n",
       "      <th>0</th>\n",
       "      <td>NaN</td>\n",
       "      <td>4.950000</td>\n",
       "      <td>82.525000</td>\n",
       "      <td>114.250000</td>\n",
       "    </tr>\n",
       "    <tr>\n",
       "      <th>aa740eb3-811a-4eb9-a631-e4ab59e42244</th>\n",
       "      <th>0</th>\n",
       "      <td>NaN</td>\n",
       "      <td>5.050000</td>\n",
       "      <td>82.450000</td>\n",
       "      <td>115.300000</td>\n",
       "    </tr>\n",
       "    <tr>\n",
       "      <th>b87899f5-99f9-428e-9edd-86f61871a5da</th>\n",
       "      <th>1</th>\n",
       "      <td>NaN</td>\n",
       "      <td>9.675000</td>\n",
       "      <td>78.750000</td>\n",
       "      <td>120.075000</td>\n",
       "    </tr>\n",
       "    <tr>\n",
       "      <th>f365b470-50b4-4619-a09f-5846cec55c97</th>\n",
       "      <th>0</th>\n",
       "      <td>NaN</td>\n",
       "      <td>5.766667</td>\n",
       "      <td>77.066667</td>\n",
       "      <td>119.083333</td>\n",
       "    </tr>\n",
       "    <tr>\n",
       "      <th rowspan=\"5\" valign=\"top\">1910</th>\n",
       "      <th>68e7899d-2600-4f6e-ae92-ce0b920a94de</th>\n",
       "      <th>1</th>\n",
       "      <td>NaN</td>\n",
       "      <td>9.700000</td>\n",
       "      <td>79.225000</td>\n",
       "      <td>126.975000</td>\n",
       "    </tr>\n",
       "    <tr>\n",
       "      <th>77a3649d-a544-4cdf-a972-253c89233aff</th>\n",
       "      <th>0</th>\n",
       "      <td>NaN</td>\n",
       "      <td>5.850000</td>\n",
       "      <td>81.100000</td>\n",
       "      <td>123.825000</td>\n",
       "    </tr>\n",
       "    <tr>\n",
       "      <th>aa740eb3-811a-4eb9-a631-e4ab59e42244</th>\n",
       "      <th>1</th>\n",
       "      <td>NaN</td>\n",
       "      <td>9.750000</td>\n",
       "      <td>82.425000</td>\n",
       "      <td>115.525000</td>\n",
       "    </tr>\n",
       "    <tr>\n",
       "      <th>b87899f5-99f9-428e-9edd-86f61871a5da</th>\n",
       "      <th>2</th>\n",
       "      <td>NaN</td>\n",
       "      <td>12.400000</td>\n",
       "      <td>77.050000</td>\n",
       "      <td>115.450000</td>\n",
       "    </tr>\n",
       "    <tr>\n",
       "      <th>f365b470-50b4-4619-a09f-5846cec55c97</th>\n",
       "      <th>1</th>\n",
       "      <td>NaN</td>\n",
       "      <td>10.133333</td>\n",
       "      <td>85.233333</td>\n",
       "      <td>121.033333</td>\n",
       "    </tr>\n",
       "  </tbody>\n",
       "</table>\n",
       "</div>"
      ],
      "text/plain": [
       "description                                                    Body Mass Index  \\\n",
       "checkup_year patient                              current_age                    \n",
       "1908         b87899f5-99f9-428e-9edd-86f61871a5da 0                        NaN   \n",
       "1909         68e7899d-2600-4f6e-ae92-ce0b920a94de 0                        NaN   \n",
       "             aa740eb3-811a-4eb9-a631-e4ab59e42244 0                        NaN   \n",
       "             b87899f5-99f9-428e-9edd-86f61871a5da 1                        NaN   \n",
       "             f365b470-50b4-4619-a09f-5846cec55c97 0                        NaN   \n",
       "1910         68e7899d-2600-4f6e-ae92-ce0b920a94de 1                        NaN   \n",
       "             77a3649d-a544-4cdf-a972-253c89233aff 0                        NaN   \n",
       "             aa740eb3-811a-4eb9-a631-e4ab59e42244 1                        NaN   \n",
       "             b87899f5-99f9-428e-9edd-86f61871a5da 2                        NaN   \n",
       "             f365b470-50b4-4619-a09f-5846cec55c97 1                        NaN   \n",
       "\n",
       "description                                                    Body Weight  \\\n",
       "checkup_year patient                              current_age                \n",
       "1908         b87899f5-99f9-428e-9edd-86f61871a5da 0               4.933333   \n",
       "1909         68e7899d-2600-4f6e-ae92-ce0b920a94de 0               4.950000   \n",
       "             aa740eb3-811a-4eb9-a631-e4ab59e42244 0               5.050000   \n",
       "             b87899f5-99f9-428e-9edd-86f61871a5da 1               9.675000   \n",
       "             f365b470-50b4-4619-a09f-5846cec55c97 0               5.766667   \n",
       "1910         68e7899d-2600-4f6e-ae92-ce0b920a94de 1               9.700000   \n",
       "             77a3649d-a544-4cdf-a972-253c89233aff 0               5.850000   \n",
       "             aa740eb3-811a-4eb9-a631-e4ab59e42244 1               9.750000   \n",
       "             b87899f5-99f9-428e-9edd-86f61871a5da 2              12.400000   \n",
       "             f365b470-50b4-4619-a09f-5846cec55c97 1              10.133333   \n",
       "\n",
       "description                                                    Diastolic Blood Pressure  \\\n",
       "checkup_year patient                              current_age                             \n",
       "1908         b87899f5-99f9-428e-9edd-86f61871a5da 0                           80.766667   \n",
       "1909         68e7899d-2600-4f6e-ae92-ce0b920a94de 0                           82.525000   \n",
       "             aa740eb3-811a-4eb9-a631-e4ab59e42244 0                           82.450000   \n",
       "             b87899f5-99f9-428e-9edd-86f61871a5da 1                           78.750000   \n",
       "             f365b470-50b4-4619-a09f-5846cec55c97 0                           77.066667   \n",
       "1910         68e7899d-2600-4f6e-ae92-ce0b920a94de 1                           79.225000   \n",
       "             77a3649d-a544-4cdf-a972-253c89233aff 0                           81.100000   \n",
       "             aa740eb3-811a-4eb9-a631-e4ab59e42244 1                           82.425000   \n",
       "             b87899f5-99f9-428e-9edd-86f61871a5da 2                           77.050000   \n",
       "             f365b470-50b4-4619-a09f-5846cec55c97 1                           85.233333   \n",
       "\n",
       "description                                                    Systolic Blood Pressure  \n",
       "checkup_year patient                              current_age                           \n",
       "1908         b87899f5-99f9-428e-9edd-86f61871a5da 0                         127.433333  \n",
       "1909         68e7899d-2600-4f6e-ae92-ce0b920a94de 0                         114.250000  \n",
       "             aa740eb3-811a-4eb9-a631-e4ab59e42244 0                         115.300000  \n",
       "             b87899f5-99f9-428e-9edd-86f61871a5da 1                         120.075000  \n",
       "             f365b470-50b4-4619-a09f-5846cec55c97 0                         119.083333  \n",
       "1910         68e7899d-2600-4f6e-ae92-ce0b920a94de 1                         126.975000  \n",
       "             77a3649d-a544-4cdf-a972-253c89233aff 0                         123.825000  \n",
       "             aa740eb3-811a-4eb9-a631-e4ab59e42244 1                         115.525000  \n",
       "             b87899f5-99f9-428e-9edd-86f61871a5da 2                         115.450000  \n",
       "             f365b470-50b4-4619-a09f-5846cec55c97 1                         121.033333  "
      ]
     },
     "execution_count": 193,
     "metadata": {},
     "output_type": "execute_result"
    }
   ],
   "source": [
    "patient_health = health_parameters.pivot_table(index = ['checkup_year','patient','current_age'],columns = 'description',values = 'value',aggfunc = np.mean)\n",
    "patient_health.head(10)"
   ]
  },
  {
   "cell_type": "code",
   "execution_count": 221,
   "metadata": {},
   "outputs": [],
   "source": [
    "#lets subset our population with only adults (aged 18 and above)\n",
    "adults_health = patient_health.loc[patient_health.index.get_level_values(level = 'current_age') >= 18]"
   ]
  },
  {
   "cell_type": "code",
   "execution_count": 251,
   "metadata": {},
   "outputs": [
    {
     "data": {
      "image/png": "[encoded data removed]",
      "text/plain": [
       "<Figure size 1080x720 with 4 Axes>"
      ]
     },
     "metadata": {
      "needs_background": "light"
     },
     "output_type": "display_data"
    }
   ],
   "source": [
    "fig,ax = plt.subplots(2,2,figsize = (15,10))\n",
    "ax = [j for i in ax for j in i]\n",
    "for i, col in enumerate(adults_health.columns):\n",
    "    col_metrics = adults_health.groupby(adults_health.index.get_level_values(level = 'checkup_year'))[col].mean()\n",
    "    sns.scatterplot(col_metrics.index,col_metrics.values,ax = ax[i])\n",
    "    ax[i].set_title(col)"
   ]
  },
  {
   "cell_type": "markdown",
   "metadata": {},
   "source": [
    "- Between 1960 and 2000, the population was quite overweight (Both BMI and body weight confirm that!)\n",
    "- Blood pressure levels also seem to be consistently high\n",
    "    - Diastolic BP should ideally be in the range 60-80 and Systolic BP in range 90-120. Although, we see a decline in body weight after 200s, but BP levels seem to be consistently high. \n",
    "    \n",
    "### Observations:\n",
    "- Apart from addiction issues, people in Massandapolis also seem to suffering from other health issues (Obesity/ Diabetes/ Hyptertension)."
   ]
  },
  {
   "cell_type": "markdown",
   "metadata": {},
   "source": []
  },
  {
   "cell_type": "code",
   "execution_count": null,
   "metadata": {},
   "outputs": [],
   "source": []
  },
  {
   "cell_type": "code",
   "execution_count": null,
   "metadata": {},
   "outputs": [],
   "source": []
  },
  {
   "cell_type": "code",
   "execution_count": null,
   "metadata": {},
   "outputs": [],
   "source": []
  },
  {
   "cell_type": "code",
   "execution_count": null,
   "metadata": {},
   "outputs": [],
   "source": []
  },
  {
   "cell_type": "code",
   "execution_count": null,
   "metadata": {},
   "outputs": [],
   "source": []
  },
  {
   "cell_type": "code",
   "execution_count": null,
   "metadata": {},
   "outputs": [],
   "source": []
  },
  {
   "cell_type": "code",
   "execution_count": null,
   "metadata": {},
   "outputs": [],
   "source": []
  },
  {
   "cell_type": "code",
   "execution_count": null,
   "metadata": {},
   "outputs": [],
   "source": []
  },
  {
   "cell_type": "code",
   "execution_count": null,
   "metadata": {},
   "outputs": [],
   "source": []
  },
  {
   "cell_type": "code",
   "execution_count": null,
   "metadata": {},
   "outputs": [],
   "source": []
  },
  {
   "cell_type": "code",
   "execution_count": null,
   "metadata": {},
   "outputs": [],
   "source": []
  },
  {
   "cell_type": "code",
   "execution_count": null,
   "metadata": {},
   "outputs": [],
   "source": []
  },
  {
   "cell_type": "code",
   "execution_count": null,
   "metadata": {},
   "outputs": [],
   "source": []
  },
  {
   "cell_type": "code",
   "execution_count": null,
   "metadata": {},
   "outputs": [],
   "source": []
  }
 ],
 "metadata": {
  "kernelspec": {
   "display_name": "Python 3",
   "language": "python",
   "name": "python3"
  },
  "language_info": {
   "codemirror_mode": {
    "name": "ipython",
    "version": 3
   },
   "file_extension": ".py",
   "mimetype": "text/x-python",
   "name": "python",
   "nbconvert_exporter": "python",
   "pygments_lexer": "ipython3",
   "version": "3.7.3"
  }
 },
 "nbformat": 4,
 "nbformat_minor": 2
}
