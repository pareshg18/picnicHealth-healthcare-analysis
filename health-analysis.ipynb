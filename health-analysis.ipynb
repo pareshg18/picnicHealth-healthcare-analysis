{
 "cells": [
  {
   "cell_type": "code",
   "execution_count": 1,
   "metadata": {},
   "outputs": [],
   "source": [
    "import pandas as pd\n",
    "import numpy as np\n",
    "import os\n",
    "import glob\n",
    "import seaborn as sns\n",
    "import matplotlib.pyplot as plt"
   ]
  },
  {
   "cell_type": "code",
   "execution_count": 2,
   "metadata": {},
   "outputs": [
    {
     "data": {
      "text/plain": [
       "'C:\\\\Users\\\\pares\\\\Downloads\\\\ds_questions\\\\ds_questions\\\\massandopolis'"
      ]
     },
     "execution_count": 2,
     "metadata": {},
     "output_type": "execute_result"
    }
   ],
   "source": [
    "os.chdir('C:\\\\Users\\\\pares\\\\Downloads\\\\ds_questions\\\\ds_questions\\\\massandopolis')\n",
    "os.getcwd()"
   ]
  },
  {
   "cell_type": "code",
   "execution_count": 3,
   "metadata": {},
   "outputs": [
    {
     "data": {
      "text/plain": [
       "['allergies.csv',\n",
       " 'careplans.csv',\n",
       " 'concepts.csv',\n",
       " 'conditions.csv',\n",
       " 'encounters.csv',\n",
       " 'imaging_studies.csv',\n",
       " 'immunizations.csv',\n",
       " 'medications.csv',\n",
       " 'observations.csv',\n",
       " 'organizations.csv',\n",
       " 'patients.csv',\n",
       " 'patients_updated.csv',\n",
       " 'procedures.csv',\n",
       " 'providers.csv']"
      ]
     },
     "execution_count": 3,
     "metadata": {},
     "output_type": "execute_result"
    }
   ],
   "source": [
    "#what's my data?\n",
    "all_files = glob.glob('*.csv')\n",
    "all_files"
   ]
  },
  {
   "cell_type": "markdown",
   "metadata": {},
   "source": [
    "### Summary\n",
    "-  Uptill now, we found people in Massandapolis were suferring from addiction related issues in the 1990s which claimed a lot of lives. I want to understand how fit the people were?\n",
    "- For that, we'll look at immunizations and observations table and analyze the health paramters for different patients and analyze how many individuals were vaccinated and how many weren't.\n",
    "\n",
    "\n"
   ]
  },
  {
   "cell_type": "code",
   "execution_count": 26,
   "metadata": {},
   "outputs": [
    {
     "name": "stdout",
     "output_type": "stream",
     "text": [
      "<class 'pandas.core.frame.DataFrame'>\n",
      "RangeIndex: 3199998 entries, 0 to 3199997\n",
      "Data columns (total 8 columns):\n",
      "date           object\n",
      "patient        object\n",
      "encounter      object\n",
      "code           object\n",
      "description    object\n",
      "value          object\n",
      "units          object\n",
      "type           object\n",
      "dtypes: object(8)\n",
      "memory usage: 195.3+ MB\n"
     ]
    },
    {
     "data": {
      "text/html": [
       "<div>\n",
       "<style scoped>\n",
       "    .dataframe tbody tr th:only-of-type {\n",
       "        vertical-align: middle;\n",
       "    }\n",
       "\n",
       "    .dataframe tbody tr th {\n",
       "        vertical-align: top;\n",
       "    }\n",
       "\n",
       "    .dataframe thead th {\n",
       "        text-align: right;\n",
       "    }\n",
       "</style>\n",
       "<table border=\"1\" class=\"dataframe\">\n",
       "  <thead>\n",
       "    <tr style=\"text-align: right;\">\n",
       "      <th></th>\n",
       "      <th>date</th>\n",
       "      <th>patient</th>\n",
       "      <th>encounter</th>\n",
       "      <th>code</th>\n",
       "      <th>description</th>\n",
       "      <th>value</th>\n",
       "      <th>units</th>\n",
       "      <th>type</th>\n",
       "    </tr>\n",
       "  </thead>\n",
       "  <tbody>\n",
       "    <tr>\n",
       "      <th>0</th>\n",
       "      <td>2013-02-10</td>\n",
       "      <td>c0d528b6-cdae-4d98-8936-a270f8827eb7</td>\n",
       "      <td>1ef67c37-7306-4be4-9668-a93f34972544</td>\n",
       "      <td>8302-2</td>\n",
       "      <td>Body Height</td>\n",
       "      <td>55.2</td>\n",
       "      <td>cm</td>\n",
       "      <td>numeric</td>\n",
       "    </tr>\n",
       "    <tr>\n",
       "      <th>1</th>\n",
       "      <td>2013-02-10</td>\n",
       "      <td>c0d528b6-cdae-4d98-8936-a270f8827eb7</td>\n",
       "      <td>1ef67c37-7306-4be4-9668-a93f34972544</td>\n",
       "      <td>72514-3</td>\n",
       "      <td>Pain severity - 0-10 verbal numeric rating [Sc...</td>\n",
       "      <td>3.4</td>\n",
       "      <td>{score}</td>\n",
       "      <td>numeric</td>\n",
       "    </tr>\n",
       "    <tr>\n",
       "      <th>2</th>\n",
       "      <td>2013-02-10</td>\n",
       "      <td>c0d528b6-cdae-4d98-8936-a270f8827eb7</td>\n",
       "      <td>1ef67c37-7306-4be4-9668-a93f34972544</td>\n",
       "      <td>29463-7</td>\n",
       "      <td>Body Weight</td>\n",
       "      <td>4.3</td>\n",
       "      <td>kg</td>\n",
       "      <td>numeric</td>\n",
       "    </tr>\n",
       "    <tr>\n",
       "      <th>3</th>\n",
       "      <td>2013-02-10</td>\n",
       "      <td>c0d528b6-cdae-4d98-8936-a270f8827eb7</td>\n",
       "      <td>1ef67c37-7306-4be4-9668-a93f34972544</td>\n",
       "      <td>8462-4</td>\n",
       "      <td>Diastolic Blood Pressure</td>\n",
       "      <td>74.6</td>\n",
       "      <td>mm[Hg]</td>\n",
       "      <td>numeric</td>\n",
       "    </tr>\n",
       "    <tr>\n",
       "      <th>4</th>\n",
       "      <td>2013-02-10</td>\n",
       "      <td>c0d528b6-cdae-4d98-8936-a270f8827eb7</td>\n",
       "      <td>1ef67c37-7306-4be4-9668-a93f34972544</td>\n",
       "      <td>8480-6</td>\n",
       "      <td>Systolic Blood Pressure</td>\n",
       "      <td>128.2</td>\n",
       "      <td>mm[Hg]</td>\n",
       "      <td>numeric</td>\n",
       "    </tr>\n",
       "  </tbody>\n",
       "</table>\n",
       "</div>"
      ],
      "text/plain": [
       "         date                               patient  \\\n",
       "0  2013-02-10  c0d528b6-cdae-4d98-8936-a270f8827eb7   \n",
       "1  2013-02-10  c0d528b6-cdae-4d98-8936-a270f8827eb7   \n",
       "2  2013-02-10  c0d528b6-cdae-4d98-8936-a270f8827eb7   \n",
       "3  2013-02-10  c0d528b6-cdae-4d98-8936-a270f8827eb7   \n",
       "4  2013-02-10  c0d528b6-cdae-4d98-8936-a270f8827eb7   \n",
       "\n",
       "                              encounter     code  \\\n",
       "0  1ef67c37-7306-4be4-9668-a93f34972544   8302-2   \n",
       "1  1ef67c37-7306-4be4-9668-a93f34972544  72514-3   \n",
       "2  1ef67c37-7306-4be4-9668-a93f34972544  29463-7   \n",
       "3  1ef67c37-7306-4be4-9668-a93f34972544   8462-4   \n",
       "4  1ef67c37-7306-4be4-9668-a93f34972544   8480-6   \n",
       "\n",
       "                                         description  value    units     type  \n",
       "0                                        Body Height   55.2       cm  numeric  \n",
       "1  Pain severity - 0-10 verbal numeric rating [Sc...    3.4  {score}  numeric  \n",
       "2                                        Body Weight    4.3       kg  numeric  \n",
       "3                           Diastolic Blood Pressure   74.6   mm[Hg]  numeric  \n",
       "4                            Systolic Blood Pressure  128.2   mm[Hg]  numeric  "
      ]
     },
     "execution_count": 26,
     "metadata": {},
     "output_type": "execute_result"
    }
   ],
   "source": [
    "observations = pd.read_csv('observations.csv')\n",
    "observations.columns = [i.lower() for i in observations.columns]\n",
    "observations.info()\n",
    "observations.head()"
   ]
  },
  {
   "cell_type": "code",
   "execution_count": 28,
   "metadata": {},
   "outputs": [],
   "source": [
    "#lets first fix our columns\n",
    "observations.date = observations.date.apply(pd.to_datetime)"
   ]
  },
  {
   "cell_type": "code",
   "execution_count": 33,
   "metadata": {},
   "outputs": [
    {
     "data": {
      "text/plain": [
       "Pain severity - 0-10 verbal numeric rating [Score] - Reported               217754\n",
       "Diastolic Blood Pressure                                                    165138\n",
       "Systolic Blood Pressure                                                     165138\n",
       "Body Weight                                                                 163795\n",
       "Body Height                                                                 163795\n",
       "Tobacco smoking status NHIS                                                 163795\n",
       "Body Mass Index                                                             150086\n",
       "Sodium                                                                       97070\n",
       "Urea Nitrogen                                                                97070\n",
       "Creatinine                                                                   97070\n",
       "Potassium                                                                    97070\n",
       "Glucose                                                                      97070\n",
       "Calcium                                                                      97070\n",
       "Carbon Dioxide                                                               97070\n",
       "Chloride                                                                     97070\n",
       "Total Cholesterol                                                            81446\n",
       "Triglycerides                                                                81446\n",
       "High Density Lipoprotein Cholesterol                                         81446\n",
       "Low Density Lipoprotein Cholesterol                                          81446\n",
       "Hemoglobin A1c/Hemoglobin.total in Blood                                     73641\n",
       "Estimated Glomerular Filtration Rate                                         61518\n",
       "Microalbumin Creatinine Ratio                                                37770\n",
       "MCV [Entitic volume] by Automated count                                      33610\n",
       "Platelet mean volume [Entitic volume] in Blood by Automated count            33610\n",
       "Platelet distribution width [Entitic volume] in Blood by Automated count     33610\n",
       "MCH [Entitic mass] by Automated count                                        33610\n",
       "Hematocrit [Volume Fraction] of Blood by Automated count                     32205\n",
       "Erythrocyte distribution width [Entitic volume] by Automated count           32205\n",
       "Hemoglobin [Mass/volume] in Blood                                            29704\n",
       "MCHC [Mass/volume] by Automated count                                        29609\n",
       "                                                                             ...  \n",
       "Physical findings of Abdomen by Palpation                                       40\n",
       "Alkaline Phosphatase                                                            40\n",
       "Hemoglobin                                                                      40\n",
       "Platelet Count                                                                  40\n",
       "Anion Gap                                                                       40\n",
       "ALT (Elevated)                                                                  40\n",
       "Red Blood Cell                                                                  40\n",
       "Albumin                                                                         40\n",
       "PROMIS-10 Global Mental Health (GMH) score                                       6\n",
       "PROMIS-10 Global Physical Health (GPH) score                                     6\n",
       "Quality of life score [KOOS]                                                     4\n",
       "Pain score [KOOS]                                                                4\n",
       "Symptoms score [KOOS]                                                            4\n",
       "Activities of daily living score [KOOS]                                          4\n",
       "Sport-recreation score [KOOS]                                                    4\n",
       "VR-12 Physical functioning (PF) score - oblique method                           2\n",
       "VR-12 Bodily pain (BP) score - oblique method                                    2\n",
       "VR-12 General health (GH) score - oblique method                                 2\n",
       "VR-12 Role physical (RP) score - oblique method                                  2\n",
       "VR-12 Vitality (VT) score - oblique method                                       2\n",
       "VR-12 Social functioning (SF) score - oblique method                             2\n",
       "VR-12 Mental health (MH) score - oblique method                                  2\n",
       "VR-12 Role emotion (RE) score - oblique method                                   2\n",
       "PROMIS-29 Physical function score                                                1\n",
       "PROMIS-29 Sleep disturbance score                                                1\n",
       "PROMIS-29 Pain interference score                                                1\n",
       "PROMIS-29 Anxiety score                                                          1\n",
       "PROMIS-29 Fatigue score                                                          1\n",
       "PROMIS-29 Satisfaction with participation in social roles score                  1\n",
       "PROMIS-29 Depression score                                                       1\n",
       "Name: description, Length: 159, dtype: int64"
      ]
     },
     "execution_count": 33,
     "metadata": {},
     "output_type": "execute_result"
    }
   ],
   "source": [
    "#lets see how many different metrics do we have in total\n",
    "observations.description.value_counts()"
   ]
  },
  {
   "cell_type": "code",
   "execution_count": null,
   "metadata": {},
   "outputs": [],
   "source": []
  },
  {
   "cell_type": "code",
   "execution_count": null,
   "metadata": {},
   "outputs": [],
   "source": []
  },
  {
   "cell_type": "code",
   "execution_count": null,
   "metadata": {},
   "outputs": [],
   "source": []
  },
  {
   "cell_type": "code",
   "execution_count": null,
   "metadata": {},
   "outputs": [],
   "source": []
  },
  {
   "cell_type": "code",
   "execution_count": null,
   "metadata": {},
   "outputs": [],
   "source": []
  },
  {
   "cell_type": "code",
   "execution_count": null,
   "metadata": {},
   "outputs": [],
   "source": []
  }
 ],
 "metadata": {
  "kernelspec": {
   "display_name": "Python 3",
   "language": "python",
   "name": "python3"
  },
  "language_info": {
   "codemirror_mode": {
    "name": "ipython",
    "version": 3
   },
   "file_extension": ".py",
   "mimetype": "text/x-python",
   "name": "python",
   "nbconvert_exporter": "python",
   "pygments_lexer": "ipython3",
   "version": "3.7.3"
  }
 },
 "nbformat": 4,
 "nbformat_minor": 2
}
