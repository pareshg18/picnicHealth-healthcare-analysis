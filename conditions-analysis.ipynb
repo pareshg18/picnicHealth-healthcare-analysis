{
 "cells": [
  {
   "cell_type": "code",
   "execution_count": 1,
   "metadata": {},
   "outputs": [],
   "source": [
    "import pandas as pd\n",
    "import numpy as np\n",
    "import os\n",
    "import glob\n",
    "import seaborn as sns\n",
    "import matplotlib.pyplot as plt"
   ]
  },
  {
   "cell_type": "code",
   "execution_count": 2,
   "metadata": {},
   "outputs": [
    {
     "data": {
      "text/plain": [
       "'C:\\\\Users\\\\pares\\\\Downloads\\\\ds_questions\\\\ds_questions\\\\massandopolis'"
      ]
     },
     "execution_count": 2,
     "metadata": {},
     "output_type": "execute_result"
    }
   ],
   "source": [
    "os.chdir('C:\\\\Users\\\\pares\\\\Downloads\\\\ds_questions\\\\ds_questions\\\\massandopolis')\n",
    "os.getcwd()"
   ]
  },
  {
   "cell_type": "code",
   "execution_count": 3,
   "metadata": {},
   "outputs": [
    {
     "data": {
      "text/plain": [
       "['allergies.csv',\n",
       " 'careplans.csv',\n",
       " 'concepts.csv',\n",
       " 'conditions.csv',\n",
       " 'encounters.csv',\n",
       " 'imaging_studies.csv',\n",
       " 'immunizations.csv',\n",
       " 'medications.csv',\n",
       " 'observations.csv',\n",
       " 'organizations.csv',\n",
       " 'patients.csv',\n",
       " 'patients_updated.csv',\n",
       " 'procedures.csv',\n",
       " 'providers.csv']"
      ]
     },
     "execution_count": 3,
     "metadata": {},
     "output_type": "execute_result"
    }
   ],
   "source": [
    "#what's my data?\n",
    "all_files = glob.glob('*.csv')\n",
    "all_files"
   ]
  },
  {
   "cell_type": "code",
   "execution_count": 4,
   "metadata": {},
   "outputs": [
    {
     "data": {
      "text/html": [
       "<div>\n",
       "<style scoped>\n",
       "    .dataframe tbody tr th:only-of-type {\n",
       "        vertical-align: middle;\n",
       "    }\n",
       "\n",
       "    .dataframe tbody tr th {\n",
       "        vertical-align: top;\n",
       "    }\n",
       "\n",
       "    .dataframe thead th {\n",
       "        text-align: right;\n",
       "    }\n",
       "</style>\n",
       "<table border=\"1\" class=\"dataframe\">\n",
       "  <thead>\n",
       "    <tr style=\"text-align: right;\">\n",
       "      <th></th>\n",
       "      <th>id</th>\n",
       "      <th>birthdate</th>\n",
       "      <th>deathdate</th>\n",
       "      <th>ssn</th>\n",
       "      <th>drivers</th>\n",
       "      <th>passport</th>\n",
       "      <th>prefix</th>\n",
       "      <th>first</th>\n",
       "      <th>last</th>\n",
       "      <th>suffix</th>\n",
       "      <th>...</th>\n",
       "      <th>address</th>\n",
       "      <th>city</th>\n",
       "      <th>state</th>\n",
       "      <th>zip</th>\n",
       "      <th>eventtime</th>\n",
       "      <th>status</th>\n",
       "      <th>trt</th>\n",
       "      <th>birth_year</th>\n",
       "      <th>death_year</th>\n",
       "      <th>age</th>\n",
       "    </tr>\n",
       "  </thead>\n",
       "  <tbody>\n",
       "    <tr>\n",
       "      <th>0</th>\n",
       "      <td>c0d528b6-cdae-4d98-8936-a270f8827eb7</td>\n",
       "      <td>2013-02-10</td>\n",
       "      <td>NaT</td>\n",
       "      <td>999-83-3170</td>\n",
       "      <td>NaN</td>\n",
       "      <td>NaN</td>\n",
       "      <td>NaN</td>\n",
       "      <td>Claudette391</td>\n",
       "      <td>Hahn503</td>\n",
       "      <td>NaN</td>\n",
       "      <td>...</td>\n",
       "      <td>239 Schaden Glen</td>\n",
       "      <td>Randolph</td>\n",
       "      <td>Massandopolis</td>\n",
       "      <td>2368.0</td>\n",
       "      <td>2.770027</td>\n",
       "      <td>1</td>\n",
       "      <td>0</td>\n",
       "      <td>2013</td>\n",
       "      <td>2050.0</td>\n",
       "      <td>7.0</td>\n",
       "    </tr>\n",
       "    <tr>\n",
       "      <th>1</th>\n",
       "      <td>d709f84f-7d2c-440b-a979-2bc27d41f63a</td>\n",
       "      <td>1994-01-10</td>\n",
       "      <td>2019-01-07</td>\n",
       "      <td>999-31-7937</td>\n",
       "      <td>S99989196</td>\n",
       "      <td>X43239863X</td>\n",
       "      <td>Ms.</td>\n",
       "      <td>Christina143</td>\n",
       "      <td>Langworth352</td>\n",
       "      <td>NaN</td>\n",
       "      <td>...</td>\n",
       "      <td>535 Romaguera Annex Unit 82</td>\n",
       "      <td>Boston</td>\n",
       "      <td>Massandopolis</td>\n",
       "      <td>2108.0</td>\n",
       "      <td>2.973888</td>\n",
       "      <td>1</td>\n",
       "      <td>0</td>\n",
       "      <td>1994</td>\n",
       "      <td>2019.0</td>\n",
       "      <td>25.0</td>\n",
       "    </tr>\n",
       "  </tbody>\n",
       "</table>\n",
       "<p>2 rows × 26 columns</p>\n",
       "</div>"
      ],
      "text/plain": [
       "                                     id  birthdate  deathdate          ssn  \\\n",
       "0  c0d528b6-cdae-4d98-8936-a270f8827eb7 2013-02-10        NaT  999-83-3170   \n",
       "1  d709f84f-7d2c-440b-a979-2bc27d41f63a 1994-01-10 2019-01-07  999-31-7937   \n",
       "\n",
       "     drivers    passport prefix         first          last suffix  ...  \\\n",
       "0        NaN         NaN    NaN  Claudette391       Hahn503    NaN  ...   \n",
       "1  S99989196  X43239863X    Ms.  Christina143  Langworth352    NaN  ...   \n",
       "\n",
       "                       address      city          state     zip eventtime  \\\n",
       "0             239 Schaden Glen  Randolph  Massandopolis  2368.0  2.770027   \n",
       "1  535 Romaguera Annex Unit 82    Boston  Massandopolis  2108.0  2.973888   \n",
       "\n",
       "  status trt birth_year death_year   age  \n",
       "0      1   0       2013     2050.0   7.0  \n",
       "1      1   0       1994     2019.0  25.0  \n",
       "\n",
       "[2 rows x 26 columns]"
      ]
     },
     "execution_count": 4,
     "metadata": {},
     "output_type": "execute_result"
    }
   ],
   "source": [
    "#loading patients updated file as patients\n",
    "patients = pd.read_csv('patients_updated.csv')\n",
    "patients.birthdate = patients.birthdate.apply(pd.to_datetime)\n",
    "patients.deathdate = patients.deathdate.apply(pd.to_datetime)\n",
    "patients.head(2)"
   ]
  },
  {
   "cell_type": "code",
   "execution_count": null,
   "metadata": {},
   "outputs": [],
   "source": []
  },
  {
   "cell_type": "code",
   "execution_count": null,
   "metadata": {},
   "outputs": [],
   "source": []
  },
  {
   "cell_type": "code",
   "execution_count": null,
   "metadata": {},
   "outputs": [],
   "source": []
  }
 ],
 "metadata": {
  "kernelspec": {
   "display_name": "Python 3",
   "language": "python",
   "name": "python3"
  },
  "language_info": {
   "codemirror_mode": {
    "name": "ipython",
    "version": 3
   },
   "file_extension": ".py",
   "mimetype": "text/x-python",
   "name": "python",
   "nbconvert_exporter": "python",
   "pygments_lexer": "ipython3",
   "version": "3.7.3"
  }
 },
 "nbformat": 4,
 "nbformat_minor": 2
}
