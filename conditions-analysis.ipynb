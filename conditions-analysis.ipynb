{
 "cells": [
  {
   "cell_type": "code",
   "execution_count": 5,
   "metadata": {},
   "outputs": [],
   "source": [
    "import pandas as pd\n",
    "import numpy as np\n",
    "import os\n",
    "import glob\n",
    "import seaborn as sns\n",
    "import matplotlib.pyplot as plt"
   ]
  },
  {
   "cell_type": "code",
   "execution_count": 6,
   "metadata": {},
   "outputs": [
    {
     "data": {
      "text/plain": [
       "'C:\\\\Users\\\\pares\\\\Downloads\\\\ds_questions\\\\ds_questions\\\\massandopolis'"
      ]
     },
     "execution_count": 6,
     "metadata": {},
     "output_type": "execute_result"
    }
   ],
   "source": [
    "os.chdir('C:\\\\Users\\\\pares\\\\Downloads\\\\ds_questions\\\\ds_questions\\\\massandopolis')\n",
    "os.getcwd()"
   ]
  },
  {
   "cell_type": "code",
   "execution_count": 7,
   "metadata": {},
   "outputs": [
    {
     "data": {
      "text/plain": [
       "['allergies.csv',\n",
       " 'careplans.csv',\n",
       " 'concepts.csv',\n",
       " 'conditions.csv',\n",
       " 'encounters.csv',\n",
       " 'imaging_studies.csv',\n",
       " 'immunizations.csv',\n",
       " 'medications.csv',\n",
       " 'observations.csv',\n",
       " 'organizations.csv',\n",
       " 'patients.csv',\n",
       " 'patients_updated.csv',\n",
       " 'procedures.csv',\n",
       " 'providers.csv']"
      ]
     },
     "execution_count": 7,
     "metadata": {},
     "output_type": "execute_result"
    }
   ],
   "source": [
    "#what's my data?\n",
    "all_files = glob.glob('*.csv')\n",
    "all_files"
   ]
  },
  {
   "cell_type": "code",
   "execution_count": 8,
   "metadata": {},
   "outputs": [
    {
     "data": {
      "text/html": [
       "<div>\n",
       "<style scoped>\n",
       "    .dataframe tbody tr th:only-of-type {\n",
       "        vertical-align: middle;\n",
       "    }\n",
       "\n",
       "    .dataframe tbody tr th {\n",
       "        vertical-align: top;\n",
       "    }\n",
       "\n",
       "    .dataframe thead th {\n",
       "        text-align: right;\n",
       "    }\n",
       "</style>\n",
       "<table border=\"1\" class=\"dataframe\">\n",
       "  <thead>\n",
       "    <tr style=\"text-align: right;\">\n",
       "      <th></th>\n",
       "      <th>id</th>\n",
       "      <th>birthdate</th>\n",
       "      <th>deathdate</th>\n",
       "      <th>ssn</th>\n",
       "      <th>drivers</th>\n",
       "      <th>passport</th>\n",
       "      <th>prefix</th>\n",
       "      <th>first</th>\n",
       "      <th>last</th>\n",
       "      <th>suffix</th>\n",
       "      <th>...</th>\n",
       "      <th>address</th>\n",
       "      <th>city</th>\n",
       "      <th>state</th>\n",
       "      <th>zip</th>\n",
       "      <th>eventtime</th>\n",
       "      <th>status</th>\n",
       "      <th>trt</th>\n",
       "      <th>birth_year</th>\n",
       "      <th>death_year</th>\n",
       "      <th>age</th>\n",
       "    </tr>\n",
       "  </thead>\n",
       "  <tbody>\n",
       "    <tr>\n",
       "      <th>0</th>\n",
       "      <td>c0d528b6-cdae-4d98-8936-a270f8827eb7</td>\n",
       "      <td>2013-02-10</td>\n",
       "      <td>NaT</td>\n",
       "      <td>999-83-3170</td>\n",
       "      <td>NaN</td>\n",
       "      <td>NaN</td>\n",
       "      <td>NaN</td>\n",
       "      <td>Claudette391</td>\n",
       "      <td>Hahn503</td>\n",
       "      <td>NaN</td>\n",
       "      <td>...</td>\n",
       "      <td>239 Schaden Glen</td>\n",
       "      <td>Randolph</td>\n",
       "      <td>Massandopolis</td>\n",
       "      <td>2368.0</td>\n",
       "      <td>2.770027</td>\n",
       "      <td>1</td>\n",
       "      <td>0</td>\n",
       "      <td>2013</td>\n",
       "      <td>2050.0</td>\n",
       "      <td>7.0</td>\n",
       "    </tr>\n",
       "    <tr>\n",
       "      <th>1</th>\n",
       "      <td>d709f84f-7d2c-440b-a979-2bc27d41f63a</td>\n",
       "      <td>1994-01-10</td>\n",
       "      <td>2019-01-07</td>\n",
       "      <td>999-31-7937</td>\n",
       "      <td>S99989196</td>\n",
       "      <td>X43239863X</td>\n",
       "      <td>Ms.</td>\n",
       "      <td>Christina143</td>\n",
       "      <td>Langworth352</td>\n",
       "      <td>NaN</td>\n",
       "      <td>...</td>\n",
       "      <td>535 Romaguera Annex Unit 82</td>\n",
       "      <td>Boston</td>\n",
       "      <td>Massandopolis</td>\n",
       "      <td>2108.0</td>\n",
       "      <td>2.973888</td>\n",
       "      <td>1</td>\n",
       "      <td>0</td>\n",
       "      <td>1994</td>\n",
       "      <td>2019.0</td>\n",
       "      <td>25.0</td>\n",
       "    </tr>\n",
       "  </tbody>\n",
       "</table>\n",
       "<p>2 rows × 26 columns</p>\n",
       "</div>"
      ],
      "text/plain": [
       "                                     id  birthdate  deathdate          ssn  \\\n",
       "0  c0d528b6-cdae-4d98-8936-a270f8827eb7 2013-02-10        NaT  999-83-3170   \n",
       "1  d709f84f-7d2c-440b-a979-2bc27d41f63a 1994-01-10 2019-01-07  999-31-7937   \n",
       "\n",
       "     drivers    passport prefix         first          last suffix  ...  \\\n",
       "0        NaN         NaN    NaN  Claudette391       Hahn503    NaN  ...   \n",
       "1  S99989196  X43239863X    Ms.  Christina143  Langworth352    NaN  ...   \n",
       "\n",
       "                       address      city          state     zip eventtime  \\\n",
       "0             239 Schaden Glen  Randolph  Massandopolis  2368.0  2.770027   \n",
       "1  535 Romaguera Annex Unit 82    Boston  Massandopolis  2108.0  2.973888   \n",
       "\n",
       "  status trt birth_year death_year   age  \n",
       "0      1   0       2013     2050.0   7.0  \n",
       "1      1   0       1994     2019.0  25.0  \n",
       "\n",
       "[2 rows x 26 columns]"
      ]
     },
     "execution_count": 8,
     "metadata": {},
     "output_type": "execute_result"
    }
   ],
   "source": [
    "#loading patients updated file as patients\n",
    "patients = pd.read_csv('patients_updated.csv')\n",
    "patients.birthdate = patients.birthdate.apply(pd.to_datetime)\n",
    "patients.deathdate = patients.deathdate.apply(pd.to_datetime)\n",
    "patients.head(2)"
   ]
  },
  {
   "cell_type": "markdown",
   "metadata": {},
   "source": [
    "Now we know, since 1980s, Massandapolis is experiencing a lot of deaths, and that has resulted in population size declining (from 2000-2020). Next, lets understand why is this decrease happening or why are we experiencing so many deaths."
   ]
  },
  {
   "cell_type": "code",
   "execution_count": 9,
   "metadata": {},
   "outputs": [
    {
     "data": {
      "text/html": [
       "<div>\n",
       "<style scoped>\n",
       "    .dataframe tbody tr th:only-of-type {\n",
       "        vertical-align: middle;\n",
       "    }\n",
       "\n",
       "    .dataframe tbody tr th {\n",
       "        vertical-align: top;\n",
       "    }\n",
       "\n",
       "    .dataframe thead th {\n",
       "        text-align: right;\n",
       "    }\n",
       "</style>\n",
       "<table border=\"1\" class=\"dataframe\">\n",
       "  <thead>\n",
       "    <tr style=\"text-align: right;\">\n",
       "      <th></th>\n",
       "      <th>id</th>\n",
       "      <th>birth_year</th>\n",
       "      <th>death_year</th>\n",
       "      <th>age</th>\n",
       "      <th>deathdate</th>\n",
       "    </tr>\n",
       "  </thead>\n",
       "  <tbody>\n",
       "    <tr>\n",
       "      <th>1</th>\n",
       "      <td>d709f84f-7d2c-440b-a979-2bc27d41f63a</td>\n",
       "      <td>1994</td>\n",
       "      <td>2019.0</td>\n",
       "      <td>25.0</td>\n",
       "      <td>2019-01-07</td>\n",
       "    </tr>\n",
       "    <tr>\n",
       "      <th>7</th>\n",
       "      <td>96034260-617a-4818-a01b-57b37ddf5327</td>\n",
       "      <td>1950</td>\n",
       "      <td>2008.0</td>\n",
       "      <td>58.0</td>\n",
       "      <td>2008-09-04</td>\n",
       "    </tr>\n",
       "    <tr>\n",
       "      <th>17</th>\n",
       "      <td>2f83d4da-80ca-4ed3-823c-b8893d605429</td>\n",
       "      <td>1953</td>\n",
       "      <td>2019.0</td>\n",
       "      <td>66.0</td>\n",
       "      <td>2019-04-09</td>\n",
       "    </tr>\n",
       "    <tr>\n",
       "      <th>21</th>\n",
       "      <td>b0ea9896-75c2-4070-b771-512a765c9c2f</td>\n",
       "      <td>1966</td>\n",
       "      <td>1997.0</td>\n",
       "      <td>31.0</td>\n",
       "      <td>1997-04-18</td>\n",
       "    </tr>\n",
       "    <tr>\n",
       "      <th>23</th>\n",
       "      <td>a66bda4b-652d-4b76-b6fd-8aea3b26ad8a</td>\n",
       "      <td>1939</td>\n",
       "      <td>2006.0</td>\n",
       "      <td>67.0</td>\n",
       "      <td>2006-10-18</td>\n",
       "    </tr>\n",
       "  </tbody>\n",
       "</table>\n",
       "</div>"
      ],
      "text/plain": [
       "                                      id  birth_year  death_year   age  \\\n",
       "1   d709f84f-7d2c-440b-a979-2bc27d41f63a        1994      2019.0  25.0   \n",
       "7   96034260-617a-4818-a01b-57b37ddf5327        1950      2008.0  58.0   \n",
       "17  2f83d4da-80ca-4ed3-823c-b8893d605429        1953      2019.0  66.0   \n",
       "21  b0ea9896-75c2-4070-b771-512a765c9c2f        1966      1997.0  31.0   \n",
       "23  a66bda4b-652d-4b76-b6fd-8aea3b26ad8a        1939      2006.0  67.0   \n",
       "\n",
       "    deathdate  \n",
       "1  2019-01-07  \n",
       "7  2008-09-04  \n",
       "17 2019-04-09  \n",
       "21 1997-04-18  \n",
       "23 2006-10-18  "
      ]
     },
     "execution_count": 9,
     "metadata": {},
     "output_type": "execute_result"
    }
   ],
   "source": [
    "#Patients who have died\n",
    "dead = patients.loc[(patients.death_year >= 1980) & (patients.death_year < 2020),['id','birth_year','death_year','age','deathdate']]\n",
    "dead.head()"
   ]
  },
  {
   "cell_type": "code",
   "execution_count": 10,
   "metadata": {},
   "outputs": [
    {
     "data": {
      "text/plain": [
       "2825"
      ]
     },
     "execution_count": 10,
     "metadata": {},
     "output_type": "execute_result"
    }
   ],
   "source": [
    "len(dead)"
   ]
  },
  {
   "cell_type": "markdown",
   "metadata": {},
   "source": [
    "We have 2825 people who died between 1980 and 2020. Lets understand their cause of deaths. Were there any condition/illness that caused it, or was it old age."
   ]
  },
  {
   "cell_type": "code",
   "execution_count": 11,
   "metadata": {},
   "outputs": [
    {
     "data": {
      "image/png": "[encoded data removed]",
      "text/plain": [
       "<Figure size 432x288 with 1 Axes>"
      ]
     },
     "metadata": {
      "needs_background": "light"
     },
     "output_type": "display_data"
    }
   ],
   "source": [
    "sns.lineplot(dead.groupby('death_year')['age'].mean().index,dead.groupby('death_year')['age'].mean().values,markers = True)\n",
    "plt.title(\"Avg age of deaths through the years\")\n",
    "plt.ylabel('Age')\n",
    "plt.show()"
   ]
  },
  {
   "cell_type": "markdown",
   "metadata": {},
   "source": [
    "Average age or lifetime for people has gone better between 1980 and 2020, which shows access to healthcare and effects of healthcare. Lets go into a bit more detail about these (now dead) patients."
   ]
  },
  {
   "cell_type": "code",
   "execution_count": 12,
   "metadata": {},
   "outputs": [
    {
     "name": "stdout",
     "output_type": "stream",
     "text": [
      "<class 'pandas.core.frame.DataFrame'>\n",
      "RangeIndex: 109720 entries, 0 to 109719\n",
      "Data columns (total 6 columns):\n",
      "start          109720 non-null datetime64[ns]\n",
      "stop           61704 non-null datetime64[ns]\n",
      "patient        109720 non-null object\n",
      "encounter      109720 non-null object\n",
      "code           109720 non-null int64\n",
      "description    109720 non-null object\n",
      "dtypes: datetime64[ns](2), int64(1), object(3)\n",
      "memory usage: 5.0+ MB\n"
     ]
    },
    {
     "data": {
      "text/html": [
       "<div>\n",
       "<style scoped>\n",
       "    .dataframe tbody tr th:only-of-type {\n",
       "        vertical-align: middle;\n",
       "    }\n",
       "\n",
       "    .dataframe tbody tr th {\n",
       "        vertical-align: top;\n",
       "    }\n",
       "\n",
       "    .dataframe thead th {\n",
       "        text-align: right;\n",
       "    }\n",
       "</style>\n",
       "<table border=\"1\" class=\"dataframe\">\n",
       "  <thead>\n",
       "    <tr style=\"text-align: right;\">\n",
       "      <th></th>\n",
       "      <th>start</th>\n",
       "      <th>stop</th>\n",
       "      <th>patient</th>\n",
       "      <th>encounter</th>\n",
       "      <th>code</th>\n",
       "      <th>description</th>\n",
       "    </tr>\n",
       "  </thead>\n",
       "  <tbody>\n",
       "    <tr>\n",
       "      <th>0</th>\n",
       "      <td>2013-12-07</td>\n",
       "      <td>2013-12-07</td>\n",
       "      <td>c0d528b6-cdae-4d98-8936-a270f8827eb7</td>\n",
       "      <td>06429fa8-52a8-4e07-bd6a-b102b136cfa6</td>\n",
       "      <td>241929008</td>\n",
       "      <td>Acute allergic reaction</td>\n",
       "    </tr>\n",
       "    <tr>\n",
       "      <th>1</th>\n",
       "      <td>2014-12-03</td>\n",
       "      <td>2014-12-17</td>\n",
       "      <td>c0d528b6-cdae-4d98-8936-a270f8827eb7</td>\n",
       "      <td>2a24757d-039d-41d3-9570-4fe170c8a282</td>\n",
       "      <td>10509002</td>\n",
       "      <td>Acute bronchitis (disorder)</td>\n",
       "    </tr>\n",
       "    <tr>\n",
       "      <th>2</th>\n",
       "      <td>2015-02-17</td>\n",
       "      <td>NaT</td>\n",
       "      <td>c0d528b6-cdae-4d98-8936-a270f8827eb7</td>\n",
       "      <td>12b7aa28-f443-4ab1-87aa-0509a4e8a1bf</td>\n",
       "      <td>232353008</td>\n",
       "      <td>Perennial allergic rhinitis with seasonal vari...</td>\n",
       "    </tr>\n",
       "    <tr>\n",
       "      <th>3</th>\n",
       "      <td>2015-02-17</td>\n",
       "      <td>NaT</td>\n",
       "      <td>c0d528b6-cdae-4d98-8936-a270f8827eb7</td>\n",
       "      <td>6a95d43e-d1e5-4ab3-9a92-82f287b64f5d</td>\n",
       "      <td>233678006</td>\n",
       "      <td>Childhood asthma</td>\n",
       "    </tr>\n",
       "    <tr>\n",
       "      <th>4</th>\n",
       "      <td>2016-02-11</td>\n",
       "      <td>2016-02-18</td>\n",
       "      <td>c0d528b6-cdae-4d98-8936-a270f8827eb7</td>\n",
       "      <td>e19abba9-95fd-4071-ad5f-7efec4123b99</td>\n",
       "      <td>10509002</td>\n",
       "      <td>Acute bronchitis (disorder)</td>\n",
       "    </tr>\n",
       "  </tbody>\n",
       "</table>\n",
       "</div>"
      ],
      "text/plain": [
       "       start       stop                               patient  \\\n",
       "0 2013-12-07 2013-12-07  c0d528b6-cdae-4d98-8936-a270f8827eb7   \n",
       "1 2014-12-03 2014-12-17  c0d528b6-cdae-4d98-8936-a270f8827eb7   \n",
       "2 2015-02-17        NaT  c0d528b6-cdae-4d98-8936-a270f8827eb7   \n",
       "3 2015-02-17        NaT  c0d528b6-cdae-4d98-8936-a270f8827eb7   \n",
       "4 2016-02-11 2016-02-18  c0d528b6-cdae-4d98-8936-a270f8827eb7   \n",
       "\n",
       "                              encounter       code  \\\n",
       "0  06429fa8-52a8-4e07-bd6a-b102b136cfa6  241929008   \n",
       "1  2a24757d-039d-41d3-9570-4fe170c8a282   10509002   \n",
       "2  12b7aa28-f443-4ab1-87aa-0509a4e8a1bf  232353008   \n",
       "3  6a95d43e-d1e5-4ab3-9a92-82f287b64f5d  233678006   \n",
       "4  e19abba9-95fd-4071-ad5f-7efec4123b99   10509002   \n",
       "\n",
       "                                         description  \n",
       "0                            Acute allergic reaction  \n",
       "1                        Acute bronchitis (disorder)  \n",
       "2  Perennial allergic rhinitis with seasonal vari...  \n",
       "3                                   Childhood asthma  \n",
       "4                        Acute bronchitis (disorder)  "
      ]
     },
     "execution_count": 12,
     "metadata": {},
     "output_type": "execute_result"
    }
   ],
   "source": [
    "#lets get the conditions table\n",
    "conditions = pd.read_csv('conditions.csv')\n",
    "conditions.columns = [i.lower() for i in conditions.columns]\n",
    "conditions.start = conditions.start.apply([pd.to_datetime])\n",
    "conditions.stop = conditions.stop.apply([pd.to_datetime])\n",
    "conditions.info()\n",
    "conditions.head()"
   ]
  },
  {
   "cell_type": "code",
   "execution_count": 13,
   "metadata": {},
   "outputs": [],
   "source": [
    "#About 152 diseases/illnesses. Lets combine these into more general causes\n",
    "all_conditions = sorted(list(set(conditions.description.to_list())))\n",
    "cond_cat = ['Urinary Tract Infection','Others','Upper Respiratory Tract','Lower Respiratory Tract','Lower Respiratory Tract',\n",
    "            'Upper Respiratory Tract','Addiction','Brain Damage','Chronic Pain','Pregnancy','Digestive Tract','Lower Respiratory Tract',\n",
    "           'Wounds and Injuries','Cardiovascular diseases','Mental Health','Urinary Tract Infection','Pregnancy','Lifestyle Diseases',\n",
    "           'Lifestyle Diseases','Lifestyle Diseases','Brain Damage','Wounds and Injuries','Wounds and Injuries','Urinary Tract Infection',\n",
    "           'Cardiovascular diseases','Others','Lower Respiratory Tract','Urinary Tract Infection','Cardiovascular diseases','Chronic Pain',\n",
    "            'Urinary Tract Infection','Urinary Tract Infection','Urinary Tract Infection','Urinary Tract Infection','Lower Respiratory Tract',\n",
    "            'Chronic Pain','Wounds and Injuries','Upper Respiratory Tract','Wounds and Injuries','Brain Damage','Brain Damage',\n",
    "            'Brain Damage','Wounds and Injuries','Cardiovascular diseases','Hereditary Diseases','Urinary Tract Infection',\n",
    "            'Lifestyle Diseases','Lifestyle Diseases','Lifestyle Diseases','Lifestyle Diseases','Addiction','Brain Damage',\n",
    "            'Urinary Tract Infection','Wounds and Injuries','Brain Damage','Pregnancy','Pregnancy','Wounds and Injuries',\n",
    "            'Wounds and Injuries','Wounds and Injuries','Wounds and Injuries','Wounds and Injuries','Wounds and Injuries',\n",
    "            'Wounds and Injuries','Wounds and Injuries','Arthritis','Others','Digestive Tract','Cardiovascular diseases',\n",
    "            'Others','Cardiovascular diseases','Brain Damage','Lifestyle Diseases','Lifestyle Diseases','Lifestyle Diseases',\n",
    "            'Lifestyle Diseases','Others','Dental','Urinary Tract Infection','Upper Respiratory Tract','Wounds and Injuries',\n",
    "            'Wounds and Injuries','Wounds and Injuries','Wounds and Injuries','Wounds and Injuries','Wounds and Injuries',\n",
    "            'Wounds and Injuries','Arthritis','Hereditary Diseases','Lifestyle Diseases','Mental Health','Mental Health',\n",
    "            'Pregnancy','Digestive Tract','Hereditary Diseases','Lifestyle Diseases','Urinary Tract Infection','Lifestyle Diseases',\n",
    "            'Pregnancy','Cardiovascular diseases','Urinary Tract Infection','Lifestyle Diseases','Lower Respiratory Tract',\n",
    "            'Lower Respiratory Tract','Lifestyle Diseases','Pregnancy','Addiction','Arthritis','Arthritis','Arthritis',\n",
    "            'Upper Respiratory Tract','Digestive Tract','Arthritis','Upper Respiratory Tract','Upper Respiratory Tract',\n",
    "            'Lower Respiratory Tract','Digestive Tract','Mental Health','Lifestyle Diseases','Pregnancy','Chronic Pain',\n",
    "            'Digestive Tract','Lower Respiratory Tract','Lifestyle Diseases','Lifestyle Diseases','Digestive Tract',\n",
    "            'Lower Respiratory Tract','Urinary Tract Infection','Urinary Tract Infection','Urinary Tract Infection','Arthritis',\n",
    "            'Digestive Tract','Wounds and Injuries','Upper Respiratory Tract','Wounds and Injuries','Digestive Tract',\n",
    "            'Brain Damage','Urinary Tract Infection','Upper Respiratory Tract','Lower Respiratory Tract','Lower Respiratory Tract',\n",
    "            'Wounds and Injuries','Wounds and Injuries','Lower Respiratory Tract','Cardiovascular diseases','Lower Respiratory Tract',\n",
    "            'Wounds and Injuries','Wounds and Injuries','Brain Damage','Pregnancy','Upper Respiratory Tract','Wounds and Injuries']\n",
    "condition_categorized = {x:y for x,y in list(zip(all_conditions,cond_cat))}"
   ]
  },
  {
   "cell_type": "code",
   "execution_count": 14,
   "metadata": {},
   "outputs": [],
   "source": [
    "conditions['condition_category'] = conditions.description.map(condition_categorized)"
   ]
  },
  {
   "cell_type": "code",
   "execution_count": 15,
   "metadata": {},
   "outputs": [
    {
     "data": {
      "text/html": [
       "<div>\n",
       "<style scoped>\n",
       "    .dataframe tbody tr th:only-of-type {\n",
       "        vertical-align: middle;\n",
       "    }\n",
       "\n",
       "    .dataframe tbody tr th {\n",
       "        vertical-align: top;\n",
       "    }\n",
       "\n",
       "    .dataframe thead th {\n",
       "        text-align: right;\n",
       "    }\n",
       "</style>\n",
       "<table border=\"1\" class=\"dataframe\">\n",
       "  <thead>\n",
       "    <tr style=\"text-align: right;\">\n",
       "      <th></th>\n",
       "      <th>id</th>\n",
       "      <th>birth_year</th>\n",
       "      <th>death_year</th>\n",
       "      <th>age</th>\n",
       "      <th>deathdate</th>\n",
       "      <th>num_of_conditions</th>\n",
       "    </tr>\n",
       "  </thead>\n",
       "  <tbody>\n",
       "    <tr>\n",
       "      <th>1</th>\n",
       "      <td>d709f84f-7d2c-440b-a979-2bc27d41f63a</td>\n",
       "      <td>1994</td>\n",
       "      <td>2019.0</td>\n",
       "      <td>25.0</td>\n",
       "      <td>2019-01-07</td>\n",
       "      <td>6</td>\n",
       "    </tr>\n",
       "    <tr>\n",
       "      <th>7</th>\n",
       "      <td>96034260-617a-4818-a01b-57b37ddf5327</td>\n",
       "      <td>1950</td>\n",
       "      <td>2008.0</td>\n",
       "      <td>58.0</td>\n",
       "      <td>2008-09-04</td>\n",
       "      <td>7</td>\n",
       "    </tr>\n",
       "    <tr>\n",
       "      <th>17</th>\n",
       "      <td>2f83d4da-80ca-4ed3-823c-b8893d605429</td>\n",
       "      <td>1953</td>\n",
       "      <td>2019.0</td>\n",
       "      <td>66.0</td>\n",
       "      <td>2019-04-09</td>\n",
       "      <td>6</td>\n",
       "    </tr>\n",
       "    <tr>\n",
       "      <th>21</th>\n",
       "      <td>b0ea9896-75c2-4070-b771-512a765c9c2f</td>\n",
       "      <td>1966</td>\n",
       "      <td>1997.0</td>\n",
       "      <td>31.0</td>\n",
       "      <td>1997-04-18</td>\n",
       "      <td>7</td>\n",
       "    </tr>\n",
       "    <tr>\n",
       "      <th>23</th>\n",
       "      <td>a66bda4b-652d-4b76-b6fd-8aea3b26ad8a</td>\n",
       "      <td>1939</td>\n",
       "      <td>2006.0</td>\n",
       "      <td>67.0</td>\n",
       "      <td>2006-10-18</td>\n",
       "      <td>7</td>\n",
       "    </tr>\n",
       "  </tbody>\n",
       "</table>\n",
       "</div>"
      ],
      "text/plain": [
       "                                      id  birth_year  death_year   age  \\\n",
       "1   d709f84f-7d2c-440b-a979-2bc27d41f63a        1994      2019.0  25.0   \n",
       "7   96034260-617a-4818-a01b-57b37ddf5327        1950      2008.0  58.0   \n",
       "17  2f83d4da-80ca-4ed3-823c-b8893d605429        1953      2019.0  66.0   \n",
       "21  b0ea9896-75c2-4070-b771-512a765c9c2f        1966      1997.0  31.0   \n",
       "23  a66bda4b-652d-4b76-b6fd-8aea3b26ad8a        1939      2006.0  67.0   \n",
       "\n",
       "    deathdate  num_of_conditions  \n",
       "1  2019-01-07                  6  \n",
       "7  2008-09-04                  7  \n",
       "17 2019-04-09                  6  \n",
       "21 1997-04-18                  7  \n",
       "23 2006-10-18                  7  "
      ]
     },
     "execution_count": 15,
     "metadata": {},
     "output_type": "execute_result"
    }
   ],
   "source": [
    "def number_of_conditions(patient_id):\n",
    "    return conditions.loc[conditions.patient == patient_id,'condition_category'].nunique()\n",
    "dead['num_of_conditions'] = dead.id.apply(number_of_conditions)\n",
    "dead.head()"
   ]
  },
  {
   "cell_type": "code",
   "execution_count": 16,
   "metadata": {},
   "outputs": [
    {
     "data": {
      "text/plain": [
       "count    2825.000000\n",
       "mean        6.990442\n",
       "std         1.882597\n",
       "min         0.000000\n",
       "25%         6.000000\n",
       "50%         7.000000\n",
       "75%         8.000000\n",
       "max        13.000000\n",
       "Name: num_of_conditions, dtype: float64"
      ]
     },
     "execution_count": 16,
     "metadata": {},
     "output_type": "execute_result"
    }
   ],
   "source": [
    "dead.num_of_conditions.describe()"
   ]
  },
  {
   "cell_type": "code",
   "execution_count": 17,
   "metadata": {},
   "outputs": [
    {
     "data": {
      "text/plain": [
       "count    229.000000\n",
       "mean       4.231441\n",
       "std        1.892661\n",
       "min        0.000000\n",
       "25%        3.000000\n",
       "50%        4.000000\n",
       "75%        5.000000\n",
       "max        9.000000\n",
       "Name: num_of_conditions, dtype: float64"
      ]
     },
     "execution_count": 17,
     "metadata": {},
     "output_type": "execute_result"
    }
   ],
   "source": [
    "dead.loc[dead.age < 30,'num_of_conditions'].describe()"
   ]
  },
  {
   "cell_type": "markdown",
   "metadata": {},
   "source": [
    "People below 30 years suffering from more than 3-4 conditions on an average doesnt indicate towards a healthy population."
   ]
  },
  {
   "cell_type": "code",
   "execution_count": 18,
   "metadata": {},
   "outputs": [
    {
     "data": {
      "text/html": [
       "<div>\n",
       "<style scoped>\n",
       "    .dataframe tbody tr th:only-of-type {\n",
       "        vertical-align: middle;\n",
       "    }\n",
       "\n",
       "    .dataframe tbody tr th {\n",
       "        vertical-align: top;\n",
       "    }\n",
       "\n",
       "    .dataframe thead th {\n",
       "        text-align: right;\n",
       "    }\n",
       "</style>\n",
       "<table border=\"1\" class=\"dataframe\">\n",
       "  <thead>\n",
       "    <tr style=\"text-align: right;\">\n",
       "      <th></th>\n",
       "      <th>patient</th>\n",
       "      <th>stop</th>\n",
       "      <th>condition_category</th>\n",
       "      <th>id</th>\n",
       "      <th>deathdate</th>\n",
       "    </tr>\n",
       "  </thead>\n",
       "  <tbody>\n",
       "    <tr>\n",
       "      <th>15</th>\n",
       "      <td>d709f84f-7d2c-440b-a979-2bc27d41f63a</td>\n",
       "      <td>2011-11-14</td>\n",
       "      <td>Wounds and Injuries</td>\n",
       "      <td>d709f84f-7d2c-440b-a979-2bc27d41f63a</td>\n",
       "      <td>2019-01-07</td>\n",
       "    </tr>\n",
       "    <tr>\n",
       "      <th>18</th>\n",
       "      <td>d709f84f-7d2c-440b-a979-2bc27d41f63a</td>\n",
       "      <td>2013-01-14</td>\n",
       "      <td>Upper Respiratory Tract</td>\n",
       "      <td>d709f84f-7d2c-440b-a979-2bc27d41f63a</td>\n",
       "      <td>2019-01-07</td>\n",
       "    </tr>\n",
       "    <tr>\n",
       "      <th>19</th>\n",
       "      <td>d709f84f-7d2c-440b-a979-2bc27d41f63a</td>\n",
       "      <td>1996-12-16</td>\n",
       "      <td>Upper Respiratory Tract</td>\n",
       "      <td>d709f84f-7d2c-440b-a979-2bc27d41f63a</td>\n",
       "      <td>2019-01-07</td>\n",
       "    </tr>\n",
       "    <tr>\n",
       "      <th>20</th>\n",
       "      <td>d709f84f-7d2c-440b-a979-2bc27d41f63a</td>\n",
       "      <td>1998-12-21</td>\n",
       "      <td>Upper Respiratory Tract</td>\n",
       "      <td>d709f84f-7d2c-440b-a979-2bc27d41f63a</td>\n",
       "      <td>2019-01-07</td>\n",
       "    </tr>\n",
       "    <tr>\n",
       "      <th>21</th>\n",
       "      <td>d709f84f-7d2c-440b-a979-2bc27d41f63a</td>\n",
       "      <td>1999-12-27</td>\n",
       "      <td>Upper Respiratory Tract</td>\n",
       "      <td>d709f84f-7d2c-440b-a979-2bc27d41f63a</td>\n",
       "      <td>2019-01-07</td>\n",
       "    </tr>\n",
       "  </tbody>\n",
       "</table>\n",
       "</div>"
      ],
      "text/plain": [
       "                                 patient       stop       condition_category  \\\n",
       "15  d709f84f-7d2c-440b-a979-2bc27d41f63a 2011-11-14      Wounds and Injuries   \n",
       "18  d709f84f-7d2c-440b-a979-2bc27d41f63a 2013-01-14  Upper Respiratory Tract   \n",
       "19  d709f84f-7d2c-440b-a979-2bc27d41f63a 1996-12-16  Upper Respiratory Tract   \n",
       "20  d709f84f-7d2c-440b-a979-2bc27d41f63a 1998-12-21  Upper Respiratory Tract   \n",
       "21  d709f84f-7d2c-440b-a979-2bc27d41f63a 1999-12-27  Upper Respiratory Tract   \n",
       "\n",
       "                                      id  deathdate  \n",
       "15  d709f84f-7d2c-440b-a979-2bc27d41f63a 2019-01-07  \n",
       "18  d709f84f-7d2c-440b-a979-2bc27d41f63a 2019-01-07  \n",
       "19  d709f84f-7d2c-440b-a979-2bc27d41f63a 2019-01-07  \n",
       "20  d709f84f-7d2c-440b-a979-2bc27d41f63a 2019-01-07  \n",
       "21  d709f84f-7d2c-440b-a979-2bc27d41f63a 2019-01-07  "
      ]
     },
     "execution_count": 18,
     "metadata": {},
     "output_type": "execute_result"
    }
   ],
   "source": [
    "#Lets try to determine the cause of deaths from each patient -  by comparing their condition stopdates and deathdates\n",
    "df = pd.merge(conditions[['patient','stop','condition_category']],patients[['id','deathdate']],how = 'left',left_on = 'patient',right_on = 'id')\n",
    "df = df.loc[df.patient.isin(dead.id)]\n",
    "#df.loc[df.stop.isnull(),'stop'] = df.loc[df.stop.isnull(),'deathdate']\n",
    "df.stop = df.stop.apply(pd.to_datetime)\n",
    "df.head()"
   ]
  },
  {
   "cell_type": "code",
   "execution_count": 19,
   "metadata": {},
   "outputs": [
    {
     "data": {
      "text/html": [
       "<div>\n",
       "<style scoped>\n",
       "    .dataframe tbody tr th:only-of-type {\n",
       "        vertical-align: middle;\n",
       "    }\n",
       "\n",
       "    .dataframe tbody tr th {\n",
       "        vertical-align: top;\n",
       "    }\n",
       "\n",
       "    .dataframe thead th {\n",
       "        text-align: right;\n",
       "    }\n",
       "</style>\n",
       "<table border=\"1\" class=\"dataframe\">\n",
       "  <thead>\n",
       "    <tr style=\"text-align: right;\">\n",
       "      <th></th>\n",
       "      <th>patient</th>\n",
       "      <th>stop</th>\n",
       "      <th>condition_category</th>\n",
       "      <th>id</th>\n",
       "      <th>deathdate</th>\n",
       "    </tr>\n",
       "  </thead>\n",
       "  <tbody>\n",
       "    <tr>\n",
       "      <th>3886</th>\n",
       "      <td>65e207e3-ce9e-4682-9cc7-23f99f4b68f2</td>\n",
       "      <td>1986-03-10</td>\n",
       "      <td>Upper Respiratory Tract</td>\n",
       "      <td>65e207e3-ce9e-4682-9cc7-23f99f4b68f2</td>\n",
       "      <td>1985-11-10</td>\n",
       "    </tr>\n",
       "    <tr>\n",
       "      <th>11082</th>\n",
       "      <td>d187324d-94b5-4ead-8293-e94c5f6f198b</td>\n",
       "      <td>1997-02-04</td>\n",
       "      <td>Upper Respiratory Tract</td>\n",
       "      <td>d187324d-94b5-4ead-8293-e94c5f6f198b</td>\n",
       "      <td>1995-04-23</td>\n",
       "    </tr>\n",
       "    <tr>\n",
       "      <th>11083</th>\n",
       "      <td>d187324d-94b5-4ead-8293-e94c5f6f198b</td>\n",
       "      <td>1997-03-07</td>\n",
       "      <td>Lower Respiratory Tract</td>\n",
       "      <td>d187324d-94b5-4ead-8293-e94c5f6f198b</td>\n",
       "      <td>1995-04-23</td>\n",
       "    </tr>\n",
       "    <tr>\n",
       "      <th>13525</th>\n",
       "      <td>0f6d2679-0141-4827-82ac-aa5de2dd11d4</td>\n",
       "      <td>2014-06-18</td>\n",
       "      <td>Wounds and Injuries</td>\n",
       "      <td>0f6d2679-0141-4827-82ac-aa5de2dd11d4</td>\n",
       "      <td>2011-04-13</td>\n",
       "    </tr>\n",
       "    <tr>\n",
       "      <th>13526</th>\n",
       "      <td>0f6d2679-0141-4827-82ac-aa5de2dd11d4</td>\n",
       "      <td>2014-06-18</td>\n",
       "      <td>Arthritis</td>\n",
       "      <td>0f6d2679-0141-4827-82ac-aa5de2dd11d4</td>\n",
       "      <td>2011-04-13</td>\n",
       "    </tr>\n",
       "  </tbody>\n",
       "</table>\n",
       "</div>"
      ],
      "text/plain": [
       "                                    patient       stop  \\\n",
       "3886   65e207e3-ce9e-4682-9cc7-23f99f4b68f2 1986-03-10   \n",
       "11082  d187324d-94b5-4ead-8293-e94c5f6f198b 1997-02-04   \n",
       "11083  d187324d-94b5-4ead-8293-e94c5f6f198b 1997-03-07   \n",
       "13525  0f6d2679-0141-4827-82ac-aa5de2dd11d4 2014-06-18   \n",
       "13526  0f6d2679-0141-4827-82ac-aa5de2dd11d4 2014-06-18   \n",
       "\n",
       "            condition_category                                    id  \\\n",
       "3886   Upper Respiratory Tract  65e207e3-ce9e-4682-9cc7-23f99f4b68f2   \n",
       "11082  Upper Respiratory Tract  d187324d-94b5-4ead-8293-e94c5f6f198b   \n",
       "11083  Lower Respiratory Tract  d187324d-94b5-4ead-8293-e94c5f6f198b   \n",
       "13525      Wounds and Injuries  0f6d2679-0141-4827-82ac-aa5de2dd11d4   \n",
       "13526                Arthritis  0f6d2679-0141-4827-82ac-aa5de2dd11d4   \n",
       "\n",
       "       deathdate  \n",
       "3886  1985-11-10  \n",
       "11082 1995-04-23  \n",
       "11083 1995-04-23  \n",
       "13525 2011-04-13  \n",
       "13526 2011-04-13  "
      ]
     },
     "execution_count": 19,
     "metadata": {},
     "output_type": "execute_result"
    }
   ],
   "source": [
    "df.loc[(df.deathdate - df.stop).dt.days < 0].head()"
   ]
  },
  {
   "cell_type": "markdown",
   "metadata": {},
   "source": [
    "What? Patients have stop-dates 2 years after they died. Looks like this data (condition stop-date) was put in by the hospitals once they found out patient was dead (Which may be long after they were dead!). This is not the actual stop-dates. \n",
    "\n",
    "That would mean each of the stop-dates are not the genuine stop-dates but only when the hospitals found out about it."
   ]
  },
  {
   "cell_type": "code",
   "execution_count": 20,
   "metadata": {},
   "outputs": [
    {
     "data": {
      "image/png": "[encoded data removed]",
      "text/plain": [
       "<Figure size 1080x360 with 1 Axes>"
      ]
     },
     "metadata": {
      "needs_background": "light"
     },
     "output_type": "display_data"
    }
   ],
   "source": [
    "plt.figure(figsize = (15,5))\n",
    "dead_cond = df.groupby('condition_category')['patient'].nunique().sort_values(ascending = False)\n",
    "sns.barplot(dead_cond.index,dead_cond.values)\n",
    "plt.xticks(rotation = 70)\n",
    "plt.show()"
   ]
  },
  {
   "cell_type": "markdown",
   "metadata": {},
   "source": [
    "Upper respiratory infections and lifestyle issues are the major conditions that the now dead suffered from. I want to know how these conditions progressed throughout the years. But before that, we need to understand a bit more about the conditions table - can we rely on this data?\n"
   ]
  },
  {
   "cell_type": "code",
   "execution_count": 21,
   "metadata": {},
   "outputs": [
    {
     "data": {
      "text/html": [
       "<div>\n",
       "<style scoped>\n",
       "    .dataframe tbody tr th:only-of-type {\n",
       "        vertical-align: middle;\n",
       "    }\n",
       "\n",
       "    .dataframe tbody tr th {\n",
       "        vertical-align: top;\n",
       "    }\n",
       "\n",
       "    .dataframe thead th {\n",
       "        text-align: right;\n",
       "    }\n",
       "</style>\n",
       "<table border=\"1\" class=\"dataframe\">\n",
       "  <thead>\n",
       "    <tr style=\"text-align: right;\">\n",
       "      <th></th>\n",
       "      <th>start</th>\n",
       "      <th>stop</th>\n",
       "      <th>patient</th>\n",
       "      <th>encounter</th>\n",
       "      <th>code</th>\n",
       "      <th>description</th>\n",
       "      <th>condition_category</th>\n",
       "    </tr>\n",
       "  </thead>\n",
       "  <tbody>\n",
       "    <tr>\n",
       "      <th>0</th>\n",
       "      <td>2013-12-07</td>\n",
       "      <td>2013-12-07</td>\n",
       "      <td>c0d528b6-cdae-4d98-8936-a270f8827eb7</td>\n",
       "      <td>06429fa8-52a8-4e07-bd6a-b102b136cfa6</td>\n",
       "      <td>241929008</td>\n",
       "      <td>Acute allergic reaction</td>\n",
       "      <td>Others</td>\n",
       "    </tr>\n",
       "    <tr>\n",
       "      <th>1</th>\n",
       "      <td>2014-12-03</td>\n",
       "      <td>2014-12-17</td>\n",
       "      <td>c0d528b6-cdae-4d98-8936-a270f8827eb7</td>\n",
       "      <td>2a24757d-039d-41d3-9570-4fe170c8a282</td>\n",
       "      <td>10509002</td>\n",
       "      <td>Acute bronchitis (disorder)</td>\n",
       "      <td>Lower Respiratory Tract</td>\n",
       "    </tr>\n",
       "    <tr>\n",
       "      <th>2</th>\n",
       "      <td>2015-02-17</td>\n",
       "      <td>NaT</td>\n",
       "      <td>c0d528b6-cdae-4d98-8936-a270f8827eb7</td>\n",
       "      <td>12b7aa28-f443-4ab1-87aa-0509a4e8a1bf</td>\n",
       "      <td>232353008</td>\n",
       "      <td>Perennial allergic rhinitis with seasonal vari...</td>\n",
       "      <td>Upper Respiratory Tract</td>\n",
       "    </tr>\n",
       "    <tr>\n",
       "      <th>3</th>\n",
       "      <td>2015-02-17</td>\n",
       "      <td>NaT</td>\n",
       "      <td>c0d528b6-cdae-4d98-8936-a270f8827eb7</td>\n",
       "      <td>6a95d43e-d1e5-4ab3-9a92-82f287b64f5d</td>\n",
       "      <td>233678006</td>\n",
       "      <td>Childhood asthma</td>\n",
       "      <td>Lower Respiratory Tract</td>\n",
       "    </tr>\n",
       "    <tr>\n",
       "      <th>4</th>\n",
       "      <td>2016-02-11</td>\n",
       "      <td>2016-02-18</td>\n",
       "      <td>c0d528b6-cdae-4d98-8936-a270f8827eb7</td>\n",
       "      <td>e19abba9-95fd-4071-ad5f-7efec4123b99</td>\n",
       "      <td>10509002</td>\n",
       "      <td>Acute bronchitis (disorder)</td>\n",
       "      <td>Lower Respiratory Tract</td>\n",
       "    </tr>\n",
       "  </tbody>\n",
       "</table>\n",
       "</div>"
      ],
      "text/plain": [
       "       start       stop                               patient  \\\n",
       "0 2013-12-07 2013-12-07  c0d528b6-cdae-4d98-8936-a270f8827eb7   \n",
       "1 2014-12-03 2014-12-17  c0d528b6-cdae-4d98-8936-a270f8827eb7   \n",
       "2 2015-02-17        NaT  c0d528b6-cdae-4d98-8936-a270f8827eb7   \n",
       "3 2015-02-17        NaT  c0d528b6-cdae-4d98-8936-a270f8827eb7   \n",
       "4 2016-02-11 2016-02-18  c0d528b6-cdae-4d98-8936-a270f8827eb7   \n",
       "\n",
       "                              encounter       code  \\\n",
       "0  06429fa8-52a8-4e07-bd6a-b102b136cfa6  241929008   \n",
       "1  2a24757d-039d-41d3-9570-4fe170c8a282   10509002   \n",
       "2  12b7aa28-f443-4ab1-87aa-0509a4e8a1bf  232353008   \n",
       "3  6a95d43e-d1e5-4ab3-9a92-82f287b64f5d  233678006   \n",
       "4  e19abba9-95fd-4071-ad5f-7efec4123b99   10509002   \n",
       "\n",
       "                                         description       condition_category  \n",
       "0                            Acute allergic reaction                   Others  \n",
       "1                        Acute bronchitis (disorder)  Lower Respiratory Tract  \n",
       "2  Perennial allergic rhinitis with seasonal vari...  Upper Respiratory Tract  \n",
       "3                                   Childhood asthma  Lower Respiratory Tract  \n",
       "4                        Acute bronchitis (disorder)  Lower Respiratory Tract  "
      ]
     },
     "execution_count": 21,
     "metadata": {},
     "output_type": "execute_result"
    }
   ],
   "source": [
    "conditions.head()"
   ]
  },
  {
   "cell_type": "code",
   "execution_count": 22,
   "metadata": {},
   "outputs": [
    {
     "data": {
      "text/html": [
       "<div>\n",
       "<style scoped>\n",
       "    .dataframe tbody tr th:only-of-type {\n",
       "        vertical-align: middle;\n",
       "    }\n",
       "\n",
       "    .dataframe tbody tr th {\n",
       "        vertical-align: top;\n",
       "    }\n",
       "\n",
       "    .dataframe thead th {\n",
       "        text-align: right;\n",
       "    }\n",
       "</style>\n",
       "<table border=\"1\" class=\"dataframe\">\n",
       "  <thead>\n",
       "    <tr style=\"text-align: right;\">\n",
       "      <th></th>\n",
       "      <th>patient</th>\n",
       "      <th>description</th>\n",
       "      <th>condition_category</th>\n",
       "      <th>start</th>\n",
       "      <th>stop</th>\n",
       "      <th>id</th>\n",
       "      <th>birthdate</th>\n",
       "      <th>deathdate</th>\n",
       "    </tr>\n",
       "  </thead>\n",
       "  <tbody>\n",
       "    <tr>\n",
       "      <th>0</th>\n",
       "      <td>c0d528b6-cdae-4d98-8936-a270f8827eb7</td>\n",
       "      <td>Acute allergic reaction</td>\n",
       "      <td>Others</td>\n",
       "      <td>2013-12-07</td>\n",
       "      <td>2013-12-07</td>\n",
       "      <td>c0d528b6-cdae-4d98-8936-a270f8827eb7</td>\n",
       "      <td>2013-02-10</td>\n",
       "      <td>NaT</td>\n",
       "    </tr>\n",
       "    <tr>\n",
       "      <th>1</th>\n",
       "      <td>c0d528b6-cdae-4d98-8936-a270f8827eb7</td>\n",
       "      <td>Acute bronchitis (disorder)</td>\n",
       "      <td>Lower Respiratory Tract</td>\n",
       "      <td>2014-12-03</td>\n",
       "      <td>2014-12-17</td>\n",
       "      <td>c0d528b6-cdae-4d98-8936-a270f8827eb7</td>\n",
       "      <td>2013-02-10</td>\n",
       "      <td>NaT</td>\n",
       "    </tr>\n",
       "    <tr>\n",
       "      <th>2</th>\n",
       "      <td>c0d528b6-cdae-4d98-8936-a270f8827eb7</td>\n",
       "      <td>Perennial allergic rhinitis with seasonal vari...</td>\n",
       "      <td>Upper Respiratory Tract</td>\n",
       "      <td>2015-02-17</td>\n",
       "      <td>NaT</td>\n",
       "      <td>c0d528b6-cdae-4d98-8936-a270f8827eb7</td>\n",
       "      <td>2013-02-10</td>\n",
       "      <td>NaT</td>\n",
       "    </tr>\n",
       "    <tr>\n",
       "      <th>3</th>\n",
       "      <td>c0d528b6-cdae-4d98-8936-a270f8827eb7</td>\n",
       "      <td>Childhood asthma</td>\n",
       "      <td>Lower Respiratory Tract</td>\n",
       "      <td>2015-02-17</td>\n",
       "      <td>NaT</td>\n",
       "      <td>c0d528b6-cdae-4d98-8936-a270f8827eb7</td>\n",
       "      <td>2013-02-10</td>\n",
       "      <td>NaT</td>\n",
       "    </tr>\n",
       "    <tr>\n",
       "      <th>4</th>\n",
       "      <td>c0d528b6-cdae-4d98-8936-a270f8827eb7</td>\n",
       "      <td>Acute bronchitis (disorder)</td>\n",
       "      <td>Lower Respiratory Tract</td>\n",
       "      <td>2016-02-11</td>\n",
       "      <td>2016-02-18</td>\n",
       "      <td>c0d528b6-cdae-4d98-8936-a270f8827eb7</td>\n",
       "      <td>2013-02-10</td>\n",
       "      <td>NaT</td>\n",
       "    </tr>\n",
       "  </tbody>\n",
       "</table>\n",
       "</div>"
      ],
      "text/plain": [
       "                                patient  \\\n",
       "0  c0d528b6-cdae-4d98-8936-a270f8827eb7   \n",
       "1  c0d528b6-cdae-4d98-8936-a270f8827eb7   \n",
       "2  c0d528b6-cdae-4d98-8936-a270f8827eb7   \n",
       "3  c0d528b6-cdae-4d98-8936-a270f8827eb7   \n",
       "4  c0d528b6-cdae-4d98-8936-a270f8827eb7   \n",
       "\n",
       "                                         description       condition_category  \\\n",
       "0                            Acute allergic reaction                   Others   \n",
       "1                        Acute bronchitis (disorder)  Lower Respiratory Tract   \n",
       "2  Perennial allergic rhinitis with seasonal vari...  Upper Respiratory Tract   \n",
       "3                                   Childhood asthma  Lower Respiratory Tract   \n",
       "4                        Acute bronchitis (disorder)  Lower Respiratory Tract   \n",
       "\n",
       "       start       stop                                    id  birthdate  \\\n",
       "0 2013-12-07 2013-12-07  c0d528b6-cdae-4d98-8936-a270f8827eb7 2013-02-10   \n",
       "1 2014-12-03 2014-12-17  c0d528b6-cdae-4d98-8936-a270f8827eb7 2013-02-10   \n",
       "2 2015-02-17        NaT  c0d528b6-cdae-4d98-8936-a270f8827eb7 2013-02-10   \n",
       "3 2015-02-17        NaT  c0d528b6-cdae-4d98-8936-a270f8827eb7 2013-02-10   \n",
       "4 2016-02-11 2016-02-18  c0d528b6-cdae-4d98-8936-a270f8827eb7 2013-02-10   \n",
       "\n",
       "  deathdate  \n",
       "0       NaT  \n",
       "1       NaT  \n",
       "2       NaT  \n",
       "3       NaT  \n",
       "4       NaT  "
      ]
     },
     "execution_count": 22,
     "metadata": {},
     "output_type": "execute_result"
    }
   ],
   "source": [
    "df = pd.merge(conditions[['patient','description','condition_category','start','stop']],patients[['id','birthdate','deathdate']],how = 'left',left_on = 'patient',right_on = 'id')\n",
    "df.head()"
   ]
  },
  {
   "cell_type": "code",
   "execution_count": 23,
   "metadata": {},
   "outputs": [
    {
     "data": {
      "text/plain": [
       "16"
      ]
     },
     "execution_count": 23,
     "metadata": {},
     "output_type": "execute_result"
    }
   ],
   "source": [
    "df.loc[df.start > df.deathdate,'patient'].nunique()"
   ]
  },
  {
   "cell_type": "markdown",
   "metadata": {},
   "source": [
    "There are 16 such cases where patients have died and we have a condition reported for them years after their death"
   ]
  },
  {
   "cell_type": "code",
   "execution_count": 24,
   "metadata": {},
   "outputs": [
    {
     "data": {
      "text/plain": [
       "Others                     156\n",
       "Urinary Tract Infection     70\n",
       "Chronic Pain                46\n",
       "Mental Health                3\n",
       "Name: condition_category, dtype: int64"
      ]
     },
     "execution_count": 24,
     "metadata": {},
     "output_type": "execute_result"
    }
   ],
   "source": [
    "df.loc[df.start == df.stop,'condition_category'].value_counts()"
   ]
  },
  {
   "cell_type": "markdown",
   "metadata": {},
   "source": [
    "Conditions with equal start and stop dates are for patients who experienced minor illnesses. This looks okay!"
   ]
  },
  {
   "cell_type": "code",
   "execution_count": 25,
   "metadata": {},
   "outputs": [
    {
     "data": {
      "text/html": [
       "<div>\n",
       "<style scoped>\n",
       "    .dataframe tbody tr th:only-of-type {\n",
       "        vertical-align: middle;\n",
       "    }\n",
       "\n",
       "    .dataframe tbody tr th {\n",
       "        vertical-align: top;\n",
       "    }\n",
       "\n",
       "    .dataframe thead th {\n",
       "        text-align: right;\n",
       "    }\n",
       "</style>\n",
       "<table border=\"1\" class=\"dataframe\">\n",
       "  <thead>\n",
       "    <tr style=\"text-align: right;\">\n",
       "      <th></th>\n",
       "      <th>patient</th>\n",
       "      <th>description</th>\n",
       "      <th>condition_category</th>\n",
       "      <th>start</th>\n",
       "      <th>stop</th>\n",
       "      <th>id</th>\n",
       "      <th>birthdate</th>\n",
       "      <th>deathdate</th>\n",
       "    </tr>\n",
       "  </thead>\n",
       "  <tbody>\n",
       "    <tr>\n",
       "      <th>14115</th>\n",
       "      <td>f274e59b-681e-45fa-89f5-7ef6bd291b4c</td>\n",
       "      <td>Alzheimer's disease (disorder)</td>\n",
       "      <td>Brain Damage</td>\n",
       "      <td>1981-01-03</td>\n",
       "      <td>NaT</td>\n",
       "      <td>f274e59b-681e-45fa-89f5-7ef6bd291b4c</td>\n",
       "      <td>2003-11-12</td>\n",
       "      <td>1988-11-27</td>\n",
       "    </tr>\n",
       "    <tr>\n",
       "      <th>14116</th>\n",
       "      <td>f274e59b-681e-45fa-89f5-7ef6bd291b4c</td>\n",
       "      <td>Pneumonia</td>\n",
       "      <td>Lower Respiratory Tract</td>\n",
       "      <td>1988-11-22</td>\n",
       "      <td>NaT</td>\n",
       "      <td>f274e59b-681e-45fa-89f5-7ef6bd291b4c</td>\n",
       "      <td>2003-11-12</td>\n",
       "      <td>1988-11-27</td>\n",
       "    </tr>\n",
       "    <tr>\n",
       "      <th>59234</th>\n",
       "      <td>f9ab506d-beb4-49a7-9f84-569d9ac7544b</td>\n",
       "      <td>Seizure disorder</td>\n",
       "      <td>Brain Damage</td>\n",
       "      <td>1941-09-18</td>\n",
       "      <td>NaT</td>\n",
       "      <td>f9ab506d-beb4-49a7-9f84-569d9ac7544b</td>\n",
       "      <td>1971-08-08</td>\n",
       "      <td>NaT</td>\n",
       "    </tr>\n",
       "    <tr>\n",
       "      <th>59235</th>\n",
       "      <td>f9ab506d-beb4-49a7-9f84-569d9ac7544b</td>\n",
       "      <td>History of single seizure (situation)</td>\n",
       "      <td>Brain Damage</td>\n",
       "      <td>1941-09-18</td>\n",
       "      <td>NaT</td>\n",
       "      <td>f9ab506d-beb4-49a7-9f84-569d9ac7544b</td>\n",
       "      <td>1971-08-08</td>\n",
       "      <td>NaT</td>\n",
       "    </tr>\n",
       "    <tr>\n",
       "      <th>59236</th>\n",
       "      <td>f9ab506d-beb4-49a7-9f84-569d9ac7544b</td>\n",
       "      <td>Epilepsy</td>\n",
       "      <td>Brain Damage</td>\n",
       "      <td>1941-09-18</td>\n",
       "      <td>NaT</td>\n",
       "      <td>f9ab506d-beb4-49a7-9f84-569d9ac7544b</td>\n",
       "      <td>1971-08-08</td>\n",
       "      <td>NaT</td>\n",
       "    </tr>\n",
       "    <tr>\n",
       "      <th>70866</th>\n",
       "      <td>82186679-c053-4d63-b66e-fc082c59ea03</td>\n",
       "      <td>Seizure disorder</td>\n",
       "      <td>Brain Damage</td>\n",
       "      <td>1956-04-07</td>\n",
       "      <td>NaT</td>\n",
       "      <td>82186679-c053-4d63-b66e-fc082c59ea03</td>\n",
       "      <td>1971-07-17</td>\n",
       "      <td>1957-02-02</td>\n",
       "    </tr>\n",
       "    <tr>\n",
       "      <th>70867</th>\n",
       "      <td>82186679-c053-4d63-b66e-fc082c59ea03</td>\n",
       "      <td>History of single seizure (situation)</td>\n",
       "      <td>Brain Damage</td>\n",
       "      <td>1956-04-07</td>\n",
       "      <td>NaT</td>\n",
       "      <td>82186679-c053-4d63-b66e-fc082c59ea03</td>\n",
       "      <td>1971-07-17</td>\n",
       "      <td>1957-02-02</td>\n",
       "    </tr>\n",
       "  </tbody>\n",
       "</table>\n",
       "</div>"
      ],
      "text/plain": [
       "                                    patient  \\\n",
       "14115  f274e59b-681e-45fa-89f5-7ef6bd291b4c   \n",
       "14116  f274e59b-681e-45fa-89f5-7ef6bd291b4c   \n",
       "59234  f9ab506d-beb4-49a7-9f84-569d9ac7544b   \n",
       "59235  f9ab506d-beb4-49a7-9f84-569d9ac7544b   \n",
       "59236  f9ab506d-beb4-49a7-9f84-569d9ac7544b   \n",
       "70866  82186679-c053-4d63-b66e-fc082c59ea03   \n",
       "70867  82186679-c053-4d63-b66e-fc082c59ea03   \n",
       "\n",
       "                                 description       condition_category  \\\n",
       "14115         Alzheimer's disease (disorder)             Brain Damage   \n",
       "14116                              Pneumonia  Lower Respiratory Tract   \n",
       "59234                       Seizure disorder             Brain Damage   \n",
       "59235  History of single seizure (situation)             Brain Damage   \n",
       "59236                               Epilepsy             Brain Damage   \n",
       "70866                       Seizure disorder             Brain Damage   \n",
       "70867  History of single seizure (situation)             Brain Damage   \n",
       "\n",
       "           start stop                                    id  birthdate  \\\n",
       "14115 1981-01-03  NaT  f274e59b-681e-45fa-89f5-7ef6bd291b4c 2003-11-12   \n",
       "14116 1988-11-22  NaT  f274e59b-681e-45fa-89f5-7ef6bd291b4c 2003-11-12   \n",
       "59234 1941-09-18  NaT  f9ab506d-beb4-49a7-9f84-569d9ac7544b 1971-08-08   \n",
       "59235 1941-09-18  NaT  f9ab506d-beb4-49a7-9f84-569d9ac7544b 1971-08-08   \n",
       "59236 1941-09-18  NaT  f9ab506d-beb4-49a7-9f84-569d9ac7544b 1971-08-08   \n",
       "70866 1956-04-07  NaT  82186679-c053-4d63-b66e-fc082c59ea03 1971-07-17   \n",
       "70867 1956-04-07  NaT  82186679-c053-4d63-b66e-fc082c59ea03 1971-07-17   \n",
       "\n",
       "       deathdate  \n",
       "14115 1988-11-27  \n",
       "14116 1988-11-27  \n",
       "59234        NaT  \n",
       "59235        NaT  \n",
       "59236        NaT  \n",
       "70866 1957-02-02  \n",
       "70867 1957-02-02  "
      ]
     },
     "execution_count": 25,
     "metadata": {},
     "output_type": "execute_result"
    }
   ],
   "source": [
    "df.loc[df.start < df.birthdate]"
   ]
  },
  {
   "cell_type": "markdown",
   "metadata": {},
   "source": [
    "3 patients who have conditions reported before they were born! Oh, say hello to our negative age guys too! Looks like they mis-reported their birthdates!\n",
    "\n",
    "We will remove these 19 (16 and 3) patients from further analysis, and assume that rest of the guys dont have any errors in the data"
   ]
  },
  {
   "cell_type": "code",
   "execution_count": 26,
   "metadata": {},
   "outputs": [
    {
     "data": {
      "text/html": [
       "<div>\n",
       "<style scoped>\n",
       "    .dataframe tbody tr th:only-of-type {\n",
       "        vertical-align: middle;\n",
       "    }\n",
       "\n",
       "    .dataframe tbody tr th {\n",
       "        vertical-align: top;\n",
       "    }\n",
       "\n",
       "    .dataframe thead th {\n",
       "        text-align: right;\n",
       "    }\n",
       "</style>\n",
       "<table border=\"1\" class=\"dataframe\">\n",
       "  <thead>\n",
       "    <tr style=\"text-align: right;\">\n",
       "      <th></th>\n",
       "      <th>patient</th>\n",
       "      <th>condition_category</th>\n",
       "      <th>start</th>\n",
       "      <th>stop</th>\n",
       "      <th>birthdate</th>\n",
       "      <th>deathdate</th>\n",
       "    </tr>\n",
       "  </thead>\n",
       "  <tbody>\n",
       "    <tr>\n",
       "      <th>0</th>\n",
       "      <td>c0d528b6-cdae-4d98-8936-a270f8827eb7</td>\n",
       "      <td>Others</td>\n",
       "      <td>2013-12-07</td>\n",
       "      <td>2013-12-07</td>\n",
       "      <td>2013-02-10</td>\n",
       "      <td>NaT</td>\n",
       "    </tr>\n",
       "    <tr>\n",
       "      <th>1</th>\n",
       "      <td>c0d528b6-cdae-4d98-8936-a270f8827eb7</td>\n",
       "      <td>Lower Respiratory Tract</td>\n",
       "      <td>2014-12-03</td>\n",
       "      <td>2014-12-17</td>\n",
       "      <td>2013-02-10</td>\n",
       "      <td>NaT</td>\n",
       "    </tr>\n",
       "    <tr>\n",
       "      <th>2</th>\n",
       "      <td>c0d528b6-cdae-4d98-8936-a270f8827eb7</td>\n",
       "      <td>Upper Respiratory Tract</td>\n",
       "      <td>2015-02-17</td>\n",
       "      <td>NaT</td>\n",
       "      <td>2013-02-10</td>\n",
       "      <td>NaT</td>\n",
       "    </tr>\n",
       "    <tr>\n",
       "      <th>3</th>\n",
       "      <td>c0d528b6-cdae-4d98-8936-a270f8827eb7</td>\n",
       "      <td>Lower Respiratory Tract</td>\n",
       "      <td>2015-02-17</td>\n",
       "      <td>NaT</td>\n",
       "      <td>2013-02-10</td>\n",
       "      <td>NaT</td>\n",
       "    </tr>\n",
       "    <tr>\n",
       "      <th>4</th>\n",
       "      <td>c0d528b6-cdae-4d98-8936-a270f8827eb7</td>\n",
       "      <td>Lower Respiratory Tract</td>\n",
       "      <td>2016-02-11</td>\n",
       "      <td>2016-02-18</td>\n",
       "      <td>2013-02-10</td>\n",
       "      <td>NaT</td>\n",
       "    </tr>\n",
       "  </tbody>\n",
       "</table>\n",
       "</div>"
      ],
      "text/plain": [
       "                                patient       condition_category      start  \\\n",
       "0  c0d528b6-cdae-4d98-8936-a270f8827eb7                   Others 2013-12-07   \n",
       "1  c0d528b6-cdae-4d98-8936-a270f8827eb7  Lower Respiratory Tract 2014-12-03   \n",
       "2  c0d528b6-cdae-4d98-8936-a270f8827eb7  Upper Respiratory Tract 2015-02-17   \n",
       "3  c0d528b6-cdae-4d98-8936-a270f8827eb7  Lower Respiratory Tract 2015-02-17   \n",
       "4  c0d528b6-cdae-4d98-8936-a270f8827eb7  Lower Respiratory Tract 2016-02-11   \n",
       "\n",
       "        stop  birthdate deathdate  \n",
       "0 2013-12-07 2013-02-10       NaT  \n",
       "1 2014-12-17 2013-02-10       NaT  \n",
       "2        NaT 2013-02-10       NaT  \n",
       "3        NaT 2013-02-10       NaT  \n",
       "4 2016-02-18 2013-02-10       NaT  "
      ]
     },
     "execution_count": 26,
     "metadata": {},
     "output_type": "execute_result"
    }
   ],
   "source": [
    "errors = df.loc[(df.start > df.deathdate) | (df.start < df.birthdate) ,'patient'].to_list()\n",
    "#filtered data - excluded the patients with mis-reported data and restricted to patients who died between 1980 and 2020 \n",
    "df = df.loc[df.patient.isin(errors) == False]\n",
    "df = df.loc[((df.deathdate.dt.year > 1980) & (df.deathdate.dt.year < 2020)) | df.deathdate.isnull()]\n",
    "df = df[['patient','condition_category','start','stop','birthdate','deathdate']].drop_duplicates().reset_index(drop = True)\n",
    "df.head()"
   ]
  },
  {
   "cell_type": "code",
   "execution_count": 27,
   "metadata": {},
   "outputs": [],
   "source": [
    "def mapping_conditions(data):\n",
    "    all_years = [i for i in range(1980,2020)]\n",
    "    condition_count = pd.DataFrame(columns = ['year'] + list(conditions.condition_category.value_counts().index))\n",
    "    \n",
    "    for year in all_years:\n",
    "        temp = data.loc[(data.birthdate.dt.year < year) & ((data.deathdate.dt.year > year)|data.deathdate.dt.year.isnull()) & (data.start.dt.year <= year) & ((data.stop.dt.year >= year) | data.stop.dt.year.isnull()),'condition_category'].value_counts()\n",
    "        condition_count = condition_count.append(temp,ignore_index = True)\n",
    "    \n",
    "    condition_count.year = all_years\n",
    "    condition_count.set_index('year',inplace = True)\n",
    "\n",
    "\n",
    "    return condition_count"
   ]
  },
  {
   "cell_type": "code",
   "execution_count": 28,
   "metadata": {},
   "outputs": [
    {
     "data": {
      "image/png": "[encoded data removed]",
      "text/plain": [
       "<Figure size 1080x360 with 1 Axes>"
      ]
     },
     "metadata": {
      "needs_background": "light"
     },
     "output_type": "display_data"
    }
   ],
   "source": [
    "illness_map_all = mapping_conditions(df)\n",
    "plt.figure(figsize = (15,5))\n",
    "for col in illness_map_all.columns:\n",
    "    sns.lineplot(x = illness_map_all.index,y = illness_map_all[col],label = col)\n",
    "plt.legend(loc = 'lower right')\n",
    "plt.title('Condition Timeline')\n",
    "plt.ylabel('Number of patients')\n",
    "plt.show()    "
   ]
  },
  {
   "cell_type": "markdown",
   "metadata": {},
   "source": [
    "We can see almost all diseases/conditions kept on increasing. Few of them saw a phenominal rise. This doesn't show health of Massandopolis people in good light. Having 3-4 conditions on average and the continuous increase in the number of patients suffering from different diseases is not good at all."
   ]
  },
  {
   "cell_type": "code",
   "execution_count": 29,
   "metadata": {},
   "outputs": [],
   "source": [
    "df2 = df.loc[df.patient.isin(dead.id.to_list())]\n",
    "illness_map_dead = mapping_conditions(df2)"
   ]
  },
  {
   "cell_type": "code",
   "execution_count": 30,
   "metadata": {},
   "outputs": [
    {
     "data": {
      "image/png": "[encoded data removed]",
      "text/plain": [
       "<Figure size 1080x360 with 1 Axes>"
      ]
     },
     "metadata": {
      "needs_background": "light"
     },
     "output_type": "display_data"
    }
   ],
   "source": [
    "plt.figure(figsize = (15,5))\n",
    "for col in illness_map_dead.columns:\n",
    "    sns.lineplot(x = illness_map_dead.index,y = illness_map_dead[col],label = col)\n",
    "plt.legend(loc = 'lower right')\n",
    "plt.title('Condition Timeline - Dead')\n",
    "plt.ylabel('Number of patients')\n",
    "plt.show()    "
   ]
  },
  {
   "cell_type": "markdown",
   "metadata": {},
   "source": [
    "This one is really insightful. 3 conditions stand out here.\n",
    "1. Chronic Pain\n",
    "2. Addiction\n",
    "3. Dental\n",
    "\n",
    "All the above conditions saw quite a rise in the 1990s. There was quite a bump in the number of people (who are now dead) suffering from the above conditions. And there is quite a correlation between the 3. People suffering from chronic pain often end up being addicted to some kind of drugs and that impacts their dental hygiene as well.\n",
    "\n",
    "#### To sum it up, we saw quite a rise in addiction related issues in the 1990s when we also saw a linear increase in the number of deaths. It makes sense to think that this relationship is a causal one, and drug abuse claimed a lot of lives in the state.\n",
    "\n",
    "Now, lets focus on how fit/ equipped the population was to fight diseases. I want to understand the health of the population. Were they healthy? Were they vaccinated? What medicines were available to the population?\n"
   ]
  },
  {
   "cell_type": "code",
   "execution_count": null,
   "metadata": {},
   "outputs": [],
   "source": []
  }
 ],
 "metadata": {
  "kernelspec": {
   "display_name": "Python 3",
   "language": "python",
   "name": "python3"
  },
  "language_info": {
   "codemirror_mode": {
    "name": "ipython",
    "version": 3
   },
   "file_extension": ".py",
   "mimetype": "text/x-python",
   "name": "python",
   "nbconvert_exporter": "python",
   "pygments_lexer": "ipython3",
   "version": "3.7.3"
  }
 },
 "nbformat": 4,
 "nbformat_minor": 2
}
