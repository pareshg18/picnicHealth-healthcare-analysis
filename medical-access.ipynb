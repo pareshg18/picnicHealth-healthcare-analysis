{
 "cells": [
  {
   "cell_type": "code",
   "execution_count": 1,
   "metadata": {},
   "outputs": [],
   "source": [
    "import pandas as pd\n",
    "import numpy as np\n",
    "import os\n",
    "import glob\n",
    "import seaborn as sns\n",
    "import matplotlib.pyplot as plt"
   ]
  },
  {
   "cell_type": "code",
   "execution_count": 2,
   "metadata": {},
   "outputs": [
    {
     "data": {
      "text/plain": [
       "'C:\\\\Users\\\\pares\\\\Downloads\\\\ds_questions\\\\ds_questions\\\\massandopolis'"
      ]
     },
     "execution_count": 2,
     "metadata": {},
     "output_type": "execute_result"
    }
   ],
   "source": [
    "os.chdir('C:\\\\Users\\\\pares\\\\Downloads\\\\ds_questions\\\\ds_questions\\\\massandopolis')\n",
    "os.getcwd()"
   ]
  },
  {
   "cell_type": "code",
   "execution_count": 3,
   "metadata": {},
   "outputs": [
    {
     "data": {
      "text/plain": [
       "['allergies.csv',\n",
       " 'careplans.csv',\n",
       " 'concepts.csv',\n",
       " 'conditions.csv',\n",
       " 'conditions_updated.csv',\n",
       " 'encounters.csv',\n",
       " 'imaging_studies.csv',\n",
       " 'immunizations.csv',\n",
       " 'medications.csv',\n",
       " 'observations.csv',\n",
       " 'organizations.csv',\n",
       " 'patients.csv',\n",
       " 'patients_updated.csv',\n",
       " 'procedures.csv',\n",
       " 'providers.csv']"
      ]
     },
     "execution_count": 3,
     "metadata": {},
     "output_type": "execute_result"
    }
   ],
   "source": [
    "#what's my data?\n",
    "all_files = glob.glob('*.csv')\n",
    "all_files"
   ]
  },
  {
   "cell_type": "markdown",
   "metadata": {},
   "source": [
    "This part of analysis, we'll analyze if the people of Massandapolis had medical access. For this, we'll try to determine if there were enough healthcare centers nearby, and were they being treated for the conditions they were suffering from.\n",
    "\n",
    "- We'll look at medications, organizations and careplans data to assess this."
   ]
  },
  {
   "cell_type": "code",
   "execution_count": 4,
   "metadata": {},
   "outputs": [],
   "source": [
    "#loading previous files\n",
    "condition_categorized = np.load('condition_categories.npy',allow_pickle = 'TRUE').item()"
   ]
  },
  {
   "cell_type": "code",
   "execution_count": 5,
   "metadata": {},
   "outputs": [
    {
     "data": {
      "text/html": [
       "<div>\n",
       "<style scoped>\n",
       "    .dataframe tbody tr th:only-of-type {\n",
       "        vertical-align: middle;\n",
       "    }\n",
       "\n",
       "    .dataframe tbody tr th {\n",
       "        vertical-align: top;\n",
       "    }\n",
       "\n",
       "    .dataframe thead th {\n",
       "        text-align: right;\n",
       "    }\n",
       "</style>\n",
       "<table border=\"1\" class=\"dataframe\">\n",
       "  <thead>\n",
       "    <tr style=\"text-align: right;\">\n",
       "      <th></th>\n",
       "      <th>start</th>\n",
       "      <th>stop</th>\n",
       "      <th>patient</th>\n",
       "      <th>encounter</th>\n",
       "      <th>code</th>\n",
       "      <th>description</th>\n",
       "      <th>dispenses</th>\n",
       "      <th>reasoncode</th>\n",
       "      <th>reasondescription</th>\n",
       "    </tr>\n",
       "  </thead>\n",
       "  <tbody>\n",
       "    <tr>\n",
       "      <th>0</th>\n",
       "      <td>2013-12-07</td>\n",
       "      <td>2013-12-07</td>\n",
       "      <td>c0d528b6-cdae-4d98-8936-a270f8827eb7</td>\n",
       "      <td>06429fa8-52a8-4e07-bd6a-b102b136cfa6</td>\n",
       "      <td>312617</td>\n",
       "      <td>predniSONE 5 MG Oral Tablet</td>\n",
       "      <td>1</td>\n",
       "      <td>NaN</td>\n",
       "      <td>NaN</td>\n",
       "    </tr>\n",
       "    <tr>\n",
       "      <th>1</th>\n",
       "      <td>2013-12-20</td>\n",
       "      <td>NaT</td>\n",
       "      <td>c0d528b6-cdae-4d98-8936-a270f8827eb7</td>\n",
       "      <td>4fa6e02b-272c-4469-8ef6-814ac1fab7ce</td>\n",
       "      <td>997488</td>\n",
       "      <td>Fexofenadine hydrochloride 30 MG Oral Tablet</td>\n",
       "      <td>65</td>\n",
       "      <td>NaN</td>\n",
       "      <td>NaN</td>\n",
       "    </tr>\n",
       "    <tr>\n",
       "      <th>2</th>\n",
       "      <td>2013-12-20</td>\n",
       "      <td>NaT</td>\n",
       "      <td>c0d528b6-cdae-4d98-8936-a270f8827eb7</td>\n",
       "      <td>4fa6e02b-272c-4469-8ef6-814ac1fab7ce</td>\n",
       "      <td>1870230</td>\n",
       "      <td>NDA020800 0.3 ML Epinephrine 1 MG/ML Auto-Inje...</td>\n",
       "      <td>65</td>\n",
       "      <td>NaN</td>\n",
       "      <td>NaN</td>\n",
       "    </tr>\n",
       "    <tr>\n",
       "      <th>3</th>\n",
       "      <td>2014-12-03</td>\n",
       "      <td>2014-12-17</td>\n",
       "      <td>c0d528b6-cdae-4d98-8936-a270f8827eb7</td>\n",
       "      <td>2a24757d-039d-41d3-9570-4fe170c8a282</td>\n",
       "      <td>313782</td>\n",
       "      <td>Acetaminophen 325 MG Oral Tablet</td>\n",
       "      <td>1</td>\n",
       "      <td>10509002.0</td>\n",
       "      <td>Acute bronchitis (disorder)</td>\n",
       "    </tr>\n",
       "    <tr>\n",
       "      <th>4</th>\n",
       "      <td>2015-02-17</td>\n",
       "      <td>NaT</td>\n",
       "      <td>c0d528b6-cdae-4d98-8936-a270f8827eb7</td>\n",
       "      <td>6a95d43e-d1e5-4ab3-9a92-82f287b64f5d</td>\n",
       "      <td>895994</td>\n",
       "      <td>120 ACTUAT Fluticasone propionate 0.044 MG/ACT...</td>\n",
       "      <td>51</td>\n",
       "      <td>233678006.0</td>\n",
       "      <td>Childhood asthma</td>\n",
       "    </tr>\n",
       "  </tbody>\n",
       "</table>\n",
       "</div>"
      ],
      "text/plain": [
       "       start       stop                               patient  \\\n",
       "0 2013-12-07 2013-12-07  c0d528b6-cdae-4d98-8936-a270f8827eb7   \n",
       "1 2013-12-20        NaT  c0d528b6-cdae-4d98-8936-a270f8827eb7   \n",
       "2 2013-12-20        NaT  c0d528b6-cdae-4d98-8936-a270f8827eb7   \n",
       "3 2014-12-03 2014-12-17  c0d528b6-cdae-4d98-8936-a270f8827eb7   \n",
       "4 2015-02-17        NaT  c0d528b6-cdae-4d98-8936-a270f8827eb7   \n",
       "\n",
       "                              encounter     code  \\\n",
       "0  06429fa8-52a8-4e07-bd6a-b102b136cfa6   312617   \n",
       "1  4fa6e02b-272c-4469-8ef6-814ac1fab7ce   997488   \n",
       "2  4fa6e02b-272c-4469-8ef6-814ac1fab7ce  1870230   \n",
       "3  2a24757d-039d-41d3-9570-4fe170c8a282   313782   \n",
       "4  6a95d43e-d1e5-4ab3-9a92-82f287b64f5d   895994   \n",
       "\n",
       "                                         description  dispenses   reasoncode  \\\n",
       "0                        predniSONE 5 MG Oral Tablet          1          NaN   \n",
       "1       Fexofenadine hydrochloride 30 MG Oral Tablet         65          NaN   \n",
       "2  NDA020800 0.3 ML Epinephrine 1 MG/ML Auto-Inje...         65          NaN   \n",
       "3                   Acetaminophen 325 MG Oral Tablet          1   10509002.0   \n",
       "4  120 ACTUAT Fluticasone propionate 0.044 MG/ACT...         51  233678006.0   \n",
       "\n",
       "             reasondescription  \n",
       "0                          NaN  \n",
       "1                          NaN  \n",
       "2                          NaN  \n",
       "3  Acute bronchitis (disorder)  \n",
       "4             Childhood asthma  "
      ]
     },
     "execution_count": 5,
     "metadata": {},
     "output_type": "execute_result"
    }
   ],
   "source": [
    "medications = pd.read_csv('medications.csv')\n",
    "medications.columns = [i.lower() for i in medications]\n",
    "medications.start = medications.start.apply(pd.to_datetime)\n",
    "medications.stop = medications.stop.apply(pd.to_datetime)\n",
    "medications.head()"
   ]
  },
  {
   "cell_type": "code",
   "execution_count": 6,
   "metadata": {},
   "outputs": [
    {
     "data": {
      "text/html": [
       "<div>\n",
       "<style scoped>\n",
       "    .dataframe tbody tr th:only-of-type {\n",
       "        vertical-align: middle;\n",
       "    }\n",
       "\n",
       "    .dataframe tbody tr th {\n",
       "        vertical-align: top;\n",
       "    }\n",
       "\n",
       "    .dataframe thead th {\n",
       "        text-align: right;\n",
       "    }\n",
       "</style>\n",
       "<table border=\"1\" class=\"dataframe\">\n",
       "  <thead>\n",
       "    <tr style=\"text-align: right;\">\n",
       "      <th></th>\n",
       "      <th>start</th>\n",
       "      <th>stop</th>\n",
       "      <th>patient</th>\n",
       "      <th>encounter</th>\n",
       "      <th>code</th>\n",
       "      <th>description</th>\n",
       "      <th>condition_category</th>\n",
       "    </tr>\n",
       "  </thead>\n",
       "  <tbody>\n",
       "    <tr>\n",
       "      <th>0</th>\n",
       "      <td>2013-12-07</td>\n",
       "      <td>2013-12-07</td>\n",
       "      <td>c0d528b6-cdae-4d98-8936-a270f8827eb7</td>\n",
       "      <td>06429fa8-52a8-4e07-bd6a-b102b136cfa6</td>\n",
       "      <td>241929008</td>\n",
       "      <td>Acute allergic reaction</td>\n",
       "      <td>Others</td>\n",
       "    </tr>\n",
       "    <tr>\n",
       "      <th>1</th>\n",
       "      <td>2014-12-03</td>\n",
       "      <td>2014-12-17</td>\n",
       "      <td>c0d528b6-cdae-4d98-8936-a270f8827eb7</td>\n",
       "      <td>2a24757d-039d-41d3-9570-4fe170c8a282</td>\n",
       "      <td>10509002</td>\n",
       "      <td>Acute bronchitis (disorder)</td>\n",
       "      <td>Lower Respiratory Tract</td>\n",
       "    </tr>\n",
       "    <tr>\n",
       "      <th>2</th>\n",
       "      <td>2015-02-17</td>\n",
       "      <td>NaT</td>\n",
       "      <td>c0d528b6-cdae-4d98-8936-a270f8827eb7</td>\n",
       "      <td>12b7aa28-f443-4ab1-87aa-0509a4e8a1bf</td>\n",
       "      <td>232353008</td>\n",
       "      <td>Perennial allergic rhinitis with seasonal vari...</td>\n",
       "      <td>Upper Respiratory Tract</td>\n",
       "    </tr>\n",
       "    <tr>\n",
       "      <th>3</th>\n",
       "      <td>2015-02-17</td>\n",
       "      <td>NaT</td>\n",
       "      <td>c0d528b6-cdae-4d98-8936-a270f8827eb7</td>\n",
       "      <td>6a95d43e-d1e5-4ab3-9a92-82f287b64f5d</td>\n",
       "      <td>233678006</td>\n",
       "      <td>Childhood asthma</td>\n",
       "      <td>Lower Respiratory Tract</td>\n",
       "    </tr>\n",
       "    <tr>\n",
       "      <th>4</th>\n",
       "      <td>2016-02-11</td>\n",
       "      <td>2016-02-18</td>\n",
       "      <td>c0d528b6-cdae-4d98-8936-a270f8827eb7</td>\n",
       "      <td>e19abba9-95fd-4071-ad5f-7efec4123b99</td>\n",
       "      <td>10509002</td>\n",
       "      <td>Acute bronchitis (disorder)</td>\n",
       "      <td>Lower Respiratory Tract</td>\n",
       "    </tr>\n",
       "  </tbody>\n",
       "</table>\n",
       "</div>"
      ],
      "text/plain": [
       "       start       stop                               patient  \\\n",
       "0 2013-12-07 2013-12-07  c0d528b6-cdae-4d98-8936-a270f8827eb7   \n",
       "1 2014-12-03 2014-12-17  c0d528b6-cdae-4d98-8936-a270f8827eb7   \n",
       "2 2015-02-17        NaT  c0d528b6-cdae-4d98-8936-a270f8827eb7   \n",
       "3 2015-02-17        NaT  c0d528b6-cdae-4d98-8936-a270f8827eb7   \n",
       "4 2016-02-11 2016-02-18  c0d528b6-cdae-4d98-8936-a270f8827eb7   \n",
       "\n",
       "                              encounter       code  \\\n",
       "0  06429fa8-52a8-4e07-bd6a-b102b136cfa6  241929008   \n",
       "1  2a24757d-039d-41d3-9570-4fe170c8a282   10509002   \n",
       "2  12b7aa28-f443-4ab1-87aa-0509a4e8a1bf  232353008   \n",
       "3  6a95d43e-d1e5-4ab3-9a92-82f287b64f5d  233678006   \n",
       "4  e19abba9-95fd-4071-ad5f-7efec4123b99   10509002   \n",
       "\n",
       "                                         description       condition_category  \n",
       "0                            Acute allergic reaction                   Others  \n",
       "1                        Acute bronchitis (disorder)  Lower Respiratory Tract  \n",
       "2  Perennial allergic rhinitis with seasonal vari...  Upper Respiratory Tract  \n",
       "3                                   Childhood asthma  Lower Respiratory Tract  \n",
       "4                        Acute bronchitis (disorder)  Lower Respiratory Tract  "
      ]
     },
     "execution_count": 6,
     "metadata": {},
     "output_type": "execute_result"
    }
   ],
   "source": [
    "conditions = pd.read_csv('conditions_updated.csv')\n",
    "conditions.columns = [i.lower() for i in conditions.columns]\n",
    "conditions.start = conditions.start.apply(pd.to_datetime)\n",
    "conditions.stop = conditions.stop.apply(pd.to_datetime)\n",
    "conditions.head()"
   ]
  },
  {
   "cell_type": "code",
   "execution_count": 95,
   "metadata": {},
   "outputs": [
    {
     "name": "stdout",
     "output_type": "stream",
     "text": [
      "<class 'pandas.core.frame.DataFrame'>\n",
      "Int64Index: 207362 entries, 0 to 207361\n",
      "Data columns (total 7 columns):\n",
      "start                    207362 non-null datetime64[ns]\n",
      "stop                     147581 non-null datetime64[ns]\n",
      "patient                  207362 non-null object\n",
      "encounter                207362 non-null object\n",
      "condition_description    113541 non-null object\n",
      "medicine                 127417 non-null object\n",
      "medicine_reason          80795 non-null object\n",
      "dtypes: datetime64[ns](2), object(5)\n",
      "memory usage: 12.7+ MB\n"
     ]
    },
    {
     "data": {
      "text/html": [
       "<div>\n",
       "<style scoped>\n",
       "    .dataframe tbody tr th:only-of-type {\n",
       "        vertical-align: middle;\n",
       "    }\n",
       "\n",
       "    .dataframe tbody tr th {\n",
       "        vertical-align: top;\n",
       "    }\n",
       "\n",
       "    .dataframe thead th {\n",
       "        text-align: right;\n",
       "    }\n",
       "</style>\n",
       "<table border=\"1\" class=\"dataframe\">\n",
       "  <thead>\n",
       "    <tr style=\"text-align: right;\">\n",
       "      <th></th>\n",
       "      <th>start</th>\n",
       "      <th>stop</th>\n",
       "      <th>patient</th>\n",
       "      <th>encounter</th>\n",
       "      <th>condition_description</th>\n",
       "      <th>medicine</th>\n",
       "      <th>medicine_reason</th>\n",
       "    </tr>\n",
       "  </thead>\n",
       "  <tbody>\n",
       "    <tr>\n",
       "      <th>0</th>\n",
       "      <td>2013-12-07</td>\n",
       "      <td>2013-12-07</td>\n",
       "      <td>c0d528b6-cdae-4d98-8936-a270f8827eb7</td>\n",
       "      <td>06429fa8-52a8-4e07-bd6a-b102b136cfa6</td>\n",
       "      <td>Acute allergic reaction</td>\n",
       "      <td>predniSONE 5 MG Oral Tablet</td>\n",
       "      <td>NaN</td>\n",
       "    </tr>\n",
       "    <tr>\n",
       "      <th>1</th>\n",
       "      <td>2014-12-03</td>\n",
       "      <td>2014-12-17</td>\n",
       "      <td>c0d528b6-cdae-4d98-8936-a270f8827eb7</td>\n",
       "      <td>2a24757d-039d-41d3-9570-4fe170c8a282</td>\n",
       "      <td>Acute bronchitis (disorder)</td>\n",
       "      <td>Acetaminophen 325 MG Oral Tablet</td>\n",
       "      <td>Acute bronchitis (disorder)</td>\n",
       "    </tr>\n",
       "    <tr>\n",
       "      <th>2</th>\n",
       "      <td>2015-02-17</td>\n",
       "      <td>NaT</td>\n",
       "      <td>c0d528b6-cdae-4d98-8936-a270f8827eb7</td>\n",
       "      <td>12b7aa28-f443-4ab1-87aa-0509a4e8a1bf</td>\n",
       "      <td>Perennial allergic rhinitis with seasonal vari...</td>\n",
       "      <td>NaN</td>\n",
       "      <td>NaN</td>\n",
       "    </tr>\n",
       "    <tr>\n",
       "      <th>3</th>\n",
       "      <td>2015-02-17</td>\n",
       "      <td>NaT</td>\n",
       "      <td>c0d528b6-cdae-4d98-8936-a270f8827eb7</td>\n",
       "      <td>6a95d43e-d1e5-4ab3-9a92-82f287b64f5d</td>\n",
       "      <td>Childhood asthma</td>\n",
       "      <td>120 ACTUAT Fluticasone propionate 0.044 MG/ACT...</td>\n",
       "      <td>Childhood asthma</td>\n",
       "    </tr>\n",
       "    <tr>\n",
       "      <th>4</th>\n",
       "      <td>2015-02-17</td>\n",
       "      <td>NaT</td>\n",
       "      <td>c0d528b6-cdae-4d98-8936-a270f8827eb7</td>\n",
       "      <td>6a95d43e-d1e5-4ab3-9a92-82f287b64f5d</td>\n",
       "      <td>Childhood asthma</td>\n",
       "      <td>200 ACTUAT Albuterol 0.09 MG/ACTUAT Metered Do...</td>\n",
       "      <td>Childhood asthma</td>\n",
       "    </tr>\n",
       "  </tbody>\n",
       "</table>\n",
       "</div>"
      ],
      "text/plain": [
       "       start       stop                               patient  \\\n",
       "0 2013-12-07 2013-12-07  c0d528b6-cdae-4d98-8936-a270f8827eb7   \n",
       "1 2014-12-03 2014-12-17  c0d528b6-cdae-4d98-8936-a270f8827eb7   \n",
       "2 2015-02-17        NaT  c0d528b6-cdae-4d98-8936-a270f8827eb7   \n",
       "3 2015-02-17        NaT  c0d528b6-cdae-4d98-8936-a270f8827eb7   \n",
       "4 2015-02-17        NaT  c0d528b6-cdae-4d98-8936-a270f8827eb7   \n",
       "\n",
       "                              encounter  \\\n",
       "0  06429fa8-52a8-4e07-bd6a-b102b136cfa6   \n",
       "1  2a24757d-039d-41d3-9570-4fe170c8a282   \n",
       "2  12b7aa28-f443-4ab1-87aa-0509a4e8a1bf   \n",
       "3  6a95d43e-d1e5-4ab3-9a92-82f287b64f5d   \n",
       "4  6a95d43e-d1e5-4ab3-9a92-82f287b64f5d   \n",
       "\n",
       "                               condition_description  \\\n",
       "0                            Acute allergic reaction   \n",
       "1                        Acute bronchitis (disorder)   \n",
       "2  Perennial allergic rhinitis with seasonal vari...   \n",
       "3                                   Childhood asthma   \n",
       "4                                   Childhood asthma   \n",
       "\n",
       "                                            medicine  \\\n",
       "0                        predniSONE 5 MG Oral Tablet   \n",
       "1                   Acetaminophen 325 MG Oral Tablet   \n",
       "2                                                NaN   \n",
       "3  120 ACTUAT Fluticasone propionate 0.044 MG/ACT...   \n",
       "4  200 ACTUAT Albuterol 0.09 MG/ACTUAT Metered Do...   \n",
       "\n",
       "               medicine_reason  \n",
       "0                          NaN  \n",
       "1  Acute bronchitis (disorder)  \n",
       "2                          NaN  \n",
       "3             Childhood asthma  \n",
       "4             Childhood asthma  "
      ]
     },
     "execution_count": 95,
     "metadata": {},
     "output_type": "execute_result"
    }
   ],
   "source": [
    "#matching the medications with the conditions\n",
    "treatment = pd.merge(conditions,medications,how = 'outer',left_on = ['patient','encounter','start','stop'],right_on = ['patient','encounter','start','stop'])\n",
    "treatment = treatment[['start','stop','patient','encounter','description_x','description_y','reasondescription']]\n",
    "treatment.columns = ['start','stop','patient','encounter','condition_description','medicine','medicine_reason']\n",
    "treatment.info()\n",
    "treatment.head()"
   ]
  },
  {
   "cell_type": "markdown",
   "metadata": {},
   "source": [
    "We have a lot of missing missing condition/reasons for each medicine and encounters. Lets work on determining the missing diseases."
   ]
  },
  {
   "cell_type": "code",
   "execution_count": 96,
   "metadata": {},
   "outputs": [
    {
     "data": {
      "text/html": [
       "<div>\n",
       "<style scoped>\n",
       "    .dataframe tbody tr th:only-of-type {\n",
       "        vertical-align: middle;\n",
       "    }\n",
       "\n",
       "    .dataframe tbody tr th {\n",
       "        vertical-align: top;\n",
       "    }\n",
       "\n",
       "    .dataframe thead th {\n",
       "        text-align: right;\n",
       "    }\n",
       "</style>\n",
       "<table border=\"1\" class=\"dataframe\">\n",
       "  <thead>\n",
       "    <tr style=\"text-align: right;\">\n",
       "      <th></th>\n",
       "      <th>start</th>\n",
       "      <th>stop</th>\n",
       "      <th>patient</th>\n",
       "      <th>encounter</th>\n",
       "      <th>medicine</th>\n",
       "      <th>condition</th>\n",
       "    </tr>\n",
       "  </thead>\n",
       "  <tbody>\n",
       "    <tr>\n",
       "      <th>0</th>\n",
       "      <td>2013-12-07</td>\n",
       "      <td>2013-12-07</td>\n",
       "      <td>c0d528b6-cdae-4d98-8936-a270f8827eb7</td>\n",
       "      <td>06429fa8-52a8-4e07-bd6a-b102b136cfa6</td>\n",
       "      <td>predniSONE 5 MG Oral Tablet</td>\n",
       "      <td>Acute allergic reaction</td>\n",
       "    </tr>\n",
       "    <tr>\n",
       "      <th>1</th>\n",
       "      <td>2014-12-03</td>\n",
       "      <td>2014-12-17</td>\n",
       "      <td>c0d528b6-cdae-4d98-8936-a270f8827eb7</td>\n",
       "      <td>2a24757d-039d-41d3-9570-4fe170c8a282</td>\n",
       "      <td>Acetaminophen 325 MG Oral Tablet</td>\n",
       "      <td>Acute bronchitis (disorder)</td>\n",
       "    </tr>\n",
       "    <tr>\n",
       "      <th>2</th>\n",
       "      <td>2015-02-17</td>\n",
       "      <td>NaT</td>\n",
       "      <td>c0d528b6-cdae-4d98-8936-a270f8827eb7</td>\n",
       "      <td>12b7aa28-f443-4ab1-87aa-0509a4e8a1bf</td>\n",
       "      <td>NaN</td>\n",
       "      <td>Perennial allergic rhinitis with seasonal vari...</td>\n",
       "    </tr>\n",
       "    <tr>\n",
       "      <th>3</th>\n",
       "      <td>2015-02-17</td>\n",
       "      <td>NaT</td>\n",
       "      <td>c0d528b6-cdae-4d98-8936-a270f8827eb7</td>\n",
       "      <td>6a95d43e-d1e5-4ab3-9a92-82f287b64f5d</td>\n",
       "      <td>120 ACTUAT Fluticasone propionate 0.044 MG/ACT...</td>\n",
       "      <td>Childhood asthma</td>\n",
       "    </tr>\n",
       "    <tr>\n",
       "      <th>4</th>\n",
       "      <td>2015-02-17</td>\n",
       "      <td>NaT</td>\n",
       "      <td>c0d528b6-cdae-4d98-8936-a270f8827eb7</td>\n",
       "      <td>6a95d43e-d1e5-4ab3-9a92-82f287b64f5d</td>\n",
       "      <td>200 ACTUAT Albuterol 0.09 MG/ACTUAT Metered Do...</td>\n",
       "      <td>Childhood asthma</td>\n",
       "    </tr>\n",
       "  </tbody>\n",
       "</table>\n",
       "</div>"
      ],
      "text/plain": [
       "       start       stop                               patient  \\\n",
       "0 2013-12-07 2013-12-07  c0d528b6-cdae-4d98-8936-a270f8827eb7   \n",
       "1 2014-12-03 2014-12-17  c0d528b6-cdae-4d98-8936-a270f8827eb7   \n",
       "2 2015-02-17        NaT  c0d528b6-cdae-4d98-8936-a270f8827eb7   \n",
       "3 2015-02-17        NaT  c0d528b6-cdae-4d98-8936-a270f8827eb7   \n",
       "4 2015-02-17        NaT  c0d528b6-cdae-4d98-8936-a270f8827eb7   \n",
       "\n",
       "                              encounter  \\\n",
       "0  06429fa8-52a8-4e07-bd6a-b102b136cfa6   \n",
       "1  2a24757d-039d-41d3-9570-4fe170c8a282   \n",
       "2  12b7aa28-f443-4ab1-87aa-0509a4e8a1bf   \n",
       "3  6a95d43e-d1e5-4ab3-9a92-82f287b64f5d   \n",
       "4  6a95d43e-d1e5-4ab3-9a92-82f287b64f5d   \n",
       "\n",
       "                                            medicine  \\\n",
       "0                        predniSONE 5 MG Oral Tablet   \n",
       "1                   Acetaminophen 325 MG Oral Tablet   \n",
       "2                                                NaN   \n",
       "3  120 ACTUAT Fluticasone propionate 0.044 MG/ACT...   \n",
       "4  200 ACTUAT Albuterol 0.09 MG/ACTUAT Metered Do...   \n",
       "\n",
       "                                           condition  \n",
       "0                            Acute allergic reaction  \n",
       "1                        Acute bronchitis (disorder)  \n",
       "2  Perennial allergic rhinitis with seasonal vari...  \n",
       "3                                   Childhood asthma  \n",
       "4                                   Childhood asthma  "
      ]
     },
     "execution_count": 96,
     "metadata": {},
     "output_type": "execute_result"
    }
   ],
   "source": [
    "#determining missing conditions - where medicine reason is given, we dont need to do anything. I have taken the condition \n",
    "#desciption as the condition where medicine reason is missing\n",
    "treatment['condition'] = treatment.medicine_reason\n",
    "ind = treatment.loc[(treatment.condition_description.notnull()) & (treatment.medicine_reason.isnull())].index\n",
    "treatment.loc[treatment.index.isin(ind),'condition'] = treatment.loc[treatment.index.isin(ind),'condition_description']\n",
    "treatment.drop(columns = ['condition_description','medicine_reason'],inplace = True)\n",
    "treatment.head()"
   ]
  },
  {
   "cell_type": "code",
   "execution_count": 97,
   "metadata": {},
   "outputs": [
    {
     "data": {
      "text/plain": [
       "31234"
      ]
     },
     "execution_count": 97,
     "metadata": {},
     "output_type": "execute_result"
    }
   ],
   "source": [
    "#We still have a lot of missing conditions. Lets look at them in more detail\n",
    "len(treatment.loc[(treatment.condition.isnull())])"
   ]
  },
  {
   "cell_type": "code",
   "execution_count": 98,
   "metadata": {},
   "outputs": [
    {
     "data": {
      "text/html": [
       "<div>\n",
       "<style scoped>\n",
       "    .dataframe tbody tr th:only-of-type {\n",
       "        vertical-align: middle;\n",
       "    }\n",
       "\n",
       "    .dataframe tbody tr th {\n",
       "        vertical-align: top;\n",
       "    }\n",
       "\n",
       "    .dataframe thead th {\n",
       "        text-align: right;\n",
       "    }\n",
       "</style>\n",
       "<table border=\"1\" class=\"dataframe\">\n",
       "  <thead>\n",
       "    <tr style=\"text-align: right;\">\n",
       "      <th></th>\n",
       "      <th>start</th>\n",
       "      <th>stop</th>\n",
       "      <th>patient</th>\n",
       "      <th>encounter</th>\n",
       "      <th>medicine</th>\n",
       "      <th>condition</th>\n",
       "    </tr>\n",
       "  </thead>\n",
       "  <tbody>\n",
       "  </tbody>\n",
       "</table>\n",
       "</div>"
      ],
      "text/plain": [
       "Empty DataFrame\n",
       "Columns: [start, stop, patient, encounter, medicine, condition]\n",
       "Index: []"
      ]
     },
     "execution_count": 98,
     "metadata": {},
     "output_type": "execute_result"
    }
   ],
   "source": [
    "treatment.loc[(treatment.condition.isnull()) & (treatment.medicine.isnull()) ]"
   ]
  },
  {
   "cell_type": "markdown",
   "metadata": {},
   "source": [
    "Point to note -  We have the medicine names at all places where we have missing conditions. Lets use google and other observations to determine the usage of each of these medicines, and then determine condition category (if not, the condition)"
   ]
  },
  {
   "cell_type": "code",
   "execution_count": 99,
   "metadata": {},
   "outputs": [
    {
     "data": {
      "text/plain": [
       "84"
      ]
     },
     "execution_count": 99,
     "metadata": {},
     "output_type": "execute_result"
    }
   ],
   "source": [
    "#Now, we have are down to observations where we know patient took a medicine, but dont know for what conditon/illness.\n",
    "#I'm gonna reduce this list further down from domain knowledge\n",
    "lst = treatment.loc[treatment.condition.isnull(),'medicine'].value_counts().index.to_list()\n",
    "len(lst)"
   ]
  },
  {
   "cell_type": "markdown",
   "metadata": {},
   "source": [
    "We have 84 such medicines. Lets categorize them."
   ]
  },
  {
   "cell_type": "code",
   "execution_count": 100,
   "metadata": {},
   "outputs": [],
   "source": [
    "pregnancy = ['Jolivette 28 Day Pack','Camila 28 Day Pack','Errin 28 Day Pack','Estrostep Fe 28 Day Pack','Norinyl 1+50 28 Day Pack','Mirena 52 MG Intrauterine System',\n",
    "                         'Ortho Tri-Cyclen 28 Day Pack','Etonogestrel 68 MG Drug Implant','Mestranol / Norethynodrel [Enovid]',\n",
    "                      'NuvaRing 0.12/0.015 MG per 24HR 21 Day Vaginal Ring','Levonorgestrel 0.00354 MG/HR Drug Implant',\n",
    "                        'Trinessa 28 Day Pack','Yaz 28 Day Pack','Seasonique 91 Day Pack','Levora 0.15/30 28 Day Pack',\n",
    "             'Natazia 28 Day Pack','Kyleena 19.5 MG Intrauterine System','Liletta 52 MG Intrauterine System',\n",
    "             '1 ML medroxyprogesterone acetate 150 MG/ML Injection','168 HR Ethinyl Estradiol 0.00146 MG/HR / norelgestromin 0.00625 MG/HR Transdermal System',\n",
    "             '0.65 ML medroxyprogesterone acetate 160 MG/ML Prefilled Syringe'\n",
    "                     ]\n",
    "seizures = ['Clonazepam [Klonopin]','Carbamazepine[Tegretol]','Diazepam [Valium]']\n",
    "lifestyle = ['Vitamin B 12 5 MG/ML Injectable Solution','Atorvastatin 80 MG Oral Tablet']\n",
    "cardiovascular = ['Nitroglycerin 0.4 MG/ACTUAT Mucosal Spray','Amlodipine 5 MG Oral Tablet','Simvastatin 20 MG Oral Tablet',\n",
    "                 'Verapamil Hydrochloride 40 MG','Clopidogrel 75 MG Oral Tablet','Alteplase 100 MG Injection',\n",
    "                 '3 ML Amiodarone hydrocholoride 50 MG/ML Prefilled Syringe']\n",
    "addiction = ['24hr nicotine transdermal patch']\n",
    "uti = ['2 ML Ondansetron 2 MG/ML Injection','Piperacillin 4000 MG / tazobactam 500 MG Injection','Midazolam 1 MG/ML Injectable Solution',\n",
    "      'heparin sodium  porcine','Rocuronium bromide 10 MG/ML Injectable Solution','100 ML Propofol 10 MG/ML Injection','Remifentanil',\n",
    "      'Isoflurane 999 MG/ML Inhalant Solution','Alfentanil','sevoflurane 1000 MG/ML Inhalant Solution']\n",
    "allergy = ['predniSONE 5 MG Oral Tablet']\n",
    "arthritis = ['Alendronic acid 10 MG Oral Tablet']"
   ]
  },
  {
   "cell_type": "code",
   "execution_count": 101,
   "metadata": {},
   "outputs": [
    {
     "data": {
      "text/plain": [
       "38"
      ]
     },
     "execution_count": 101,
     "metadata": {},
     "output_type": "execute_result"
    }
   ],
   "source": [
    "84-(len(pregnancy) + len(seizures) + len(lifestyle) + len(cardiovascular) + len(addiction) + len(uti) + len(allergy) + len(arthritis))"
   ]
  },
  {
   "cell_type": "markdown",
   "metadata": {},
   "source": [
    "We have been able to reduce the 84 figure to 38. The remaining medicines are mostly pain killers, therefore, the conditions are hard to determine using them. Lets use what we got, and move forward with the analysis."
   ]
  },
  {
   "cell_type": "code",
   "execution_count": 102,
   "metadata": {},
   "outputs": [],
   "source": [
    "treatment['condition_category'] = treatment.condition.map(condition_categorized)"
   ]
  },
  {
   "cell_type": "code",
   "execution_count": 103,
   "metadata": {},
   "outputs": [],
   "source": [
    "#mapping the missing conditions\n",
    "treatment.loc[(treatment.condition_category.isnull()) & (treatment.medicine.isin(pregnancy)),'condition_category'] = 'Pregnancy'\n",
    "treatment.loc[(treatment.condition_category.isnull()) & (treatment.medicine.isin(seizures)),'condition_category'] = 'Brain Damage'\n",
    "treatment.loc[(treatment.condition_category.isnull()) & (treatment.medicine.isin(lifestyle)),'condition_category'] = 'Lifestyle Diseases'\n",
    "treatment.loc[(treatment.condition_category.isnull()) & (treatment.medicine.isin(cardiovascular)),'condition_category'] = 'Cardiovascular diseases'\n",
    "treatment.loc[(treatment.condition_category.isnull()) & (treatment.medicine.isin(addiction)),'condition_category'] = 'Addiction'\n",
    "treatment.loc[(treatment.condition_category.isnull()) & (treatment.medicine.isin(uti)),'condition_category'] = 'Urinary Tract Infection'\n",
    "treatment.loc[(treatment.condition_category.isnull()) & (treatment.medicine.isin(allergy)),'condition_category'] = 'Others'\n",
    "treatment.loc[(treatment.condition_category.isnull()) & (treatment.medicine.isin(arthritis)),'condition_category'] = 'Arthritis'"
   ]
  },
  {
   "cell_type": "code",
   "execution_count": 104,
   "metadata": {},
   "outputs": [
    {
     "data": {
      "text/html": [
       "<div>\n",
       "<style scoped>\n",
       "    .dataframe tbody tr th:only-of-type {\n",
       "        vertical-align: middle;\n",
       "    }\n",
       "\n",
       "    .dataframe tbody tr th {\n",
       "        vertical-align: top;\n",
       "    }\n",
       "\n",
       "    .dataframe thead th {\n",
       "        text-align: right;\n",
       "    }\n",
       "</style>\n",
       "<table border=\"1\" class=\"dataframe\">\n",
       "  <thead>\n",
       "    <tr style=\"text-align: right;\">\n",
       "      <th></th>\n",
       "      <th>start</th>\n",
       "      <th>stop</th>\n",
       "      <th>patient</th>\n",
       "      <th>encounter</th>\n",
       "      <th>medicine</th>\n",
       "      <th>condition</th>\n",
       "      <th>condition_category</th>\n",
       "    </tr>\n",
       "  </thead>\n",
       "  <tbody>\n",
       "    <tr>\n",
       "      <th>0</th>\n",
       "      <td>2013-12-07</td>\n",
       "      <td>2013-12-07</td>\n",
       "      <td>c0d528b6-cdae-4d98-8936-a270f8827eb7</td>\n",
       "      <td>06429fa8-52a8-4e07-bd6a-b102b136cfa6</td>\n",
       "      <td>predniSONE 5 MG Oral Tablet</td>\n",
       "      <td>Acute allergic reaction</td>\n",
       "      <td>Others</td>\n",
       "    </tr>\n",
       "    <tr>\n",
       "      <th>1</th>\n",
       "      <td>2014-12-03</td>\n",
       "      <td>2014-12-17</td>\n",
       "      <td>c0d528b6-cdae-4d98-8936-a270f8827eb7</td>\n",
       "      <td>2a24757d-039d-41d3-9570-4fe170c8a282</td>\n",
       "      <td>Acetaminophen 325 MG Oral Tablet</td>\n",
       "      <td>Acute bronchitis (disorder)</td>\n",
       "      <td>Lower Respiratory Tract</td>\n",
       "    </tr>\n",
       "    <tr>\n",
       "      <th>2</th>\n",
       "      <td>2015-02-17</td>\n",
       "      <td>NaT</td>\n",
       "      <td>c0d528b6-cdae-4d98-8936-a270f8827eb7</td>\n",
       "      <td>12b7aa28-f443-4ab1-87aa-0509a4e8a1bf</td>\n",
       "      <td>NaN</td>\n",
       "      <td>Perennial allergic rhinitis with seasonal vari...</td>\n",
       "      <td>Upper Respiratory Tract</td>\n",
       "    </tr>\n",
       "    <tr>\n",
       "      <th>3</th>\n",
       "      <td>2015-02-17</td>\n",
       "      <td>NaT</td>\n",
       "      <td>c0d528b6-cdae-4d98-8936-a270f8827eb7</td>\n",
       "      <td>6a95d43e-d1e5-4ab3-9a92-82f287b64f5d</td>\n",
       "      <td>120 ACTUAT Fluticasone propionate 0.044 MG/ACT...</td>\n",
       "      <td>Childhood asthma</td>\n",
       "      <td>Lower Respiratory Tract</td>\n",
       "    </tr>\n",
       "    <tr>\n",
       "      <th>4</th>\n",
       "      <td>2015-02-17</td>\n",
       "      <td>NaT</td>\n",
       "      <td>c0d528b6-cdae-4d98-8936-a270f8827eb7</td>\n",
       "      <td>6a95d43e-d1e5-4ab3-9a92-82f287b64f5d</td>\n",
       "      <td>200 ACTUAT Albuterol 0.09 MG/ACTUAT Metered Do...</td>\n",
       "      <td>Childhood asthma</td>\n",
       "      <td>Lower Respiratory Tract</td>\n",
       "    </tr>\n",
       "  </tbody>\n",
       "</table>\n",
       "</div>"
      ],
      "text/plain": [
       "       start       stop                               patient  \\\n",
       "0 2013-12-07 2013-12-07  c0d528b6-cdae-4d98-8936-a270f8827eb7   \n",
       "1 2014-12-03 2014-12-17  c0d528b6-cdae-4d98-8936-a270f8827eb7   \n",
       "2 2015-02-17        NaT  c0d528b6-cdae-4d98-8936-a270f8827eb7   \n",
       "3 2015-02-17        NaT  c0d528b6-cdae-4d98-8936-a270f8827eb7   \n",
       "4 2015-02-17        NaT  c0d528b6-cdae-4d98-8936-a270f8827eb7   \n",
       "\n",
       "                              encounter  \\\n",
       "0  06429fa8-52a8-4e07-bd6a-b102b136cfa6   \n",
       "1  2a24757d-039d-41d3-9570-4fe170c8a282   \n",
       "2  12b7aa28-f443-4ab1-87aa-0509a4e8a1bf   \n",
       "3  6a95d43e-d1e5-4ab3-9a92-82f287b64f5d   \n",
       "4  6a95d43e-d1e5-4ab3-9a92-82f287b64f5d   \n",
       "\n",
       "                                            medicine  \\\n",
       "0                        predniSONE 5 MG Oral Tablet   \n",
       "1                   Acetaminophen 325 MG Oral Tablet   \n",
       "2                                                NaN   \n",
       "3  120 ACTUAT Fluticasone propionate 0.044 MG/ACT...   \n",
       "4  200 ACTUAT Albuterol 0.09 MG/ACTUAT Metered Do...   \n",
       "\n",
       "                                           condition       condition_category  \n",
       "0                            Acute allergic reaction                   Others  \n",
       "1                        Acute bronchitis (disorder)  Lower Respiratory Tract  \n",
       "2  Perennial allergic rhinitis with seasonal vari...  Upper Respiratory Tract  \n",
       "3                                   Childhood asthma  Lower Respiratory Tract  \n",
       "4                                   Childhood asthma  Lower Respiratory Tract  "
      ]
     },
     "execution_count": 104,
     "metadata": {},
     "output_type": "execute_result"
    }
   ],
   "source": [
    "treatment.head()"
   ]
  },
  {
   "cell_type": "markdown",
   "metadata": {},
   "source": [
    "- Now that we have compiled and aggregated our data, its time to extract a few insights from it. In the above set, it would be safe to assume, patients with missing values in medicine did not take any medicine for their conditions. Therefore, we can use this to determine the ratio of patients who were treating their illnesses vs who weren't. And then I'd like to compare that with people who are still alive vs who now have passed away.\n",
    "\n",
    "- This would help us understand whether patients who died, did so due to lack of medications."
   ]
  },
  {
   "cell_type": "code",
   "execution_count": 105,
   "metadata": {},
   "outputs": [],
   "source": [
    "treatment['medicated'] = 'no'\n",
    "treatment.loc[treatment.medicine.notnull(),'medicated'] = 'yes'"
   ]
  },
  {
   "cell_type": "code",
   "execution_count": 106,
   "metadata": {},
   "outputs": [
    {
     "data": {
      "text/html": [
       "<div>\n",
       "<style scoped>\n",
       "    .dataframe tbody tr th:only-of-type {\n",
       "        vertical-align: middle;\n",
       "    }\n",
       "\n",
       "    .dataframe tbody tr th {\n",
       "        vertical-align: top;\n",
       "    }\n",
       "\n",
       "    .dataframe thead th {\n",
       "        text-align: right;\n",
       "    }\n",
       "</style>\n",
       "<table border=\"1\" class=\"dataframe\">\n",
       "  <thead>\n",
       "    <tr style=\"text-align: right;\">\n",
       "      <th></th>\n",
       "      <th>start</th>\n",
       "      <th>stop</th>\n",
       "      <th>patient</th>\n",
       "      <th>encounter</th>\n",
       "      <th>medicine</th>\n",
       "      <th>condition</th>\n",
       "      <th>condition_category</th>\n",
       "      <th>medicated</th>\n",
       "    </tr>\n",
       "  </thead>\n",
       "  <tbody>\n",
       "    <tr>\n",
       "      <th>0</th>\n",
       "      <td>2013-12-07</td>\n",
       "      <td>2013-12-07</td>\n",
       "      <td>c0d528b6-cdae-4d98-8936-a270f8827eb7</td>\n",
       "      <td>06429fa8-52a8-4e07-bd6a-b102b136cfa6</td>\n",
       "      <td>predniSONE 5 MG Oral Tablet</td>\n",
       "      <td>Acute allergic reaction</td>\n",
       "      <td>Others</td>\n",
       "      <td>yes</td>\n",
       "    </tr>\n",
       "    <tr>\n",
       "      <th>1</th>\n",
       "      <td>2014-12-03</td>\n",
       "      <td>2014-12-17</td>\n",
       "      <td>c0d528b6-cdae-4d98-8936-a270f8827eb7</td>\n",
       "      <td>2a24757d-039d-41d3-9570-4fe170c8a282</td>\n",
       "      <td>Acetaminophen 325 MG Oral Tablet</td>\n",
       "      <td>Acute bronchitis (disorder)</td>\n",
       "      <td>Lower Respiratory Tract</td>\n",
       "      <td>yes</td>\n",
       "    </tr>\n",
       "    <tr>\n",
       "      <th>2</th>\n",
       "      <td>2015-02-17</td>\n",
       "      <td>NaT</td>\n",
       "      <td>c0d528b6-cdae-4d98-8936-a270f8827eb7</td>\n",
       "      <td>12b7aa28-f443-4ab1-87aa-0509a4e8a1bf</td>\n",
       "      <td>NaN</td>\n",
       "      <td>Perennial allergic rhinitis with seasonal vari...</td>\n",
       "      <td>Upper Respiratory Tract</td>\n",
       "      <td>no</td>\n",
       "    </tr>\n",
       "    <tr>\n",
       "      <th>3</th>\n",
       "      <td>2015-02-17</td>\n",
       "      <td>NaT</td>\n",
       "      <td>c0d528b6-cdae-4d98-8936-a270f8827eb7</td>\n",
       "      <td>6a95d43e-d1e5-4ab3-9a92-82f287b64f5d</td>\n",
       "      <td>120 ACTUAT Fluticasone propionate 0.044 MG/ACT...</td>\n",
       "      <td>Childhood asthma</td>\n",
       "      <td>Lower Respiratory Tract</td>\n",
       "      <td>yes</td>\n",
       "    </tr>\n",
       "    <tr>\n",
       "      <th>4</th>\n",
       "      <td>2015-02-17</td>\n",
       "      <td>NaT</td>\n",
       "      <td>c0d528b6-cdae-4d98-8936-a270f8827eb7</td>\n",
       "      <td>6a95d43e-d1e5-4ab3-9a92-82f287b64f5d</td>\n",
       "      <td>200 ACTUAT Albuterol 0.09 MG/ACTUAT Metered Do...</td>\n",
       "      <td>Childhood asthma</td>\n",
       "      <td>Lower Respiratory Tract</td>\n",
       "      <td>yes</td>\n",
       "    </tr>\n",
       "  </tbody>\n",
       "</table>\n",
       "</div>"
      ],
      "text/plain": [
       "       start       stop                               patient  \\\n",
       "0 2013-12-07 2013-12-07  c0d528b6-cdae-4d98-8936-a270f8827eb7   \n",
       "1 2014-12-03 2014-12-17  c0d528b6-cdae-4d98-8936-a270f8827eb7   \n",
       "2 2015-02-17        NaT  c0d528b6-cdae-4d98-8936-a270f8827eb7   \n",
       "3 2015-02-17        NaT  c0d528b6-cdae-4d98-8936-a270f8827eb7   \n",
       "4 2015-02-17        NaT  c0d528b6-cdae-4d98-8936-a270f8827eb7   \n",
       "\n",
       "                              encounter  \\\n",
       "0  06429fa8-52a8-4e07-bd6a-b102b136cfa6   \n",
       "1  2a24757d-039d-41d3-9570-4fe170c8a282   \n",
       "2  12b7aa28-f443-4ab1-87aa-0509a4e8a1bf   \n",
       "3  6a95d43e-d1e5-4ab3-9a92-82f287b64f5d   \n",
       "4  6a95d43e-d1e5-4ab3-9a92-82f287b64f5d   \n",
       "\n",
       "                                            medicine  \\\n",
       "0                        predniSONE 5 MG Oral Tablet   \n",
       "1                   Acetaminophen 325 MG Oral Tablet   \n",
       "2                                                NaN   \n",
       "3  120 ACTUAT Fluticasone propionate 0.044 MG/ACT...   \n",
       "4  200 ACTUAT Albuterol 0.09 MG/ACTUAT Metered Do...   \n",
       "\n",
       "                                           condition       condition_category  \\\n",
       "0                            Acute allergic reaction                   Others   \n",
       "1                        Acute bronchitis (disorder)  Lower Respiratory Tract   \n",
       "2  Perennial allergic rhinitis with seasonal vari...  Upper Respiratory Tract   \n",
       "3                                   Childhood asthma  Lower Respiratory Tract   \n",
       "4                                   Childhood asthma  Lower Respiratory Tract   \n",
       "\n",
       "  medicated  \n",
       "0       yes  \n",
       "1       yes  \n",
       "2        no  \n",
       "3       yes  \n",
       "4       yes  "
      ]
     },
     "execution_count": 106,
     "metadata": {},
     "output_type": "execute_result"
    }
   ],
   "source": [
    "treatment.head()"
   ]
  },
  {
   "cell_type": "code",
   "execution_count": 107,
   "metadata": {},
   "outputs": [],
   "source": [
    "#lets bring in the patients data to get d.o.d.\n",
    "patients = pd.read_csv('patients_updated.csv')\n",
    "treatment = pd.merge(treatment,patients[['id','deathdate']], how = 'left',left_on = 'patient',right_on = 'id')"
   ]
  },
  {
   "cell_type": "code",
   "execution_count": 108,
   "metadata": {},
   "outputs": [],
   "source": [
    "treatment['alive'] = 'no'\n",
    "treatment.loc[treatment.deathdate.isnull(),'alive'] = 'yes'\n",
    "treatment.drop(columns = ['id','deathdate'],inplace = True)"
   ]
  },
  {
   "cell_type": "code",
   "execution_count": 109,
   "metadata": {},
   "outputs": [
    {
     "data": {
      "text/html": [
       "<div>\n",
       "<style scoped>\n",
       "    .dataframe tbody tr th:only-of-type {\n",
       "        vertical-align: middle;\n",
       "    }\n",
       "\n",
       "    .dataframe tbody tr th {\n",
       "        vertical-align: top;\n",
       "    }\n",
       "\n",
       "    .dataframe thead th {\n",
       "        text-align: right;\n",
       "    }\n",
       "</style>\n",
       "<table border=\"1\" class=\"dataframe\">\n",
       "  <thead>\n",
       "    <tr style=\"text-align: right;\">\n",
       "      <th></th>\n",
       "      <th>start</th>\n",
       "      <th>stop</th>\n",
       "      <th>patient</th>\n",
       "      <th>encounter</th>\n",
       "      <th>medicine</th>\n",
       "      <th>condition</th>\n",
       "      <th>condition_category</th>\n",
       "      <th>medicated</th>\n",
       "      <th>alive</th>\n",
       "    </tr>\n",
       "  </thead>\n",
       "  <tbody>\n",
       "    <tr>\n",
       "      <th>0</th>\n",
       "      <td>2013-12-07</td>\n",
       "      <td>2013-12-07</td>\n",
       "      <td>c0d528b6-cdae-4d98-8936-a270f8827eb7</td>\n",
       "      <td>06429fa8-52a8-4e07-bd6a-b102b136cfa6</td>\n",
       "      <td>predniSONE 5 MG Oral Tablet</td>\n",
       "      <td>Acute allergic reaction</td>\n",
       "      <td>Others</td>\n",
       "      <td>yes</td>\n",
       "      <td>yes</td>\n",
       "    </tr>\n",
       "    <tr>\n",
       "      <th>1</th>\n",
       "      <td>2014-12-03</td>\n",
       "      <td>2014-12-17</td>\n",
       "      <td>c0d528b6-cdae-4d98-8936-a270f8827eb7</td>\n",
       "      <td>2a24757d-039d-41d3-9570-4fe170c8a282</td>\n",
       "      <td>Acetaminophen 325 MG Oral Tablet</td>\n",
       "      <td>Acute bronchitis (disorder)</td>\n",
       "      <td>Lower Respiratory Tract</td>\n",
       "      <td>yes</td>\n",
       "      <td>yes</td>\n",
       "    </tr>\n",
       "  </tbody>\n",
       "</table>\n",
       "</div>"
      ],
      "text/plain": [
       "       start       stop                               patient  \\\n",
       "0 2013-12-07 2013-12-07  c0d528b6-cdae-4d98-8936-a270f8827eb7   \n",
       "1 2014-12-03 2014-12-17  c0d528b6-cdae-4d98-8936-a270f8827eb7   \n",
       "\n",
       "                              encounter                          medicine  \\\n",
       "0  06429fa8-52a8-4e07-bd6a-b102b136cfa6       predniSONE 5 MG Oral Tablet   \n",
       "1  2a24757d-039d-41d3-9570-4fe170c8a282  Acetaminophen 325 MG Oral Tablet   \n",
       "\n",
       "                     condition       condition_category medicated alive  \n",
       "0      Acute allergic reaction                   Others       yes   yes  \n",
       "1  Acute bronchitis (disorder)  Lower Respiratory Tract       yes   yes  "
      ]
     },
     "execution_count": 109,
     "metadata": {},
     "output_type": "execute_result"
    }
   ],
   "source": [
    "treatment.head(2)"
   ]
  },
  {
   "cell_type": "code",
   "execution_count": 110,
   "metadata": {},
   "outputs": [
    {
     "data": {
      "text/plain": [
       "Index(['Lifestyle Diseases', 'Upper Respiratory Tract', 'Chronic Pain',\n",
       "       'Lower Respiratory Tract', 'Pregnancy', 'Wounds and Injuries',\n",
       "       'Cardiovascular diseases', 'Brain Damage', 'Urinary Tract Infection',\n",
       "       'Addiction', 'Digestive Tract', 'Dental', 'Arthritis', 'Others',\n",
       "       'Mental Health', 'Hereditary Diseases'],\n",
       "      dtype='object')"
      ]
     },
     "execution_count": 110,
     "metadata": {},
     "output_type": "execute_result"
    }
   ],
   "source": [
    "all_categories = treatment.condition_category.value_counts().index\n",
    "all_categories"
   ]
  },
  {
   "cell_type": "markdown",
   "metadata": {},
   "source": [
    "Lets look at each condition individually!"
   ]
  },
  {
   "cell_type": "code",
   "execution_count": 117,
   "metadata": {
    "scrolled": false
   },
   "outputs": [
    {
     "data": {
      "image/png": "[encoded data removed]",
      "text/plain": [
       "<Figure size 1080x2520 with 16 Axes>"
      ]
     },
     "metadata": {
      "needs_background": "light"
     },
     "output_type": "display_data"
    }
   ],
   "source": [
    "fig,ax = plt.subplots(6,3,figsize = (15,35))\n",
    "ax = [y for x in ax for y in x]\n",
    "fig.delaxes(ax[-1])\n",
    "fig.delaxes(ax[-2])\n",
    "for i in range(len(all_categories)):\n",
    "    data = treatment.loc[treatment.condition_category == all_categories[i]]\n",
    "    pd.crosstab(data.medicated,data.alive,normalize = 'index').plot.bar(stacked = True,ax = ax[i])\n",
    "    ax[i].set_title(all_categories[i])\n",
    "    \n",
    "for ax in fig.axes:\n",
    "    plt.sca(ax)\n",
    "    plt.xticks(rotation=45)\n",
    "\n",
    "plt.show()\n",
    "    "
   ]
  },
  {
   "cell_type": "code",
   "execution_count": null,
   "metadata": {},
   "outputs": [],
   "source": []
  },
  {
   "cell_type": "code",
   "execution_count": null,
   "metadata": {},
   "outputs": [],
   "source": []
  },
  {
   "cell_type": "code",
   "execution_count": null,
   "metadata": {},
   "outputs": [],
   "source": []
  },
  {
   "cell_type": "code",
   "execution_count": null,
   "metadata": {},
   "outputs": [],
   "source": []
  }
 ],
 "metadata": {
  "kernelspec": {
   "display_name": "Python 3",
   "language": "python",
   "name": "python3"
  },
  "language_info": {
   "codemirror_mode": {
    "name": "ipython",
    "version": 3
   },
   "file_extension": ".py",
   "mimetype": "text/x-python",
   "name": "python",
   "nbconvert_exporter": "python",
   "pygments_lexer": "ipython3",
   "version": "3.7.3"
  }
 },
 "nbformat": 4,
 "nbformat_minor": 2
}
