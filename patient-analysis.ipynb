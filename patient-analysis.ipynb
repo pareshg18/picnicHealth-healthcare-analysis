{
 "cells": [
  {
   "cell_type": "code",
   "execution_count": 4,
   "metadata": {},
   "outputs": [],
   "source": [
    "import pandas as pd\n",
    "import numpy as np\n",
    "import os\n",
    "import glob\n",
    "import seaborn as sns\n",
    "import matplotlib.pyplot as plt"
   ]
  },
  {
   "cell_type": "code",
   "execution_count": 5,
   "metadata": {},
   "outputs": [
    {
     "data": {
      "text/plain": [
       "'C:\\\\Users\\\\pares\\\\Downloads\\\\ds_questions\\\\ds_questions\\\\massandopolis'"
      ]
     },
     "execution_count": 5,
     "metadata": {},
     "output_type": "execute_result"
    }
   ],
   "source": [
    "os.chdir('C:\\\\Users\\\\pares\\\\Downloads\\\\ds_questions\\\\ds_questions\\\\massandopolis')\n",
    "os.getcwd()"
   ]
  },
  {
   "cell_type": "code",
   "execution_count": 6,
   "metadata": {},
   "outputs": [
    {
     "data": {
      "text/plain": [
       "['allergies.csv',\n",
       " 'careplans.csv',\n",
       " 'concepts.csv',\n",
       " 'conditions.csv',\n",
       " 'encounters.csv',\n",
       " 'imaging_studies.csv',\n",
       " 'immunizations.csv',\n",
       " 'medications.csv',\n",
       " 'observations.csv',\n",
       " 'organizations.csv',\n",
       " 'patients.csv',\n",
       " 'patients_updated.csv',\n",
       " 'procedures.csv',\n",
       " 'providers.csv']"
      ]
     },
     "execution_count": 6,
     "metadata": {},
     "output_type": "execute_result"
    }
   ],
   "source": [
    "#what's my data?\n",
    "all_files = glob.glob('*.csv')\n",
    "all_files"
   ]
  },
  {
   "cell_type": "markdown",
   "metadata": {},
   "source": [
    "Since, I'm dealing with medical records of different patients, their careplans, their allergies, hospitals and health care providers, let's start with understanding the people. Who are they?"
   ]
  },
  {
   "cell_type": "code",
   "execution_count": 7,
   "metadata": {},
   "outputs": [
    {
     "name": "stdout",
     "output_type": "stream",
     "text": [
      "<class 'pandas.core.frame.DataFrame'>\n",
      "RangeIndex: 8360 entries, 0 to 8359\n",
      "Data columns (total 23 columns):\n",
      "Id            8360 non-null object\n",
      "BIRTHDATE     8360 non-null object\n",
      "DEATHDATE     3360 non-null object\n",
      "SSN           8360 non-null object\n",
      "DRIVERS       7166 non-null object\n",
      "PASSPORT      6815 non-null object\n",
      "PREFIX        6998 non-null object\n",
      "FIRST         8360 non-null object\n",
      "LAST          8360 non-null object\n",
      "SUFFIX        83 non-null object\n",
      "MAIDEN        2352 non-null object\n",
      "MARITAL       6216 non-null object\n",
      "RACE          8360 non-null object\n",
      "ETHNICITY     8360 non-null object\n",
      "GENDER        8360 non-null object\n",
      "BIRTHPLACE    8360 non-null object\n",
      "ADDRESS       8360 non-null object\n",
      "CITY          8360 non-null object\n",
      "STATE         8360 non-null object\n",
      "ZIP           8259 non-null float64\n",
      "eventtime     8360 non-null float64\n",
      "status        8360 non-null int64\n",
      "trt           8360 non-null int64\n",
      "dtypes: float64(2), int64(2), object(19)\n",
      "memory usage: 1.5+ MB\n"
     ]
    },
    {
     "data": {
      "text/html": [
       "<div>\n",
       "<style scoped>\n",
       "    .dataframe tbody tr th:only-of-type {\n",
       "        vertical-align: middle;\n",
       "    }\n",
       "\n",
       "    .dataframe tbody tr th {\n",
       "        vertical-align: top;\n",
       "    }\n",
       "\n",
       "    .dataframe thead th {\n",
       "        text-align: right;\n",
       "    }\n",
       "</style>\n",
       "<table border=\"1\" class=\"dataframe\">\n",
       "  <thead>\n",
       "    <tr style=\"text-align: right;\">\n",
       "      <th></th>\n",
       "      <th>Id</th>\n",
       "      <th>BIRTHDATE</th>\n",
       "      <th>DEATHDATE</th>\n",
       "      <th>SSN</th>\n",
       "      <th>DRIVERS</th>\n",
       "      <th>PASSPORT</th>\n",
       "      <th>PREFIX</th>\n",
       "      <th>FIRST</th>\n",
       "      <th>LAST</th>\n",
       "      <th>SUFFIX</th>\n",
       "      <th>...</th>\n",
       "      <th>ETHNICITY</th>\n",
       "      <th>GENDER</th>\n",
       "      <th>BIRTHPLACE</th>\n",
       "      <th>ADDRESS</th>\n",
       "      <th>CITY</th>\n",
       "      <th>STATE</th>\n",
       "      <th>ZIP</th>\n",
       "      <th>eventtime</th>\n",
       "      <th>status</th>\n",
       "      <th>trt</th>\n",
       "    </tr>\n",
       "  </thead>\n",
       "  <tbody>\n",
       "    <tr>\n",
       "      <th>0</th>\n",
       "      <td>c0d528b6-cdae-4d98-8936-a270f8827eb7</td>\n",
       "      <td>2013-02-10</td>\n",
       "      <td>NaN</td>\n",
       "      <td>999-83-3170</td>\n",
       "      <td>NaN</td>\n",
       "      <td>NaN</td>\n",
       "      <td>NaN</td>\n",
       "      <td>Claudette391</td>\n",
       "      <td>Hahn503</td>\n",
       "      <td>NaN</td>\n",
       "      <td>...</td>\n",
       "      <td>french_canadian</td>\n",
       "      <td>F</td>\n",
       "      <td>Framingham  Massandopolis  US</td>\n",
       "      <td>239 Schaden Glen</td>\n",
       "      <td>Randolph</td>\n",
       "      <td>Massandopolis</td>\n",
       "      <td>2368.0</td>\n",
       "      <td>2.770027</td>\n",
       "      <td>1</td>\n",
       "      <td>0</td>\n",
       "    </tr>\n",
       "    <tr>\n",
       "      <th>1</th>\n",
       "      <td>d709f84f-7d2c-440b-a979-2bc27d41f63a</td>\n",
       "      <td>1994-01-10</td>\n",
       "      <td>2019-01-07</td>\n",
       "      <td>999-31-7937</td>\n",
       "      <td>S99989196</td>\n",
       "      <td>X43239863X</td>\n",
       "      <td>Ms.</td>\n",
       "      <td>Christina143</td>\n",
       "      <td>Langworth352</td>\n",
       "      <td>NaN</td>\n",
       "      <td>...</td>\n",
       "      <td>dominican</td>\n",
       "      <td>F</td>\n",
       "      <td>Lynn  Massandopolis  US</td>\n",
       "      <td>535 Romaguera Annex Unit 82</td>\n",
       "      <td>Boston</td>\n",
       "      <td>Massandopolis</td>\n",
       "      <td>2108.0</td>\n",
       "      <td>2.973888</td>\n",
       "      <td>1</td>\n",
       "      <td>0</td>\n",
       "    </tr>\n",
       "    <tr>\n",
       "      <th>2</th>\n",
       "      <td>92aa6efc-004f-4e01-b0be-9aafa40d9857</td>\n",
       "      <td>1989-08-27</td>\n",
       "      <td>NaN</td>\n",
       "      <td>999-59-2188</td>\n",
       "      <td>S99973592</td>\n",
       "      <td>X80581589X</td>\n",
       "      <td>Mrs.</td>\n",
       "      <td>Robbyn526</td>\n",
       "      <td>Eichmann909</td>\n",
       "      <td>NaN</td>\n",
       "      <td>...</td>\n",
       "      <td>central_american</td>\n",
       "      <td>F</td>\n",
       "      <td>Salem  Massandopolis  US</td>\n",
       "      <td>986 Franecki Road Apt 37</td>\n",
       "      <td>Bellingham</td>\n",
       "      <td>Massandopolis</td>\n",
       "      <td>2019.0</td>\n",
       "      <td>11.044932</td>\n",
       "      <td>1</td>\n",
       "      <td>1</td>\n",
       "    </tr>\n",
       "    <tr>\n",
       "      <th>3</th>\n",
       "      <td>f9b11b47-e8e8-4c3c-b279-36eba5086cfd</td>\n",
       "      <td>1988-10-09</td>\n",
       "      <td>NaN</td>\n",
       "      <td>999-48-9512</td>\n",
       "      <td>S99947146</td>\n",
       "      <td>X80365010X</td>\n",
       "      <td>Mr.</td>\n",
       "      <td>Earnest658</td>\n",
       "      <td>Bauch723</td>\n",
       "      <td>NaN</td>\n",
       "      <td>...</td>\n",
       "      <td>american</td>\n",
       "      <td>M</td>\n",
       "      <td>Concord  Massandopolis  US</td>\n",
       "      <td>451 Paucek Divide</td>\n",
       "      <td>Plymouth</td>\n",
       "      <td>Massandopolis</td>\n",
       "      <td>2360.0</td>\n",
       "      <td>7.396326</td>\n",
       "      <td>1</td>\n",
       "      <td>1</td>\n",
       "    </tr>\n",
       "    <tr>\n",
       "      <th>4</th>\n",
       "      <td>c9d19013-4435-4b71-823a-c5023ba56195</td>\n",
       "      <td>1997-12-21</td>\n",
       "      <td>NaN</td>\n",
       "      <td>999-44-8705</td>\n",
       "      <td>S99938855</td>\n",
       "      <td>X28806996X</td>\n",
       "      <td>Mr.</td>\n",
       "      <td>Sung603</td>\n",
       "      <td>Schroeder447</td>\n",
       "      <td>NaN</td>\n",
       "      <td>...</td>\n",
       "      <td>polish</td>\n",
       "      <td>M</td>\n",
       "      <td>Reading  Massandopolis  US</td>\n",
       "      <td>123 Klocko Gateway</td>\n",
       "      <td>Natick</td>\n",
       "      <td>Massandopolis</td>\n",
       "      <td>1760.0</td>\n",
       "      <td>7.882326</td>\n",
       "      <td>1</td>\n",
       "      <td>0</td>\n",
       "    </tr>\n",
       "  </tbody>\n",
       "</table>\n",
       "<p>5 rows × 23 columns</p>\n",
       "</div>"
      ],
      "text/plain": [
       "                                     Id   BIRTHDATE   DEATHDATE          SSN  \\\n",
       "0  c0d528b6-cdae-4d98-8936-a270f8827eb7  2013-02-10         NaN  999-83-3170   \n",
       "1  d709f84f-7d2c-440b-a979-2bc27d41f63a  1994-01-10  2019-01-07  999-31-7937   \n",
       "2  92aa6efc-004f-4e01-b0be-9aafa40d9857  1989-08-27         NaN  999-59-2188   \n",
       "3  f9b11b47-e8e8-4c3c-b279-36eba5086cfd  1988-10-09         NaN  999-48-9512   \n",
       "4  c9d19013-4435-4b71-823a-c5023ba56195  1997-12-21         NaN  999-44-8705   \n",
       "\n",
       "     DRIVERS    PASSPORT PREFIX         FIRST          LAST SUFFIX  ...  \\\n",
       "0        NaN         NaN    NaN  Claudette391       Hahn503    NaN  ...   \n",
       "1  S99989196  X43239863X    Ms.  Christina143  Langworth352    NaN  ...   \n",
       "2  S99973592  X80581589X   Mrs.     Robbyn526   Eichmann909    NaN  ...   \n",
       "3  S99947146  X80365010X    Mr.    Earnest658      Bauch723    NaN  ...   \n",
       "4  S99938855  X28806996X    Mr.       Sung603  Schroeder447    NaN  ...   \n",
       "\n",
       "          ETHNICITY GENDER                     BIRTHPLACE  \\\n",
       "0   french_canadian      F  Framingham  Massandopolis  US   \n",
       "1         dominican      F        Lynn  Massandopolis  US   \n",
       "2  central_american      F       Salem  Massandopolis  US   \n",
       "3          american      M     Concord  Massandopolis  US   \n",
       "4            polish      M     Reading  Massandopolis  US   \n",
       "\n",
       "                       ADDRESS        CITY          STATE     ZIP  eventtime  \\\n",
       "0             239 Schaden Glen    Randolph  Massandopolis  2368.0   2.770027   \n",
       "1  535 Romaguera Annex Unit 82      Boston  Massandopolis  2108.0   2.973888   \n",
       "2     986 Franecki Road Apt 37  Bellingham  Massandopolis  2019.0  11.044932   \n",
       "3            451 Paucek Divide    Plymouth  Massandopolis  2360.0   7.396326   \n",
       "4           123 Klocko Gateway      Natick  Massandopolis  1760.0   7.882326   \n",
       "\n",
       "  status  trt  \n",
       "0      1    0  \n",
       "1      1    0  \n",
       "2      1    1  \n",
       "3      1    1  \n",
       "4      1    0  \n",
       "\n",
       "[5 rows x 23 columns]"
      ]
     },
     "execution_count": 7,
     "metadata": {},
     "output_type": "execute_result"
    }
   ],
   "source": [
    "patients = pd.read_csv('patients.csv')\n",
    "patients.info()\n",
    "patients.head()"
   ]
  },
  {
   "cell_type": "code",
   "execution_count": 8,
   "metadata": {},
   "outputs": [],
   "source": [
    "#correcting the data-types and column format\n",
    "patients.columns = [i.lower() for i in patients.columns]\n",
    "patients.birthdate = patients.birthdate.apply(pd.to_datetime)\n",
    "patients.deathdate = patients.deathdate.apply(pd.to_datetime)"
   ]
  },
  {
   "cell_type": "markdown",
   "metadata": {},
   "source": [
    "### From this data/variables - what information can we gain about the population?\n",
    "\n",
    "- Population Age (We have DOB/DOD of more than 3,000 patients). Also patients with missing DOD, are they missing because they are still alive or because we didn't collect that information?\n",
    "- People with passports - Only 42% Americans have passports as of now (it was around 10% in 1990s). Can it tell us something about patients' financial status (their ability to fly outside country)?\n",
    "- Population demographics (thier race, gender, ethinicity, marital)\n",
    "- Since we have patients from different eras/timelines/decades, we can look at birth rate, mortality rate (Did specific year/decade experience more deaths?), life expectancy of different segments in different decades.\n",
    "- What city/state do people live? How are the conditions in those areas?\n",
    "- Understand what decade/ year/ societal segment do we the most data for. Eliminate those with very less data points.\n"
   ]
  },
  {
   "cell_type": "code",
   "execution_count": 9,
   "metadata": {},
   "outputs": [
    {
     "data": {
      "text/plain": [
       "8360"
      ]
     },
     "execution_count": 9,
     "metadata": {},
     "output_type": "execute_result"
    }
   ],
   "source": [
    "#How many patients do we have? - We have 2 unique identifiers\n",
    "patients.id.nunique()"
   ]
  },
  {
   "cell_type": "code",
   "execution_count": 10,
   "metadata": {},
   "outputs": [
    {
     "data": {
      "text/plain": [
       "8315"
      ]
     },
     "execution_count": 10,
     "metadata": {},
     "output_type": "execute_result"
    }
   ],
   "source": [
    "patients.ssn.nunique()"
   ]
  },
  {
   "cell_type": "markdown",
   "metadata": {},
   "source": [
    "Ok. we have 8,360 different patients, but 45 of them have duplicate ssn. Need further investigation."
   ]
  },
  {
   "cell_type": "code",
   "execution_count": 11,
   "metadata": {},
   "outputs": [
    {
     "data": {
      "text/html": [
       "<div>\n",
       "<style scoped>\n",
       "    .dataframe tbody tr th:only-of-type {\n",
       "        vertical-align: middle;\n",
       "    }\n",
       "\n",
       "    .dataframe tbody tr th {\n",
       "        vertical-align: top;\n",
       "    }\n",
       "\n",
       "    .dataframe thead th {\n",
       "        text-align: right;\n",
       "    }\n",
       "</style>\n",
       "<table border=\"1\" class=\"dataframe\">\n",
       "  <thead>\n",
       "    <tr style=\"text-align: right;\">\n",
       "      <th></th>\n",
       "      <th>id</th>\n",
       "      <th>birthdate</th>\n",
       "      <th>deathdate</th>\n",
       "      <th>drivers</th>\n",
       "      <th>passport</th>\n",
       "      <th>prefix</th>\n",
       "      <th>first</th>\n",
       "      <th>last</th>\n",
       "      <th>suffix</th>\n",
       "      <th>maiden</th>\n",
       "      <th>...</th>\n",
       "      <th>ethnicity</th>\n",
       "      <th>gender</th>\n",
       "      <th>birthplace</th>\n",
       "      <th>address</th>\n",
       "      <th>city</th>\n",
       "      <th>state</th>\n",
       "      <th>zip</th>\n",
       "      <th>eventtime</th>\n",
       "      <th>status</th>\n",
       "      <th>trt</th>\n",
       "    </tr>\n",
       "    <tr>\n",
       "      <th>ssn</th>\n",
       "      <th></th>\n",
       "      <th></th>\n",
       "      <th></th>\n",
       "      <th></th>\n",
       "      <th></th>\n",
       "      <th></th>\n",
       "      <th></th>\n",
       "      <th></th>\n",
       "      <th></th>\n",
       "      <th></th>\n",
       "      <th></th>\n",
       "      <th></th>\n",
       "      <th></th>\n",
       "      <th></th>\n",
       "      <th></th>\n",
       "      <th></th>\n",
       "      <th></th>\n",
       "      <th></th>\n",
       "      <th></th>\n",
       "      <th></th>\n",
       "      <th></th>\n",
       "    </tr>\n",
       "  </thead>\n",
       "  <tbody>\n",
       "    <tr>\n",
       "      <th>999-11-7325</th>\n",
       "      <td>39010c13-45d6-4076-930c-a17dbbd03f5b</td>\n",
       "      <td>1937-08-24</td>\n",
       "      <td>2010-07-13</td>\n",
       "      <td>S99915000</td>\n",
       "      <td>X47088213X</td>\n",
       "      <td>Mrs.</td>\n",
       "      <td>Veda284</td>\n",
       "      <td>Hodkiewicz467</td>\n",
       "      <td>NaN</td>\n",
       "      <td>Ruecker817</td>\n",
       "      <td>...</td>\n",
       "      <td>irish</td>\n",
       "      <td>F</td>\n",
       "      <td>Boston  Massandopolis  US</td>\n",
       "      <td>833 Ritchie Vista</td>\n",
       "      <td>Plymouth</td>\n",
       "      <td>Massandopolis</td>\n",
       "      <td>2360.0</td>\n",
       "      <td>4.278910</td>\n",
       "      <td>1</td>\n",
       "      <td>0</td>\n",
       "    </tr>\n",
       "    <tr>\n",
       "      <th>999-11-7325</th>\n",
       "      <td>7bb7dab2-c7e5-4f8a-9c4e-bc90292611fc</td>\n",
       "      <td>1916-03-08</td>\n",
       "      <td>1990-10-27</td>\n",
       "      <td>S99953881</td>\n",
       "      <td>X59181764X</td>\n",
       "      <td>Mr.</td>\n",
       "      <td>Graig740</td>\n",
       "      <td>Kunze215</td>\n",
       "      <td>NaN</td>\n",
       "      <td>NaN</td>\n",
       "      <td>...</td>\n",
       "      <td>african</td>\n",
       "      <td>M</td>\n",
       "      <td>Phillipston  Massandopolis  US</td>\n",
       "      <td>338 Moen Bridge</td>\n",
       "      <td>Quincy</td>\n",
       "      <td>Massandopolis</td>\n",
       "      <td>2169.0</td>\n",
       "      <td>7.997818</td>\n",
       "      <td>1</td>\n",
       "      <td>1</td>\n",
       "    </tr>\n",
       "    <tr>\n",
       "      <th>999-21-5198</th>\n",
       "      <td>18dc536c-f86c-4443-8329-ded301c00703</td>\n",
       "      <td>1913-11-09</td>\n",
       "      <td>1967-04-03</td>\n",
       "      <td>S99965386</td>\n",
       "      <td>X54882958X</td>\n",
       "      <td>Mr.</td>\n",
       "      <td>Jared66</td>\n",
       "      <td>Russel238</td>\n",
       "      <td>NaN</td>\n",
       "      <td>NaN</td>\n",
       "      <td>...</td>\n",
       "      <td>irish</td>\n",
       "      <td>M</td>\n",
       "      <td>Dracut  Massandopolis  US</td>\n",
       "      <td>622 Marvin Throughway Suite 63</td>\n",
       "      <td>Greenfield Town</td>\n",
       "      <td>Massandopolis</td>\n",
       "      <td>1301.0</td>\n",
       "      <td>2.223956</td>\n",
       "      <td>1</td>\n",
       "      <td>1</td>\n",
       "    </tr>\n",
       "    <tr>\n",
       "      <th>999-21-5198</th>\n",
       "      <td>b0aa0bd6-9692-43e8-8053-a2a47be22abf</td>\n",
       "      <td>1950-04-30</td>\n",
       "      <td>NaT</td>\n",
       "      <td>S99990642</td>\n",
       "      <td>X20122990X</td>\n",
       "      <td>Mr.</td>\n",
       "      <td>Shon148</td>\n",
       "      <td>Quigley282</td>\n",
       "      <td>NaN</td>\n",
       "      <td>NaN</td>\n",
       "      <td>...</td>\n",
       "      <td>italian</td>\n",
       "      <td>M</td>\n",
       "      <td>Weston  Massandopolis  US</td>\n",
       "      <td>134 Mueller Terrace</td>\n",
       "      <td>Cambridge</td>\n",
       "      <td>Massandopolis</td>\n",
       "      <td>2138.0</td>\n",
       "      <td>5.440939</td>\n",
       "      <td>1</td>\n",
       "      <td>0</td>\n",
       "    </tr>\n",
       "    <tr>\n",
       "      <th>999-26-7890</th>\n",
       "      <td>08235ec2-7b4d-4c8f-ad23-a6e569e6978f</td>\n",
       "      <td>1925-02-02</td>\n",
       "      <td>2010-11-08</td>\n",
       "      <td>S99975372</td>\n",
       "      <td>X54597308X</td>\n",
       "      <td>Mrs.</td>\n",
       "      <td>Jimmy858</td>\n",
       "      <td>Conroy74</td>\n",
       "      <td>NaN</td>\n",
       "      <td>Weber641</td>\n",
       "      <td>...</td>\n",
       "      <td>west_indian</td>\n",
       "      <td>F</td>\n",
       "      <td>Sterling  Massandopolis  US</td>\n",
       "      <td>1081 Welch Green Unit 96</td>\n",
       "      <td>Boston</td>\n",
       "      <td>Massandopolis</td>\n",
       "      <td>2108.0</td>\n",
       "      <td>8.217135</td>\n",
       "      <td>1</td>\n",
       "      <td>1</td>\n",
       "    </tr>\n",
       "  </tbody>\n",
       "</table>\n",
       "<p>5 rows × 22 columns</p>\n",
       "</div>"
      ],
      "text/plain": [
       "                                               id  birthdate  deathdate  \\\n",
       "ssn                                                                       \n",
       "999-11-7325  39010c13-45d6-4076-930c-a17dbbd03f5b 1937-08-24 2010-07-13   \n",
       "999-11-7325  7bb7dab2-c7e5-4f8a-9c4e-bc90292611fc 1916-03-08 1990-10-27   \n",
       "999-21-5198  18dc536c-f86c-4443-8329-ded301c00703 1913-11-09 1967-04-03   \n",
       "999-21-5198  b0aa0bd6-9692-43e8-8053-a2a47be22abf 1950-04-30        NaT   \n",
       "999-26-7890  08235ec2-7b4d-4c8f-ad23-a6e569e6978f 1925-02-02 2010-11-08   \n",
       "\n",
       "               drivers    passport prefix     first           last suffix  \\\n",
       "ssn                                                                         \n",
       "999-11-7325  S99915000  X47088213X   Mrs.   Veda284  Hodkiewicz467    NaN   \n",
       "999-11-7325  S99953881  X59181764X    Mr.  Graig740       Kunze215    NaN   \n",
       "999-21-5198  S99965386  X54882958X    Mr.   Jared66      Russel238    NaN   \n",
       "999-21-5198  S99990642  X20122990X    Mr.   Shon148     Quigley282    NaN   \n",
       "999-26-7890  S99975372  X54597308X   Mrs.  Jimmy858       Conroy74    NaN   \n",
       "\n",
       "                 maiden  ...    ethnicity gender  \\\n",
       "ssn                      ...                       \n",
       "999-11-7325  Ruecker817  ...        irish      F   \n",
       "999-11-7325         NaN  ...      african      M   \n",
       "999-21-5198         NaN  ...        irish      M   \n",
       "999-21-5198         NaN  ...      italian      M   \n",
       "999-26-7890    Weber641  ...  west_indian      F   \n",
       "\n",
       "                                 birthplace                         address  \\\n",
       "ssn                                                                           \n",
       "999-11-7325       Boston  Massandopolis  US               833 Ritchie Vista   \n",
       "999-11-7325  Phillipston  Massandopolis  US                 338 Moen Bridge   \n",
       "999-21-5198       Dracut  Massandopolis  US  622 Marvin Throughway Suite 63   \n",
       "999-21-5198       Weston  Massandopolis  US             134 Mueller Terrace   \n",
       "999-26-7890     Sterling  Massandopolis  US        1081 Welch Green Unit 96   \n",
       "\n",
       "                        city          state     zip eventtime  status  trt  \n",
       "ssn                                                                         \n",
       "999-11-7325         Plymouth  Massandopolis  2360.0  4.278910       1    0  \n",
       "999-11-7325           Quincy  Massandopolis  2169.0  7.997818       1    1  \n",
       "999-21-5198  Greenfield Town  Massandopolis  1301.0  2.223956       1    1  \n",
       "999-21-5198        Cambridge  Massandopolis  2138.0  5.440939       1    0  \n",
       "999-26-7890           Boston  Massandopolis  2108.0  8.217135       1    1  \n",
       "\n",
       "[5 rows x 22 columns]"
      ]
     },
     "execution_count": 11,
     "metadata": {},
     "output_type": "execute_result"
    }
   ],
   "source": [
    "dup_ssn = patients.loc[patients.ssn.duplicated(keep = False)]\n",
    "dup_ssn = dup_ssn.sort_values(['ssn'])\n",
    "dup_ssn.set_index('ssn',inplace = True)\n",
    "#dup_ssn.index = dup_ssn.index.where(~dup_ssn.index.duplicated(),'')\n",
    "dup_ssn.head()"
   ]
  },
  {
   "cell_type": "code",
   "execution_count": 12,
   "metadata": {},
   "outputs": [
    {
     "data": {
      "text/plain": [
       "ssn\n",
       "999-11-7325    2\n",
       "999-21-5198    2\n",
       "999-26-7890    2\n",
       "999-28-3297    2\n",
       "999-28-8170    2\n",
       "999-29-8786    2\n",
       "999-30-7479    2\n",
       "999-31-1079    2\n",
       "999-32-7054    2\n",
       "999-34-1539    2\n",
       "999-34-9211    2\n",
       "999-35-8283    2\n",
       "999-36-9162    2\n",
       "999-37-6434    2\n",
       "999-38-7174    2\n",
       "999-39-7246    2\n",
       "999-40-3704    2\n",
       "999-40-8252    2\n",
       "999-41-5015    2\n",
       "999-42-5642    2\n",
       "999-43-3421    2\n",
       "999-50-6053    2\n",
       "999-51-4959    2\n",
       "999-51-6815    2\n",
       "999-51-8809    2\n",
       "999-52-3402    2\n",
       "999-55-9771    2\n",
       "999-57-1629    2\n",
       "999-57-2011    2\n",
       "999-63-2000    2\n",
       "999-64-8033    2\n",
       "999-68-6130    2\n",
       "999-70-6601    2\n",
       "999-76-3213    2\n",
       "999-79-2743    2\n",
       "999-79-6285    2\n",
       "999-83-7115    2\n",
       "999-85-1064    2\n",
       "999-87-8448    2\n",
       "999-89-9021    2\n",
       "999-91-8712    2\n",
       "999-92-9649    2\n",
       "999-93-1429    2\n",
       "999-96-6208    2\n",
       "999-99-1717    2\n",
       "Name: birthdate, dtype: int64"
      ]
     },
     "execution_count": 12,
     "metadata": {},
     "output_type": "execute_result"
    }
   ],
   "source": [
    "dup_ssn.groupby(dup_ssn.index)['birthdate'].nunique()"
   ]
  },
  {
   "cell_type": "markdown",
   "metadata": {},
   "source": [
    "Everyone has a unique name and a unique birthdate. Then why similar ssn's? Having a similar name/ DOB/ phone number might cause duplication, but we dont have any such issue. Looks like, either of these 90 people mis-reported their numbers! We might need to contact these customers.\n"
   ]
  },
  {
   "cell_type": "code",
   "execution_count": 13,
   "metadata": {},
   "outputs": [],
   "source": [
    "patients['birth_year'] = patients.birthdate.dt.year\n",
    "patients['death_year'] = patients.deathdate.dt.year"
   ]
  },
  {
   "cell_type": "code",
   "execution_count": 14,
   "metadata": {},
   "outputs": [
    {
     "data": {
      "text/plain": [
       "1926     2\n",
       "1927     1\n",
       "1928     2\n",
       "1929    18\n",
       "1930    21\n",
       "Name: birth_year, dtype: int64"
      ]
     },
     "execution_count": 14,
     "metadata": {},
     "output_type": "execute_result"
    }
   ],
   "source": [
    "#Why are D.O.D missing? To find this out, we need to understand how D.O.D is collected. \n",
    "(patients.loc[patients.death_year.isnull(),'birth_year'].value_counts().sort_index()).head()"
   ]
  },
  {
   "cell_type": "markdown",
   "metadata": {},
   "source": [
    "Ok. So, the oldest patient with missing DOD is 94 years old. This is still a valid age. Looking at the bigger picture,and assuming a lot of the patients signing up with a company like picnicHealth, should generally be alive. Therefore, lets just trust the company and assume the missing DOD is due to people being alive! Although, I'd like to verify this, but for now lets move on with this."
   ]
  },
  {
   "cell_type": "code",
   "execution_count": 15,
   "metadata": {},
   "outputs": [],
   "source": [
    "#Approx. age\n",
    "patients['age'] = patients.death_year.fillna(2020) - patients.birth_year"
   ]
  },
  {
   "cell_type": "code",
   "execution_count": 16,
   "metadata": {},
   "outputs": [
    {
     "data": {
      "text/html": [
       "<div>\n",
       "<style scoped>\n",
       "    .dataframe tbody tr th:only-of-type {\n",
       "        vertical-align: middle;\n",
       "    }\n",
       "\n",
       "    .dataframe tbody tr th {\n",
       "        vertical-align: top;\n",
       "    }\n",
       "\n",
       "    .dataframe thead th {\n",
       "        text-align: right;\n",
       "    }\n",
       "</style>\n",
       "<table border=\"1\" class=\"dataframe\">\n",
       "  <thead>\n",
       "    <tr style=\"text-align: right;\">\n",
       "      <th></th>\n",
       "      <th>age</th>\n",
       "      <th>birth_year</th>\n",
       "      <th>death_year</th>\n",
       "    </tr>\n",
       "  </thead>\n",
       "  <tbody>\n",
       "    <tr>\n",
       "      <th>count</th>\n",
       "      <td>8360.000000</td>\n",
       "      <td>8360.000000</td>\n",
       "      <td>3360.000000</td>\n",
       "    </tr>\n",
       "    <tr>\n",
       "      <th>mean</th>\n",
       "      <td>48.274282</td>\n",
       "      <td>1962.148206</td>\n",
       "      <td>1996.170238</td>\n",
       "    </tr>\n",
       "    <tr>\n",
       "      <th>std</th>\n",
       "      <td>24.538316</td>\n",
       "      <td>29.544465</td>\n",
       "      <td>19.148925</td>\n",
       "    </tr>\n",
       "    <tr>\n",
       "      <th>min</th>\n",
       "      <td>-15.000000</td>\n",
       "      <td>1908.000000</td>\n",
       "      <td>1912.000000</td>\n",
       "    </tr>\n",
       "    <tr>\n",
       "      <th>25%</th>\n",
       "      <td>27.000000</td>\n",
       "      <td>1935.000000</td>\n",
       "      <td>1989.000000</td>\n",
       "    </tr>\n",
       "    <tr>\n",
       "      <th>50%</th>\n",
       "      <td>52.000000</td>\n",
       "      <td>1961.000000</td>\n",
       "      <td>2001.000000</td>\n",
       "    </tr>\n",
       "    <tr>\n",
       "      <th>75%</th>\n",
       "      <td>68.000000</td>\n",
       "      <td>1987.000000</td>\n",
       "      <td>2010.000000</td>\n",
       "    </tr>\n",
       "    <tr>\n",
       "      <th>max</th>\n",
       "      <td>100.000000</td>\n",
       "      <td>2019.000000</td>\n",
       "      <td>2022.000000</td>\n",
       "    </tr>\n",
       "  </tbody>\n",
       "</table>\n",
       "</div>"
      ],
      "text/plain": [
       "               age   birth_year   death_year\n",
       "count  8360.000000  8360.000000  3360.000000\n",
       "mean     48.274282  1962.148206  1996.170238\n",
       "std      24.538316    29.544465    19.148925\n",
       "min     -15.000000  1908.000000  1912.000000\n",
       "25%      27.000000  1935.000000  1989.000000\n",
       "50%      52.000000  1961.000000  2001.000000\n",
       "75%      68.000000  1987.000000  2010.000000\n",
       "max     100.000000  2019.000000  2022.000000"
      ]
     },
     "execution_count": 16,
     "metadata": {},
     "output_type": "execute_result"
    }
   ],
   "source": [
    "patients[['age','birth_year','death_year']].describe()"
   ]
  },
  {
   "cell_type": "markdown",
   "metadata": {},
   "source": [
    "Few observations:\n",
    "- An average age of 48 years is fairly low. There seems to be an issue of healthcare in the city of Massandapolis.\n",
    "- Woah. A negative age!\n",
    "- Another woah. A death year in 2022? Looks like, someone already made a time-machine. Jonas, is that you?"
   ]
  },
  {
   "cell_type": "code",
   "execution_count": 17,
   "metadata": {},
   "outputs": [
    {
     "data": {
      "text/html": [
       "<div>\n",
       "<style scoped>\n",
       "    .dataframe tbody tr th:only-of-type {\n",
       "        vertical-align: middle;\n",
       "    }\n",
       "\n",
       "    .dataframe tbody tr th {\n",
       "        vertical-align: top;\n",
       "    }\n",
       "\n",
       "    .dataframe thead th {\n",
       "        text-align: right;\n",
       "    }\n",
       "</style>\n",
       "<table border=\"1\" class=\"dataframe\">\n",
       "  <thead>\n",
       "    <tr style=\"text-align: right;\">\n",
       "      <th></th>\n",
       "      <th>id</th>\n",
       "      <th>birthdate</th>\n",
       "      <th>deathdate</th>\n",
       "      <th>ssn</th>\n",
       "      <th>drivers</th>\n",
       "      <th>passport</th>\n",
       "      <th>prefix</th>\n",
       "      <th>first</th>\n",
       "      <th>last</th>\n",
       "      <th>suffix</th>\n",
       "      <th>maiden</th>\n",
       "      <th>marital</th>\n",
       "      <th>race</th>\n",
       "      <th>ethnicity</th>\n",
       "      <th>gender</th>\n",
       "      <th>birthplace</th>\n",
       "      <th>address</th>\n",
       "      <th>city</th>\n",
       "      <th>state</th>\n",
       "      <th>zip</th>\n",
       "      <th>eventtime</th>\n",
       "      <th>status</th>\n",
       "      <th>trt</th>\n",
       "      <th>birth_year</th>\n",
       "      <th>death_year</th>\n",
       "      <th>age</th>\n",
       "    </tr>\n",
       "  </thead>\n",
       "  <tbody>\n",
       "    <tr>\n",
       "      <th>1092</th>\n",
       "      <td>f274e59b-681e-45fa-89f5-7ef6bd291b4c</td>\n",
       "      <td>2003-11-12</td>\n",
       "      <td>1988-11-27</td>\n",
       "      <td>999-10-3307</td>\n",
       "      <td>NaN</td>\n",
       "      <td>NaN</td>\n",
       "      <td>NaN</td>\n",
       "      <td>Shawn523</td>\n",
       "      <td>Koch169</td>\n",
       "      <td>NaN</td>\n",
       "      <td>NaN</td>\n",
       "      <td>NaN</td>\n",
       "      <td>white</td>\n",
       "      <td>irish</td>\n",
       "      <td>M</td>\n",
       "      <td>Springfield  Massandopolis  US</td>\n",
       "      <td>978 O'Connell Underpass Apt 25</td>\n",
       "      <td>Hanson</td>\n",
       "      <td>Massandopolis</td>\n",
       "      <td>2341.0</td>\n",
       "      <td>4.499605</td>\n",
       "      <td>1</td>\n",
       "      <td>1</td>\n",
       "      <td>2003</td>\n",
       "      <td>1988.0</td>\n",
       "      <td>-15.0</td>\n",
       "    </tr>\n",
       "    <tr>\n",
       "      <th>5377</th>\n",
       "      <td>82186679-c053-4d63-b66e-fc082c59ea03</td>\n",
       "      <td>1971-07-17</td>\n",
       "      <td>1957-02-02</td>\n",
       "      <td>999-62-9908</td>\n",
       "      <td>NaN</td>\n",
       "      <td>NaN</td>\n",
       "      <td>NaN</td>\n",
       "      <td>Lashay246</td>\n",
       "      <td>Huel628</td>\n",
       "      <td>NaN</td>\n",
       "      <td>NaN</td>\n",
       "      <td>NaN</td>\n",
       "      <td>white</td>\n",
       "      <td>french</td>\n",
       "      <td>F</td>\n",
       "      <td>Cambridge  Massandopolis  US</td>\n",
       "      <td>109 Schiller Grove Suite 92</td>\n",
       "      <td>Milford</td>\n",
       "      <td>Massandopolis</td>\n",
       "      <td>1757.0</td>\n",
       "      <td>16.555955</td>\n",
       "      <td>1</td>\n",
       "      <td>1</td>\n",
       "      <td>1971</td>\n",
       "      <td>1957.0</td>\n",
       "      <td>-14.0</td>\n",
       "    </tr>\n",
       "  </tbody>\n",
       "</table>\n",
       "</div>"
      ],
      "text/plain": [
       "                                        id  birthdate  deathdate          ssn  \\\n",
       "1092  f274e59b-681e-45fa-89f5-7ef6bd291b4c 2003-11-12 1988-11-27  999-10-3307   \n",
       "5377  82186679-c053-4d63-b66e-fc082c59ea03 1971-07-17 1957-02-02  999-62-9908   \n",
       "\n",
       "     drivers passport prefix      first     last suffix maiden marital   race  \\\n",
       "1092     NaN      NaN    NaN   Shawn523  Koch169    NaN    NaN     NaN  white   \n",
       "5377     NaN      NaN    NaN  Lashay246  Huel628    NaN    NaN     NaN  white   \n",
       "\n",
       "     ethnicity gender                      birthplace  \\\n",
       "1092     irish      M  Springfield  Massandopolis  US   \n",
       "5377    french      F    Cambridge  Massandopolis  US   \n",
       "\n",
       "                             address     city          state     zip  \\\n",
       "1092  978 O'Connell Underpass Apt 25   Hanson  Massandopolis  2341.0   \n",
       "5377     109 Schiller Grove Suite 92  Milford  Massandopolis  1757.0   \n",
       "\n",
       "      eventtime  status  trt  birth_year  death_year   age  \n",
       "1092   4.499605       1    1        2003      1988.0 -15.0  \n",
       "5377  16.555955       1    1        1971      1957.0 -14.0  "
      ]
     },
     "execution_count": 17,
     "metadata": {},
     "output_type": "execute_result"
    }
   ],
   "source": [
    "pd.set_option('display.max_columns',None)\n",
    "patients.loc[patients.age < 0]"
   ]
  },
  {
   "cell_type": "markdown",
   "metadata": {},
   "source": [
    "Either they reported their DOB incorrectly or there DOD (they might still be alive and reported an obvious fake date of death!)"
   ]
  },
  {
   "cell_type": "code",
   "execution_count": 18,
   "metadata": {},
   "outputs": [
    {
     "data": {
      "text/html": [
       "<div>\n",
       "<style scoped>\n",
       "    .dataframe tbody tr th:only-of-type {\n",
       "        vertical-align: middle;\n",
       "    }\n",
       "\n",
       "    .dataframe tbody tr th {\n",
       "        vertical-align: top;\n",
       "    }\n",
       "\n",
       "    .dataframe thead th {\n",
       "        text-align: right;\n",
       "    }\n",
       "</style>\n",
       "<table border=\"1\" class=\"dataframe\">\n",
       "  <thead>\n",
       "    <tr style=\"text-align: right;\">\n",
       "      <th></th>\n",
       "      <th>id</th>\n",
       "      <th>birthdate</th>\n",
       "      <th>deathdate</th>\n",
       "      <th>ssn</th>\n",
       "      <th>drivers</th>\n",
       "      <th>passport</th>\n",
       "      <th>prefix</th>\n",
       "      <th>first</th>\n",
       "      <th>last</th>\n",
       "      <th>suffix</th>\n",
       "      <th>maiden</th>\n",
       "      <th>marital</th>\n",
       "      <th>race</th>\n",
       "      <th>ethnicity</th>\n",
       "      <th>gender</th>\n",
       "      <th>birthplace</th>\n",
       "      <th>address</th>\n",
       "      <th>city</th>\n",
       "      <th>state</th>\n",
       "      <th>zip</th>\n",
       "      <th>eventtime</th>\n",
       "      <th>status</th>\n",
       "      <th>trt</th>\n",
       "      <th>birth_year</th>\n",
       "      <th>death_year</th>\n",
       "      <th>age</th>\n",
       "    </tr>\n",
       "  </thead>\n",
       "  <tbody>\n",
       "    <tr>\n",
       "      <th>1782</th>\n",
       "      <td>244dcbc3-931b-4b60-a2dd-607ee6c5abd9</td>\n",
       "      <td>1946-03-02</td>\n",
       "      <td>2022-04-07</td>\n",
       "      <td>999-28-6089</td>\n",
       "      <td>S99989166</td>\n",
       "      <td>X45291072X</td>\n",
       "      <td>Mr.</td>\n",
       "      <td>Eddy900</td>\n",
       "      <td>Dach178</td>\n",
       "      <td>NaN</td>\n",
       "      <td>NaN</td>\n",
       "      <td>S</td>\n",
       "      <td>asian</td>\n",
       "      <td>asian_indian</td>\n",
       "      <td>M</td>\n",
       "      <td>Somerville  Massandopolis  US</td>\n",
       "      <td>239 Kessler Alley</td>\n",
       "      <td>Boston</td>\n",
       "      <td>Massandopolis</td>\n",
       "      <td>2108.0</td>\n",
       "      <td>6.195011</td>\n",
       "      <td>1</td>\n",
       "      <td>0</td>\n",
       "      <td>1946</td>\n",
       "      <td>2022.0</td>\n",
       "      <td>76.0</td>\n",
       "    </tr>\n",
       "  </tbody>\n",
       "</table>\n",
       "</div>"
      ],
      "text/plain": [
       "                                        id  birthdate  deathdate          ssn  \\\n",
       "1782  244dcbc3-931b-4b60-a2dd-607ee6c5abd9 1946-03-02 2022-04-07  999-28-6089   \n",
       "\n",
       "        drivers    passport prefix    first     last suffix maiden marital  \\\n",
       "1782  S99989166  X45291072X    Mr.  Eddy900  Dach178    NaN    NaN       S   \n",
       "\n",
       "       race     ethnicity gender                     birthplace  \\\n",
       "1782  asian  asian_indian      M  Somerville  Massandopolis  US   \n",
       "\n",
       "                address    city          state     zip  eventtime  status  \\\n",
       "1782  239 Kessler Alley  Boston  Massandopolis  2108.0   6.195011       1   \n",
       "\n",
       "      trt  birth_year  death_year   age  \n",
       "1782    0        1946      2022.0  76.0  "
      ]
     },
     "execution_count": 18,
     "metadata": {},
     "output_type": "execute_result"
    }
   ],
   "source": [
    "patients.loc[patients.death_year > 2020]"
   ]
  },
  {
   "cell_type": "markdown",
   "metadata": {},
   "source": [
    "Someone needs to contact Mr. Eddy Dach, and ask him about his time machine!"
   ]
  },
  {
   "cell_type": "code",
   "execution_count": 19,
   "metadata": {},
   "outputs": [
    {
     "data": {
      "text/plain": [
       "18.480861244019138"
      ]
     },
     "execution_count": 19,
     "metadata": {},
     "output_type": "execute_result"
    }
   ],
   "source": [
    "#82% of the patients have reported their passport numbers - cannot verify whether missing numbers is due to no passport or \n",
    "#patients didn't report it\n",
    "patients.passport.isnull().sum()/len(patients)*100"
   ]
  },
  {
   "cell_type": "code",
   "execution_count": 20,
   "metadata": {},
   "outputs": [
    {
     "data": {
      "text/plain": [
       "M    0.526794\n",
       "F    0.473206\n",
       "Name: gender, dtype: float64"
      ]
     },
     "execution_count": 20,
     "metadata": {},
     "output_type": "execute_result"
    }
   ],
   "source": [
    "#Population demographics - who are these people?\n",
    "patients.gender.value_counts(normalize = True)\n",
    "#Thats quite balanced..."
   ]
  },
  {
   "cell_type": "code",
   "execution_count": 21,
   "metadata": {},
   "outputs": [
    {
     "data": {
      "text/plain": [
       "white       74.078947\n",
       "hispanic    12.500000\n",
       "black        6.997608\n",
       "asian        6.100478\n",
       "native       0.263158\n",
       "other        0.059809\n",
       "Name: race, dtype: float64"
      ]
     },
     "execution_count": 21,
     "metadata": {},
     "output_type": "execute_result"
    }
   ],
   "source": [
    "patients.race.value_counts(normalize = True)*100\n",
    "#the distribution is quite aligned with the general US population demogrpahics - except blacks - The general US % is around 15%, \n",
    "#while here we see a small 6%."
   ]
  },
  {
   "cell_type": "code",
   "execution_count": 22,
   "metadata": {},
   "outputs": [
    {
     "data": {
      "text/plain": [
       "irish               0.172010\n",
       "italian             0.138158\n",
       "english             0.081938\n",
       "puerto_rican        0.065431\n",
       "german              0.063876\n",
       "french              0.062560\n",
       "polish              0.053349\n",
       "chinese             0.042225\n",
       "american            0.040550\n",
       "portuguese          0.036005\n",
       "french_canadian     0.032177\n",
       "african             0.025478\n",
       "dominican           0.022967\n",
       "west_indian         0.021531\n",
       "south_american      0.020574\n",
       "mexican             0.019498\n",
       "central_american    0.019498\n",
       "russian             0.018780\n",
       "asian_indian        0.018780\n",
       "scottish            0.018541\n",
       "swedish             0.015670\n",
       "greek               0.007177\n",
       "american_indian     0.002632\n",
       "arab                0.000598\n",
       "Name: ethnicity, dtype: float64"
      ]
     },
     "execution_count": 22,
     "metadata": {},
     "output_type": "execute_result"
    }
   ],
   "source": [
    "patients.ethnicity.value_counts(normalize = True)\n",
    "#US is all immigrants. A mere 4% americans, and majority people coming from Europe."
   ]
  },
  {
   "cell_type": "code",
   "execution_count": 23,
   "metadata": {},
   "outputs": [
    {
     "data": {
      "text/plain": [
       "M    0.802767\n",
       "S    0.197233\n",
       "Name: marital, dtype: float64"
      ]
     },
     "execution_count": 23,
     "metadata": {},
     "output_type": "execute_result"
    }
   ],
   "source": [
    "patients.marital.value_counts(normalize = True)\n",
    "#we are dealing with mostly married people"
   ]
  },
  {
   "cell_type": "code",
   "execution_count": 24,
   "metadata": {},
   "outputs": [
    {
     "data": {
      "text/plain": [
       "313"
      ]
     },
     "execution_count": 24,
     "metadata": {},
     "output_type": "execute_result"
    }
   ],
   "source": [
    "len(patients.city.value_counts())\n",
    "#there are a total 313 cities in Massandopolis"
   ]
  },
  {
   "cell_type": "code",
   "execution_count": null,
   "metadata": {},
   "outputs": [],
   "source": []
  }
 ],
 "metadata": {
  "kernelspec": {
   "display_name": "Python 3",
   "language": "python",
   "name": "python3"
  },
  "language_info": {
   "codemirror_mode": {
    "name": "ipython",
    "version": 3
   },
   "file_extension": ".py",
   "mimetype": "text/x-python",
   "name": "python",
   "nbconvert_exporter": "python",
   "pygments_lexer": "ipython3",
   "version": "3.7.3"
  }
 },
 "nbformat": 4,
 "nbformat_minor": 2
}
